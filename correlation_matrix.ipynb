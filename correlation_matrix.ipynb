{
  "nbformat": 4,
  "nbformat_minor": 0,
  "metadata": {
    "colab": {
      "name": "correlation_matrix.ipynb",
      "private_outputs": true,
      "provenance": [],
      "collapsed_sections": [],
      "authorship_tag": "ABX9TyP1blanwvnKeNoBvXnQgRC4",
      "include_colab_link": true
    },
    "kernelspec": {
      "name": "python3",
      "display_name": "Python 3"
    },
    "language_info": {
      "name": "python"
    }
  },
  "cells": [
    {
      "cell_type": "markdown",
      "metadata": {
        "id": "view-in-github",
        "colab_type": "text"
      },
      "source": [
        "<a href=\"https://colab.research.google.com/github/codithj/stock_prediction_with_ml/blob/main/correlation_matrix.ipynb\" target=\"_parent\"><img src=\"https://colab.research.google.com/assets/colab-badge.svg\" alt=\"Open In Colab\"/></a>"
      ]
    },
    {
      "cell_type": "markdown",
      "metadata": {
        "id": "RiTdbL8f2u55"
      },
      "source": [
        "구글 드라이브 연동"
      ]
    },
    {
      "cell_type": "code",
      "metadata": {
        "id": "4hqy48gl2g42"
      },
      "source": [
        "import os\n",
        "print(os.getcwd())\n",
        "!ls"
      ],
      "execution_count": null,
      "outputs": []
    },
    {
      "cell_type": "code",
      "metadata": {
        "id": "hUb47Fav21jv"
      },
      "source": [
        "from google.colab import drive\n",
        "drive.mount('/content/gdrive/')"
      ],
      "execution_count": null,
      "outputs": []
    },
    {
      "cell_type": "markdown",
      "metadata": {
        "id": "vlwp2E2U27aq"
      },
      "source": [
        "라이브러리 임포팅"
      ]
    },
    {
      "cell_type": "code",
      "metadata": {
        "id": "iZQl5KbB276X"
      },
      "source": [
        "import os\n",
        "import sys\n",
        "import warnings\n",
        "if not sys.warnoptions:\n",
        "  warnings.simplefilter('ignore')\n",
        "import time\n",
        "import tensorflow as tf\n",
        "from sklearn.metrics import r2_score, mean_squared_error\n",
        "import pandas as pd\n",
        "import numpy as np\n",
        "import matplotlib.pyplot as plt\n",
        "import seaborn as sns\n",
        "sns.set_style('darkgrid')\n",
        "import pandas as pd\n",
        "import seaborn as sns"
      ],
      "execution_count": null,
      "outputs": []
    },
    {
      "cell_type": "markdown",
      "metadata": {
        "id": "tMuiyubG3ApE"
      },
      "source": [
        "SnP500과 인덱스 5개 불러오기"
      ]
    },
    {
      "cell_type": "code",
      "metadata": {
        "id": "sRLlDtGLGnPE"
      },
      "source": [
        "# SnP500 \n",
        "idx_snp500 = pd.read_csv(\"/content/gdrive/My Drive/study/data/index_csv/index_snp500.csv\",\n",
        "                        usecols=[1,2,3,4,5],\n",
        "                        index_col=[0],\n",
        "                        parse_dates=True)\n",
        "\n",
        "# 10년 채권\n",
        "idx_bond = pd.read_csv(\"/content/gdrive/My Drive/study/data/index_csv/index_bond.csv\",\n",
        "                        usecols=[1,2,3,4,5],\n",
        "                        index_col=[0],\n",
        "                        parse_dates=True)\n",
        "# 유로/달러 환율\n",
        "idx_eurodollar = pd.read_csv(\"/content/gdrive/My Drive/study/data/index_csv/index_eurodollar.csv\",\n",
        "                              usecols=[1,2,3,4,5],\n",
        "                              index_col=[0],\n",
        "                              parse_dates=True)\n",
        "# gbp/달러 환율\n",
        "idx_gbpdollar = pd.read_csv(\"/content/gdrive/My Drive/study/data/index_csv/index_gbpdollar.csv\",\n",
        "                              usecols=[1,2,3,4,5],\n",
        "                              index_col=[0],\n",
        "                              parse_dates=True)\n",
        "# 금 가격\n",
        "idx_gold = pd.read_csv(\"/content/gdrive/My Drive/study/data/index_csv/index_gold.csv\",\n",
        "                        usecols=[1,2,3,4,5],\n",
        "                        index_col=[0],\n",
        "                        parse_dates=True)\n",
        "# 은 가격\n",
        "idx_silver = pd.read_csv(\"/content/gdrive/My Drive/study/data/index_csv/index_silver.csv\",\n",
        "                          usecols=[1,2,3,4,5],\n",
        "                          index_col=[0],\n",
        "                          parse_dates=True)\n"
      ],
      "execution_count": null,
      "outputs": []
    },
    {
      "cell_type": "markdown",
      "metadata": {
        "id": "1b9Z6MQp3IAS"
      },
      "source": [
        "종가로 결측치 보간"
      ]
    },
    {
      "cell_type": "code",
      "metadata": {
        "id": "D0nxkc5B3KbC"
      },
      "source": [
        "snp500 = idx_snp500['close']\n",
        "count = 0\n",
        "for t in snp500:\n",
        "  t = t.replace(',', '')\n",
        "  snp500[count] = t\n",
        "  count += 1\n",
        "\n",
        "bond = idx_bond['close']\n",
        "eurodollar = idx_eurodollar['close']\n",
        "gbpdollar = idx_gbpdollar['close']\n",
        "gold = idx_gold['close']\n",
        "silver = idx_silver['close']"
      ],
      "execution_count": null,
      "outputs": []
    },
    {
      "cell_type": "code",
      "metadata": {
        "id": "pl0r3D-e3Nqj"
      },
      "source": [
        "def interpolate(df):\n",
        "    print('before:', df.isnull().sum())\n",
        "    df = df.interpolate(method='time')\n",
        "    print('after:',df[df.isna()])\n",
        "    print('after:',df.isnull().sum())\n",
        "    return df\n",
        "    "
      ],
      "execution_count": null,
      "outputs": []
    },
    {
      "cell_type": "code",
      "metadata": {
        "id": "AZWWcTMT3UwP"
      },
      "source": [
        "snp500 = snp500.astype(np.float64)\n",
        "snp500 = interpolate(snp500)\n",
        "bond = interpolate(bond)\n",
        "eurodollar = interpolate(eurodollar)\n",
        "gbpdollar = interpolate(gbpdollar)\n",
        "gold = interpolate(gold)\n",
        "silver = interpolate(silver)"
      ],
      "execution_count": null,
      "outputs": []
    },
    {
      "cell_type": "markdown",
      "metadata": {
        "id": "_eIMV7t_3tu8"
      },
      "source": [
        "정규화"
      ]
    },
    {
      "cell_type": "code",
      "metadata": {
        "id": "q0o2acjX3vMV"
      },
      "source": [
        "snp500 /= 1000\n",
        "bond /= 1000\n",
        "eurodollar /= 1000\n",
        "gbpdollar /= 1000\n",
        "gold /= 1000\n",
        "silver /= 1000\n",
        "\n",
        "snp500 = snp500.values.reshape(-1,1)\n",
        "bond = bond.values.reshape(-1,1)\n",
        "eurodollar = eurodollar.values.reshape(-1,1)\n",
        "gbpdollar = gbpdollar.values.reshape(-1,1)\n",
        "gold = gold.values.reshape(-1,1)\n",
        "silver = silver.values.reshape(-1,1)"
      ],
      "execution_count": null,
      "outputs": []
    },
    {
      "cell_type": "markdown",
      "metadata": {
        "id": "E5llCSw_L2I9"
      },
      "source": [
        "데이터프레임으로 바꾸기\n"
      ]
    },
    {
      "cell_type": "code",
      "metadata": {
        "id": "E0oIFLX2MzXi"
      },
      "source": [
        "df = pd.DataFrame({'snp500': np.array(snp500).flatten(),\n",
        "                   'bond': np.array(bond).flatten(),\n",
        "                   'eurodollar': np.array(eurodollar).flatten(),\n",
        "                   'gbpdollar': np.array(gbpdollar).flatten(),\n",
        "                   'gold': np.array(gold).flatten(),\n",
        "                   'silver': np.array(silver).flatten()})\n",
        "\n",
        "\n",
        "\n"
      ],
      "execution_count": null,
      "outputs": []
    },
    {
      "cell_type": "markdown",
      "metadata": {
        "id": "lbxxUVY5WdqE"
      },
      "source": [
        "상관관계 구하기"
      ]
    },
    {
      "cell_type": "code",
      "metadata": {
        "id": "wYskwhhSWix5"
      },
      "source": [
        "df_corr = df.corr()\n",
        "print(df_corr)"
      ],
      "execution_count": null,
      "outputs": []
    },
    {
      "cell_type": "markdown",
      "metadata": {
        "id": "wFUUktazWW0c"
      },
      "source": [
        "매트릭스"
      ]
    },
    {
      "cell_type": "code",
      "metadata": {
        "id": "hrJfrB6MWYY8"
      },
      "source": [
        "sns.heatmap(df_corr, cmap='viridis')\n",
        "plt.show()"
      ],
      "execution_count": null,
      "outputs": []
    }
  ]
}