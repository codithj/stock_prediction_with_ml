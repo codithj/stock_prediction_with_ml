{
  "nbformat": 4,
  "nbformat_minor": 0,
  "metadata": {
    "colab": {
      "name": "preprocessing_indexes.ipynb",
      "private_outputs": true,
      "provenance": [],
      "collapsed_sections": [],
      "authorship_tag": "ABX9TyNFw2lxKHnVQoyZqOcbGdyj",
      "include_colab_link": true
    },
    "kernelspec": {
      "name": "python3",
      "display_name": "Python 3"
    },
    "language_info": {
      "name": "python"
    }
  },
  "cells": [
    {
      "cell_type": "markdown",
      "metadata": {
        "id": "view-in-github",
        "colab_type": "text"
      },
      "source": [
        "<a href=\"https://colab.research.google.com/github/codithj/stock_prediction_with_ml/blob/main/preprocessing_indexes.ipynb\" target=\"_parent\"><img src=\"https://colab.research.google.com/assets/colab-badge.svg\" alt=\"Open In Colab\"/></a>"
      ]
    },
    {
      "cell_type": "markdown",
      "metadata": {
        "id": "Cknhgu01GFQ4"
      },
      "source": [
        "구글 드라이브 연동"
      ]
    },
    {
      "cell_type": "code",
      "metadata": {
        "id": "RJy7D7L_DQN-"
      },
      "source": [
        "import os\n",
        "print(os.getcwd())\n",
        "!ls"
      ],
      "execution_count": null,
      "outputs": []
    },
    {
      "cell_type": "code",
      "metadata": {
        "id": "y0crqx58GSBp"
      },
      "source": [
        "from google.colab import drive\n",
        "drive.mount('/content/gdrive/')"
      ],
      "execution_count": null,
      "outputs": []
    },
    {
      "cell_type": "markdown",
      "metadata": {
        "id": "CFTLIvXpGclL"
      },
      "source": [
        "라이브러리 임포팅"
      ]
    },
    {
      "cell_type": "code",
      "metadata": {
        "id": "dFoD6cdoGe4D"
      },
      "source": [
        "import os\n",
        "import sys\n",
        "import warnings\n",
        "if not sys.warnoptions:\n",
        "  warnings.simplefilter('ignore')\n",
        "import time\n",
        "import tensorflow as tf\n",
        "from sklearn.metrics import r2_score, mean_squared_error\n",
        "import pandas as pd\n",
        "import numpy as np\n",
        "import matplotlib.pyplot as plt\n",
        "import seaborn as sns\n",
        "sns.set_style('darkgrid')\n",
        "import pandas as pd"
      ],
      "execution_count": null,
      "outputs": []
    },
    {
      "cell_type": "markdown",
      "metadata": {
        "id": "AbH5pbZWGlIz"
      },
      "source": [
        "SnP500과 인덱스 5개 불러오기"
      ]
    },
    {
      "cell_type": "code",
      "metadata": {
        "id": "sRLlDtGLGnPE"
      },
      "source": [
        "# SnP500 \n",
        "idx_snp500 = pd.read_csv(\"/content/gdrive/My Drive/study/data/index_csv/index_snp500.csv\",\n",
        "                        usecols=[1,2,3,4,5],\n",
        "                        index_col=[0],\n",
        "                        parse_dates=True)\n",
        "\n",
        "# 10년 채권\n",
        "idx_bond = pd.read_csv(\"/content/gdrive/My Drive/study/data/index_csv/index_bond.csv\",\n",
        "                        usecols=[1,2,3,4,5],\n",
        "                        index_col=[0],\n",
        "                        parse_dates=True)\n",
        "# 유로/달러 환율\n",
        "idx_eurodollar = pd.read_csv(\"/content/gdrive/My Drive/study/data/index_csv/index_eurodollar.csv\",\n",
        "                              usecols=[1,2,3,4,5],\n",
        "                              index_col=[0],\n",
        "                              parse_dates=True)\n",
        "# gbp/달러 환율\n",
        "idx_gbpdollar = pd.read_csv(\"/content/gdrive/My Drive/study/data/index_csv/index_gbpdollar.csv\",\n",
        "                              usecols=[1,2,3,4,5],\n",
        "                              index_col=[0],\n",
        "                              parse_dates=True)\n",
        "# 금 가격\n",
        "idx_gold = pd.read_csv(\"/content/gdrive/My Drive/study/data/index_csv/index_gold.csv\",\n",
        "                        usecols=[1,2,3,4,5],\n",
        "                        index_col=[0],\n",
        "                        parse_dates=True)\n",
        "# 은 가격\n",
        "idx_silver = pd.read_csv(\"/content/gdrive/My Drive/study/data/index_csv/index_silver.csv\",\n",
        "                          usecols=[1,2,3,4,5],\n",
        "                          index_col=[0],\n",
        "                          parse_dates=True)\n"
      ],
      "execution_count": null,
      "outputs": []
    },
    {
      "cell_type": "markdown",
      "metadata": {
        "id": "RWRSwv-aJmXH"
      },
      "source": [
        "인덱스 크기 확인"
      ]
    },
    {
      "cell_type": "code",
      "metadata": {
        "id": "wOV5shr3JsST"
      },
      "source": [
        "print('snp500 - 데이터 크기:', len(idx_snp500))\n",
        "print('10년 채권 - 데이터 크기:', len(idx_bond))\n",
        "print('유로/달러 환율 - 데이터 크기:', len(idx_eurodollar))\n",
        "print('gbp/달러 환율 - 데이터 크기: ', len(idx_gbpdollar))\n",
        "print('금 가격 - 데이터 크기:', len(idx_gold))\n",
        "print('은 가격 - 데이터 크기:', len(idx_silver))"
      ],
      "execution_count": null,
      "outputs": []
    },
    {
      "cell_type": "markdown",
      "metadata": {
        "id": "Z4KN0uJkOjp2"
      },
      "source": [
        "종가('Close')로 결측치를 보간하기"
      ]
    },
    {
      "cell_type": "code",
      "metadata": {
        "id": "8dYh2m6SOmrP"
      },
      "source": [
        ""
      ],
      "execution_count": null,
      "outputs": []
    }
  ]
}