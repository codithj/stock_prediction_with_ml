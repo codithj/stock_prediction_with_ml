{
  "nbformat": 4,
  "nbformat_minor": 0,
  "metadata": {
    "colab": {
      "name": "preprocessing_indexes.ipynb",
      "private_outputs": true,
      "provenance": [],
      "collapsed_sections": []
    },
    "kernelspec": {
      "name": "python3",
      "display_name": "Python 3"
    },
    "language_info": {
      "name": "python"
    }
  },
  "cells": [
    {
      "cell_type": "markdown",
      "metadata": {
        "id": "Cknhgu01GFQ4"
      },
      "source": [
        "구글 드라이브 연동"
      ]
    },
    {
      "cell_type": "code",
      "metadata": {
        "id": "RJy7D7L_DQN-"
      },
      "source": [
        "import os\n",
        "print(os.getcwd())\n",
        "!ls"
      ],
      "execution_count": null,
      "outputs": []
    },
    {
      "cell_type": "code",
      "metadata": {
        "id": "y0crqx58GSBp"
      },
      "source": [
        "from google.colab import drive\n",
        "drive.mount('/content/gdrive/')"
      ],
      "execution_count": null,
      "outputs": []
    },
    {
      "cell_type": "markdown",
      "metadata": {
        "id": "CFTLIvXpGclL"
      },
      "source": [
        "라이브러리 임포팅"
      ]
    },
    {
      "cell_type": "code",
      "metadata": {
        "id": "dFoD6cdoGe4D"
      },
      "source": [
        "import os\n",
        "import sys\n",
        "import warnings\n",
        "if not sys.warnoptions:\n",
        "  warnings.simplefilter('ignore')\n",
        "import time\n",
        "import tensorflow as tf\n",
        "from sklearn.metrics import r2_score, mean_squared_error\n",
        "import pandas as pd\n",
        "import numpy as np\n",
        "import matplotlib.pyplot as plt\n",
        "import seaborn as sns\n",
        "sns.set_style('darkgrid')\n",
        "import pandas as pd"
      ],
      "execution_count": null,
      "outputs": []
    },
    {
      "cell_type": "markdown",
      "metadata": {
        "id": "AbH5pbZWGlIz"
      },
      "source": [
        "SnP500과 인덱스 5개 불러오기"
      ]
    },
    {
      "cell_type": "code",
      "metadata": {
        "id": "sRLlDtGLGnPE"
      },
      "source": [
        "# SnP500 \n",
        "idx_snp500 = pd.read_csv(\"/content/gdrive/My Drive/study/data/index_csv/index_snp500.csv\",\n",
        "                        usecols=[1,2,3,4,5],\n",
        "                        index_col=[0],\n",
        "                        parse_dates=True)\n",
        "\n",
        "# 10년 채권\n",
        "idx_bond = pd.read_csv(\"/content/gdrive/My Drive/study/data/index_csv/index_bond.csv\",\n",
        "                        usecols=[1,2,3,4,5],\n",
        "                        index_col=[0],\n",
        "                        parse_dates=True)\n",
        "# 유로/달러 환율\n",
        "idx_eurodollar = pd.read_csv(\"/content/gdrive/My Drive/study/data/index_csv/index_eurodollar.csv\",\n",
        "                              usecols=[1,2,3,4,5],\n",
        "                              index_col=[0],\n",
        "                              parse_dates=True)\n",
        "# gbp/달러 환율\n",
        "idx_gbpdollar = pd.read_csv(\"/content/gdrive/My Drive/study/data/index_csv/index_gbpdollar.csv\",\n",
        "                              usecols=[1,2,3,4,5],\n",
        "                              index_col=[0],\n",
        "                              parse_dates=True)\n",
        "# 금 가격\n",
        "idx_gold = pd.read_csv(\"/content/gdrive/My Drive/study/data/index_csv/index_gold.csv\",\n",
        "                        usecols=[1,2,3,4,5],\n",
        "                        index_col=[0],\n",
        "                        parse_dates=True)\n",
        "# 은 가격\n",
        "idx_silver = pd.read_csv(\"/content/gdrive/My Drive/study/data/index_csv/index_silver.csv\",\n",
        "                          usecols=[1,2,3,4,5],\n",
        "                          index_col=[0],\n",
        "                          parse_dates=True)\n"
      ],
      "execution_count": null,
      "outputs": []
    },
    {
      "cell_type": "markdown",
      "metadata": {
        "id": "RWRSwv-aJmXH"
      },
      "source": [
        "인덱스 크기 확인"
      ]
    },
    {
      "cell_type": "code",
      "metadata": {
        "id": "wOV5shr3JsST"
      },
      "source": [
        "print('snp500 - 데이터 크기:', len(idx_snp500))\n",
        "print('10년 채권 - 데이터 크기:', len(idx_bond))\n",
        "print('유로/달러 환율 - 데이터 크기:', len(idx_eurodollar))\n",
        "print('gbp/달러 환율 - 데이터 크기: ', len(idx_gbpdollar))\n",
        "print('금 가격 - 데이터 크기:', len(idx_gold))\n",
        "print('은 가격 - 데이터 크기:', len(idx_silver))"
      ],
      "execution_count": null,
      "outputs": []
    },
    {
      "cell_type": "markdown",
      "metadata": {
        "id": "Z4KN0uJkOjp2"
      },
      "source": [
        "종가('Close')로 결측치를 보간하기"
      ]
    },
    {
      "cell_type": "code",
      "metadata": {
        "id": "8dYh2m6SOmrP"
      },
      "source": [
        "snp500 = idx_snp500['close']\n",
        "count = 0\n",
        "for t in snp500:\n",
        "  t = t.replace(',', '')\n",
        "  snp500[count] = t\n",
        "  count += 1\n",
        "\n",
        "bond = idx_bond['close']\n",
        "eurodollar = idx_eurodollar['close']\n",
        "gbpdollar = idx_gbpdollar['close']\n",
        "gold = idx_gold['close']\n",
        "silver = idx_silver['close']"
      ],
      "execution_count": null,
      "outputs": []
    },
    {
      "cell_type": "code",
      "metadata": {
        "id": "YeVLMVUgU8OR"
      },
      "source": [
        "list = [snp500, bond, eurodollar, gbpdollar, gold, silver]\n",
        "list_cols = ['snp500', 'bond', 'eurodollar', 'gbpdollar', 'gold', 'silver']"
      ],
      "execution_count": null,
      "outputs": []
    },
    {
      "cell_type": "code",
      "metadata": {
        "id": "8Tt-tZO2VOF6"
      },
      "source": [
        "def check_null(list, list_cols):\n",
        "  for i, name in zip(list, list_cols):\n",
        "    print(name, 'checking ...')\n",
        "    print(i.isnull().sum())\n"
      ],
      "execution_count": null,
      "outputs": []
    },
    {
      "cell_type": "code",
      "metadata": {
        "id": "meupFOHOVZX4"
      },
      "source": [
        "check_null(list, list_cols)"
      ],
      "execution_count": null,
      "outputs": []
    },
    {
      "cell_type": "code",
      "metadata": {
        "id": "OgZBlpOFVrBM"
      },
      "source": [
        "def interpolate(df):\n",
        "    print('before:', df.isnull().sum())\n",
        "    df = df.interpolate(method='time')\n",
        "    print('after:',df[df.isna()])\n",
        "    print('after:',df.isnull().sum())\n",
        "    return df\n",
        "    \n",
        "for item in list:\n",
        "  item = interpolate(item)"
      ],
      "execution_count": null,
      "outputs": []
    },
    {
      "cell_type": "code",
      "metadata": {
        "id": "q0RCXxPqWJ6l"
      },
      "source": [
        "snp500 = snp500.astype(np.float64)\n",
        "snp500 = interpolate(snp500)\n",
        "snp500.plot()"
      ],
      "execution_count": null,
      "outputs": []
    },
    {
      "cell_type": "code",
      "metadata": {
        "id": "pUfiL2VZXc9j"
      },
      "source": [
        "bond = interpolate(bond)\n",
        "bond.plot()"
      ],
      "execution_count": null,
      "outputs": []
    },
    {
      "cell_type": "code",
      "metadata": {
        "id": "7D5N0gbdZ7sj"
      },
      "source": [
        "eurodollar = interpolate(eurodollar)\n",
        "eurodollar.plot()"
      ],
      "execution_count": null,
      "outputs": []
    },
    {
      "cell_type": "code",
      "metadata": {
        "id": "z3k3PZXPaCcs"
      },
      "source": [
        "gbpdollar = interpolate(gbpdollar)\n",
        "gbpdollar.plot()"
      ],
      "execution_count": null,
      "outputs": []
    },
    {
      "cell_type": "code",
      "metadata": {
        "id": "ZwoqyYrEaIlw"
      },
      "source": [
        "gold = interpolate(gold)\n",
        "gold.plot()"
      ],
      "execution_count": null,
      "outputs": []
    },
    {
      "cell_type": "code",
      "metadata": {
        "id": "nb5MTv3AaNKg"
      },
      "source": [
        "silver = interpolate(silver)\n",
        "silver.plot()"
      ],
      "execution_count": null,
      "outputs": []
    }
  ]
}