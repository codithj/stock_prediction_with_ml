{
  "nbformat": 4,
  "nbformat_minor": 0,
  "metadata": {
    "colab": {
      "name": "Multivariate Time Series Models for Stock Market Prediction.ipynb",
      "provenance": [],
      "authorship_tag": "ABX9TyPGJNBmA4r8QdRxVB9JMXpJ",
      "include_colab_link": true
    },
    "kernelspec": {
      "name": "python3",
      "display_name": "Python 3"
    }
  },
  "cells": [
    {
      "cell_type": "markdown",
      "metadata": {
        "id": "view-in-github",
        "colab_type": "text"
      },
      "source": [
        "<a href=\"https://colab.research.google.com/github/codithj/stock_prediction_with_ml/blob/main/Multivariate_Time_Series_Models_for_Stock_Market_Prediction.ipynb\" target=\"_parent\"><img src=\"https://colab.research.google.com/assets/colab-badge.svg\" alt=\"Open In Colab\"/></a>"
      ]
    },
    {
      "cell_type": "code",
      "metadata": {
        "id": "5HwhTek9ipSb"
      },
      "source": [
        "# Remote data access for pandas\n",
        "import pandas_datareader as webreader\n",
        "# Mathematical functions \n",
        "import math \n",
        "# Fundamental package for scientific computing with Python\n",
        "import numpy as np \n",
        "# Additional functions for analysing and manipulating data\n",
        "import pandas as pd \n",
        "# Date Functions\n",
        "from datetime import date, timedelta, datetime\n",
        "# This function adds plotting functions for calender dates\n",
        "from pandas.plotting import register_matplotlib_converters\n",
        "# Important package for visualization - we use this to plot the market data\n",
        "import matplotlib.pyplot as plt \n",
        "# Formatting dates\n",
        "import matplotlib.dates as mdates\n",
        "# Packages for measuring model performance / errors\n",
        "from sklearn.metrics import mean_absolute_error, mean_squared_error\n",
        "# Deep learning library, used for neural networks\n",
        "from keras.models import Sequential \n",
        "# Deep learning classes for recurrent and regular densely-connected layers\n",
        "from keras.layers import LSTM, Dense, Dropout\n",
        "# EarlyStopping during model training\n",
        "from keras.callbacks import EarlyStopping\n",
        "# This Scaler removes the median and scales the data according to the quantile range to normalize the price data \n",
        "from sklearn.preprocessing import RobustScaler"
      ],
      "execution_count": 1,
      "outputs": []
    },
    {
      "cell_type": "markdown",
      "metadata": {
        "id": "U7umAzFci4LD"
      },
      "source": [
        "\n",
        "Loading the data"
      ]
    },
    {
      "cell_type": "code",
      "metadata": {
        "colab": {
          "base_uri": "https://localhost:8080/",
          "height": 450
        },
        "id": "rwUARFmzi4_3",
        "outputId": "808ea757-fa7e-466b-800e-5a657f03ba03"
      },
      "source": [
        "# Setting the timeframe for the data extraction\n",
        "today = date.today()\n",
        "date_today = today.strftime(\"%Y-%m-%d\")\n",
        "date_start = '2010-01-01'\n",
        "\n",
        "# Getting NASDAQ quotes\n",
        "stockname = 'NASDAQ'\n",
        "symbol = '^IXIC'\n",
        "df = webreader.DataReader(\n",
        "    symbol, start=date_start, end=date_today, data_source=\"yahoo\"\n",
        ")\n",
        "\n",
        "# Create a quick overview of the dataset\n",
        "train_dfs = df.copy()\n",
        "train_dfs"
      ],
      "execution_count": 2,
      "outputs": [
        {
          "output_type": "execute_result",
          "data": {
            "text/html": [
              "<div>\n",
              "<style scoped>\n",
              "    .dataframe tbody tr th:only-of-type {\n",
              "        vertical-align: middle;\n",
              "    }\n",
              "\n",
              "    .dataframe tbody tr th {\n",
              "        vertical-align: top;\n",
              "    }\n",
              "\n",
              "    .dataframe thead th {\n",
              "        text-align: right;\n",
              "    }\n",
              "</style>\n",
              "<table border=\"1\" class=\"dataframe\">\n",
              "  <thead>\n",
              "    <tr style=\"text-align: right;\">\n",
              "      <th></th>\n",
              "      <th>High</th>\n",
              "      <th>Low</th>\n",
              "      <th>Open</th>\n",
              "      <th>Close</th>\n",
              "      <th>Volume</th>\n",
              "      <th>Adj Close</th>\n",
              "    </tr>\n",
              "    <tr>\n",
              "      <th>Date</th>\n",
              "      <th></th>\n",
              "      <th></th>\n",
              "      <th></th>\n",
              "      <th></th>\n",
              "      <th></th>\n",
              "      <th></th>\n",
              "    </tr>\n",
              "  </thead>\n",
              "  <tbody>\n",
              "    <tr>\n",
              "      <th>2010-01-04</th>\n",
              "      <td>2311.149902</td>\n",
              "      <td>2294.409912</td>\n",
              "      <td>2294.409912</td>\n",
              "      <td>2308.419922</td>\n",
              "      <td>1931380000</td>\n",
              "      <td>2308.419922</td>\n",
              "    </tr>\n",
              "    <tr>\n",
              "      <th>2010-01-05</th>\n",
              "      <td>2313.729980</td>\n",
              "      <td>2295.620117</td>\n",
              "      <td>2307.270020</td>\n",
              "      <td>2308.709961</td>\n",
              "      <td>2367860000</td>\n",
              "      <td>2308.709961</td>\n",
              "    </tr>\n",
              "    <tr>\n",
              "      <th>2010-01-06</th>\n",
              "      <td>2314.070068</td>\n",
              "      <td>2295.679932</td>\n",
              "      <td>2307.709961</td>\n",
              "      <td>2301.090088</td>\n",
              "      <td>2253340000</td>\n",
              "      <td>2301.090088</td>\n",
              "    </tr>\n",
              "    <tr>\n",
              "      <th>2010-01-07</th>\n",
              "      <td>2301.300049</td>\n",
              "      <td>2285.219971</td>\n",
              "      <td>2298.090088</td>\n",
              "      <td>2300.050049</td>\n",
              "      <td>2270050000</td>\n",
              "      <td>2300.050049</td>\n",
              "    </tr>\n",
              "    <tr>\n",
              "      <th>2010-01-08</th>\n",
              "      <td>2317.600098</td>\n",
              "      <td>2290.610107</td>\n",
              "      <td>2292.239990</td>\n",
              "      <td>2317.169922</td>\n",
              "      <td>2145390000</td>\n",
              "      <td>2317.169922</td>\n",
              "    </tr>\n",
              "    <tr>\n",
              "      <th>...</th>\n",
              "      <td>...</td>\n",
              "      <td>...</td>\n",
              "      <td>...</td>\n",
              "      <td>...</td>\n",
              "      <td>...</td>\n",
              "      <td>...</td>\n",
              "    </tr>\n",
              "    <tr>\n",
              "      <th>2021-02-26</th>\n",
              "      <td>13368.059570</td>\n",
              "      <td>13024.530273</td>\n",
              "      <td>13232.900391</td>\n",
              "      <td>13192.349609</td>\n",
              "      <td>5883880000</td>\n",
              "      <td>13192.349609</td>\n",
              "    </tr>\n",
              "    <tr>\n",
              "      <th>2021-03-01</th>\n",
              "      <td>13596.589844</td>\n",
              "      <td>13362.660156</td>\n",
              "      <td>13406.160156</td>\n",
              "      <td>13588.830078</td>\n",
              "      <td>5047710000</td>\n",
              "      <td>13588.830078</td>\n",
              "    </tr>\n",
              "    <tr>\n",
              "      <th>2021-03-02</th>\n",
              "      <td>13601.330078</td>\n",
              "      <td>13352.000000</td>\n",
              "      <td>13599.450195</td>\n",
              "      <td>13358.790039</td>\n",
              "      <td>4920320000</td>\n",
              "      <td>13358.790039</td>\n",
              "    </tr>\n",
              "    <tr>\n",
              "      <th>2021-03-03</th>\n",
              "      <td>13372.519531</td>\n",
              "      <td>12995.070312</td>\n",
              "      <td>13336.250000</td>\n",
              "      <td>12997.750000</td>\n",
              "      <td>5493960000</td>\n",
              "      <td>12997.750000</td>\n",
              "    </tr>\n",
              "    <tr>\n",
              "      <th>2021-03-04</th>\n",
              "      <td>13068.709961</td>\n",
              "      <td>12553.959961</td>\n",
              "      <td>12953.990234</td>\n",
              "      <td>12723.469727</td>\n",
              "      <td>7799710000</td>\n",
              "      <td>12723.469727</td>\n",
              "    </tr>\n",
              "  </tbody>\n",
              "</table>\n",
              "<p>2811 rows × 6 columns</p>\n",
              "</div>"
            ],
            "text/plain": [
              "                    High           Low  ...      Volume     Adj Close\n",
              "Date                                    ...                          \n",
              "2010-01-04   2311.149902   2294.409912  ...  1931380000   2308.419922\n",
              "2010-01-05   2313.729980   2295.620117  ...  2367860000   2308.709961\n",
              "2010-01-06   2314.070068   2295.679932  ...  2253340000   2301.090088\n",
              "2010-01-07   2301.300049   2285.219971  ...  2270050000   2300.050049\n",
              "2010-01-08   2317.600098   2290.610107  ...  2145390000   2317.169922\n",
              "...                  ...           ...  ...         ...           ...\n",
              "2021-02-26  13368.059570  13024.530273  ...  5883880000  13192.349609\n",
              "2021-03-01  13596.589844  13362.660156  ...  5047710000  13588.830078\n",
              "2021-03-02  13601.330078  13352.000000  ...  4920320000  13358.790039\n",
              "2021-03-03  13372.519531  12995.070312  ...  5493960000  12997.750000\n",
              "2021-03-04  13068.709961  12553.959961  ...  7799710000  12723.469727\n",
              "\n",
              "[2811 rows x 6 columns]"
            ]
          },
          "metadata": {
            "tags": []
          },
          "execution_count": 2
        }
      ]
    },
    {
      "cell_type": "markdown",
      "metadata": {
        "id": "cGQVH_yYi_s2"
      },
      "source": [
        "Exploring the data"
      ]
    },
    {
      "cell_type": "code",
      "metadata": {
        "colab": {
          "base_uri": "https://localhost:8080/",
          "height": 456
        },
        "id": "G7Ukci9ojCNg",
        "outputId": "a383f106-c559-479b-b521-b5c333e5e219"
      },
      "source": [
        "\n",
        "# Plot each column\n",
        "register_matplotlib_converters()\n",
        "nrows = 3\n",
        "ncols = int(round(train_dfs.shape[1] / nrows, 0))\n",
        "fig, ax = plt.subplots(nrows=nrows, ncols=ncols, sharex=True, figsize=(16, 7))\n",
        "fig.subplots_adjust(hspace=0.3, wspace=0.3)\n",
        "x = train_dfs.index\n",
        "columns = train_dfs.columns\n",
        "f = 0\n",
        "for i in range(nrows):\n",
        "    for j in range(ncols):\n",
        "        ax[i, j].xaxis.set_major_locator(mdates.YearLocator())\n",
        "        assetname = columns[f]\n",
        "        y = train_dfs[assetname]\n",
        "        f += 1\n",
        "        ax[i, j].plot(x, y, color='#039dfc', label=stockname, linewidth=1.0)\n",
        "        ax[i, j].set_title(assetname)\n",
        "        ax[i, j].tick_params(axis=\"x\", rotation=90, labelsize=10, length=0)   \n",
        "#plt.show()"
      ],
      "execution_count": 3,
      "outputs": [
        {
          "output_type": "display_data",
          "data": {
            "image/png": "[encoded data removed]",
            "text/plain": [
              "<Figure size 1152x504 with 6 Axes>"
            ]
          },
          "metadata": {
            "tags": [],
            "needs_background": "light"
          }
        }
      ]
    },
    {
      "cell_type": "markdown",
      "metadata": {
        "id": "nWoLmIqajHZs"
      },
      "source": [
        "Preprocessing and feature selection"
      ]
    },
    {
      "cell_type": "code",
      "metadata": {
        "colab": {
          "base_uri": "https://localhost:8080/",
          "height": 204
        },
        "id": "T66nQ6edjH7i",
        "outputId": "251d58ff-1bf2-4105-88c1-15c16ced52c9"
      },
      "source": [
        "# Indexing Batches\n",
        "train_df = train_dfs.sort_values(by=['Date']).copy()\n",
        "\n",
        "# We safe a copy of the dates index, before we need to reset it to numbers\n",
        "date_index = train_df.index\n",
        "\n",
        "# Adding Month and Year in separate columns\n",
        "d = pd.to_datetime(train_df.index)\n",
        "train_df['Month'] = d.strftime(\"%m\") \n",
        "train_df['Year'] = d.strftime(\"%Y\") \n",
        "\n",
        "# We reset the index, so we can convert the date-index to a number-index\n",
        "train_df = train_df.reset_index(drop=True).copy()\n",
        "train_df.head(5)"
      ],
      "execution_count": 4,
      "outputs": [
        {
          "output_type": "execute_result",
          "data": {
            "text/html": [
              "<div>\n",
              "<style scoped>\n",
              "    .dataframe tbody tr th:only-of-type {\n",
              "        vertical-align: middle;\n",
              "    }\n",
              "\n",
              "    .dataframe tbody tr th {\n",
              "        vertical-align: top;\n",
              "    }\n",
              "\n",
              "    .dataframe thead th {\n",
              "        text-align: right;\n",
              "    }\n",
              "</style>\n",
              "<table border=\"1\" class=\"dataframe\">\n",
              "  <thead>\n",
              "    <tr style=\"text-align: right;\">\n",
              "      <th></th>\n",
              "      <th>High</th>\n",
              "      <th>Low</th>\n",
              "      <th>Open</th>\n",
              "      <th>Close</th>\n",
              "      <th>Volume</th>\n",
              "      <th>Adj Close</th>\n",
              "      <th>Month</th>\n",
              "      <th>Year</th>\n",
              "    </tr>\n",
              "  </thead>\n",
              "  <tbody>\n",
              "    <tr>\n",
              "      <th>0</th>\n",
              "      <td>2311.149902</td>\n",
              "      <td>2294.409912</td>\n",
              "      <td>2294.409912</td>\n",
              "      <td>2308.419922</td>\n",
              "      <td>1931380000</td>\n",
              "      <td>2308.419922</td>\n",
              "      <td>01</td>\n",
              "      <td>2010</td>\n",
              "    </tr>\n",
              "    <tr>\n",
              "      <th>1</th>\n",
              "      <td>2313.729980</td>\n",
              "      <td>2295.620117</td>\n",
              "      <td>2307.270020</td>\n",
              "      <td>2308.709961</td>\n",
              "      <td>2367860000</td>\n",
              "      <td>2308.709961</td>\n",
              "      <td>01</td>\n",
              "      <td>2010</td>\n",
              "    </tr>\n",
              "    <tr>\n",
              "      <th>2</th>\n",
              "      <td>2314.070068</td>\n",
              "      <td>2295.679932</td>\n",
              "      <td>2307.709961</td>\n",
              "      <td>2301.090088</td>\n",
              "      <td>2253340000</td>\n",
              "      <td>2301.090088</td>\n",
              "      <td>01</td>\n",
              "      <td>2010</td>\n",
              "    </tr>\n",
              "    <tr>\n",
              "      <th>3</th>\n",
              "      <td>2301.300049</td>\n",
              "      <td>2285.219971</td>\n",
              "      <td>2298.090088</td>\n",
              "      <td>2300.050049</td>\n",
              "      <td>2270050000</td>\n",
              "      <td>2300.050049</td>\n",
              "      <td>01</td>\n",
              "      <td>2010</td>\n",
              "    </tr>\n",
              "    <tr>\n",
              "      <th>4</th>\n",
              "      <td>2317.600098</td>\n",
              "      <td>2290.610107</td>\n",
              "      <td>2292.239990</td>\n",
              "      <td>2317.169922</td>\n",
              "      <td>2145390000</td>\n",
              "      <td>2317.169922</td>\n",
              "      <td>01</td>\n",
              "      <td>2010</td>\n",
              "    </tr>\n",
              "  </tbody>\n",
              "</table>\n",
              "</div>"
            ],
            "text/plain": [
              "          High          Low         Open  ...    Adj Close  Month  Year\n",
              "0  2311.149902  2294.409912  2294.409912  ...  2308.419922     01  2010\n",
              "1  2313.729980  2295.620117  2307.270020  ...  2308.709961     01  2010\n",
              "2  2314.070068  2295.679932  2307.709961  ...  2301.090088     01  2010\n",
              "3  2301.300049  2285.219971  2298.090088  ...  2300.050049     01  2010\n",
              "4  2317.600098  2290.610107  2292.239990  ...  2317.169922     01  2010\n",
              "\n",
              "[5 rows x 8 columns]"
            ]
          },
          "metadata": {
            "tags": []
          },
          "execution_count": 4
        }
      ]
    },
    {
      "cell_type": "code",
      "metadata": {
        "colab": {
          "base_uri": "https://localhost:8080/",
          "height": 238
        },
        "id": "0-9MoNYnjRY5",
        "outputId": "e0e36f37-c8ce-4287-cbbc-566cd35a0e73"
      },
      "source": [
        "# List of considered Features\n",
        "FEATURES = ['High', 'Low', 'Open', 'Close', 'Volume', 'Month', \n",
        "            #'Adj Close'\n",
        "           ]\n",
        "print('FEATURE LIST')\n",
        "print([f for f in FEATURES])\n",
        "\n",
        "# Create the dataset with features and filter the data to the list of FEATURES\n",
        "data = pd.DataFrame(train_df)\n",
        "data_filtered = data[FEATURES]\n",
        "\n",
        "# Print the tail of the dataframe\n",
        "data_filtered.tail()"
      ],
      "execution_count": 5,
      "outputs": [
        {
          "output_type": "stream",
          "text": [
            "FEATURE LIST\n",
            "['High', 'Low', 'Open', 'Close', 'Volume', 'Month']\n"
          ],
          "name": "stdout"
        },
        {
          "output_type": "execute_result",
          "data": {
            "text/html": [
              "<div>\n",
              "<style scoped>\n",
              "    .dataframe tbody tr th:only-of-type {\n",
              "        vertical-align: middle;\n",
              "    }\n",
              "\n",
              "    .dataframe tbody tr th {\n",
              "        vertical-align: top;\n",
              "    }\n",
              "\n",
              "    .dataframe thead th {\n",
              "        text-align: right;\n",
              "    }\n",
              "</style>\n",
              "<table border=\"1\" class=\"dataframe\">\n",
              "  <thead>\n",
              "    <tr style=\"text-align: right;\">\n",
              "      <th></th>\n",
              "      <th>High</th>\n",
              "      <th>Low</th>\n",
              "      <th>Open</th>\n",
              "      <th>Close</th>\n",
              "      <th>Volume</th>\n",
              "      <th>Month</th>\n",
              "    </tr>\n",
              "  </thead>\n",
              "  <tbody>\n",
              "    <tr>\n",
              "      <th>2806</th>\n",
              "      <td>13368.059570</td>\n",
              "      <td>13024.530273</td>\n",
              "      <td>13232.900391</td>\n",
              "      <td>13192.349609</td>\n",
              "      <td>5883880000</td>\n",
              "      <td>02</td>\n",
              "    </tr>\n",
              "    <tr>\n",
              "      <th>2807</th>\n",
              "      <td>13596.589844</td>\n",
              "      <td>13362.660156</td>\n",
              "      <td>13406.160156</td>\n",
              "      <td>13588.830078</td>\n",
              "      <td>5047710000</td>\n",
              "      <td>03</td>\n",
              "    </tr>\n",
              "    <tr>\n",
              "      <th>2808</th>\n",
              "      <td>13601.330078</td>\n",
              "      <td>13352.000000</td>\n",
              "      <td>13599.450195</td>\n",
              "      <td>13358.790039</td>\n",
              "      <td>4920320000</td>\n",
              "      <td>03</td>\n",
              "    </tr>\n",
              "    <tr>\n",
              "      <th>2809</th>\n",
              "      <td>13372.519531</td>\n",
              "      <td>12995.070312</td>\n",
              "      <td>13336.250000</td>\n",
              "      <td>12997.750000</td>\n",
              "      <td>5493960000</td>\n",
              "      <td>03</td>\n",
              "    </tr>\n",
              "    <tr>\n",
              "      <th>2810</th>\n",
              "      <td>13068.709961</td>\n",
              "      <td>12553.959961</td>\n",
              "      <td>12953.990234</td>\n",
              "      <td>12723.469727</td>\n",
              "      <td>7799710000</td>\n",
              "      <td>03</td>\n",
              "    </tr>\n",
              "  </tbody>\n",
              "</table>\n",
              "</div>"
            ],
            "text/plain": [
              "              High           Low          Open         Close      Volume Month\n",
              "2806  13368.059570  13024.530273  13232.900391  13192.349609  5883880000    02\n",
              "2807  13596.589844  13362.660156  13406.160156  13588.830078  5047710000    03\n",
              "2808  13601.330078  13352.000000  13599.450195  13358.790039  4920320000    03\n",
              "2809  13372.519531  12995.070312  13336.250000  12997.750000  5493960000    03\n",
              "2810  13068.709961  12553.959961  12953.990234  12723.469727  7799710000    03"
            ]
          },
          "metadata": {
            "tags": []
          },
          "execution_count": 5
        }
      ]
    },
    {
      "cell_type": "code",
      "metadata": {
        "colab": {
          "base_uri": "https://localhost:8080/"
        },
        "id": "KvZAXCTojUzG",
        "outputId": "0b1009aa-3b33-4a4b-8bce-59a1ac57527f"
      },
      "source": [
        "\n",
        "# Calculate the number of rows in the data\n",
        "nrows = data_filtered.shape[0]\n",
        "np_data_unscaled = np.array(data_filtered)\n",
        "np_data_unscaled = np.reshape(np_data_unscaled, (nrows, -1))\n",
        "print(np_data_unscaled.shape)\n",
        "\n",
        "# Transform the data by scaling each feature to a range between 0 and 1\n",
        "scaler = RobustScaler()\n",
        "np_data = scaler.fit_transform(np_data_unscaled)\n",
        "\n",
        "# Creating a separate scaler that works on a single column for scaling predictions\n",
        "scaler_pred = RobustScaler()\n",
        "df_Close = pd.DataFrame(data_filtered['Close'])\n",
        "np_Close_scaled = scaler_pred.fit_transform(df_Close)"
      ],
      "execution_count": 6,
      "outputs": [
        {
          "output_type": "stream",
          "text": [
            "(2811, 6)\n"
          ],
          "name": "stdout"
        }
      ]
    },
    {
      "cell_type": "code",
      "metadata": {
        "colab": {
          "base_uri": "https://localhost:8080/"
        },
        "id": "yQ8bjOuvjYnC",
        "outputId": "2abae3a6-5a13-4838-f5cd-7eb5fd5aa740"
      },
      "source": [
        "#Settings\n",
        "sequence_length = 100\n",
        "\n",
        "# Split the training data into x_train and y_train data sets\n",
        "# Get the number of rows to train the model on 80% of the data \n",
        "train_data_len = math.ceil(np_data.shape[0] * 0.8) #2616\n",
        "\n",
        "# Create the training data\n",
        "train_data = np_data[0:train_data_len, :]\n",
        "x_train, y_train = [], []\n",
        "# The RNN needs data with the format of [samples, time steps, features].\n",
        "# Here, we create N samples, 100 time steps per sample, and 2 features\n",
        "for i in range(100, train_data_len):\n",
        "    x_train.append(train_data[i-sequence_length:i,:]) #contains 100 values 0-100 * columsn\n",
        "    y_train.append(train_data[i, 0]) #contains the prediction values for validation\n",
        "    \n",
        "# Convert the x_train and y_train to numpy arrays\n",
        "x_train, y_train = np.array(x_train), np.array(y_train)\n",
        "\n",
        "# Create the test data\n",
        "test_data = np_data[train_data_len - sequence_length:, :]\n",
        "\n",
        "# Split the test data into x_test and y_test\n",
        "x_test, y_test = [], []\n",
        "test_data_len = test_data.shape[0]\n",
        "for i in range(sequence_length, test_data_len):\n",
        "    x_test.append(test_data[i-sequence_length:i,:]) #contains 100 values 0-100 * columsn\n",
        "    y_test.append(test_data[i, 0]) #contains the prediction values for validation\n",
        "# Convert the x_train and y_train to numpy arrays\n",
        "x_test, y_test = np.array(x_test), np.array(y_test)\n",
        "\n",
        "# Convert the x_train and y_train to numpy arrays\n",
        "x_test = np.array(x_test); y_test = np.array(y_test)\n",
        "    \n",
        "print(x_train.shape, y_train.shape)\n",
        "print(x_test.shape, y_test.shape)"
      ],
      "execution_count": 7,
      "outputs": [
        {
          "output_type": "stream",
          "text": [
            "(2149, 100, 6) (2149,)\n",
            "(562, 100, 6) (562,)\n"
          ],
          "name": "stdout"
        }
      ]
    },
    {
      "cell_type": "markdown",
      "metadata": {
        "id": "GnImkGI8jcby"
      },
      "source": [
        "\n",
        "Model training"
      ]
    },
    {
      "cell_type": "code",
      "metadata": {
        "colab": {
          "base_uri": "https://localhost:8080/"
        },
        "id": "361vsi9gjdKZ",
        "outputId": "29590904-dddc-42b1-8612-f8910c8ed5fb"
      },
      "source": [
        "# Configure the neural network model\n",
        "model = Sequential()\n",
        "\n",
        "# Model with 100 Neurons \n",
        "# inputshape = 100 Timestamps, each with x_train.shape[2] variables\n",
        "n_neurons = x_train.shape[1] * x_train.shape[2]\n",
        "print(n_neurons, x_train.shape[1], x_train.shape[2])\n",
        "model.add(LSTM(n_neurons, return_sequences=False, \n",
        "               input_shape=(x_train.shape[1], x_train.shape[2]))) \n",
        "model.add(Dense(1, activation='relu'))\n",
        "\n",
        "# Compile the model\n",
        "model.compile(optimizer='adam', loss='mean_squared_error')"
      ],
      "execution_count": 8,
      "outputs": [
        {
          "output_type": "stream",
          "text": [
            "600 100 6\n"
          ],
          "name": "stdout"
        }
      ]
    },
    {
      "cell_type": "code",
      "metadata": {
        "colab": {
          "base_uri": "https://localhost:8080/"
        },
        "id": "CaztKGr5jzBJ",
        "outputId": "09bf0d3b-7394-4426-e681-45276006f654"
      },
      "source": [
        "\n",
        "# Training the model\n",
        "epochs = 5\n",
        "early_stop = EarlyStopping(monitor='loss', patience=2, verbose=1)\n",
        "history = model.fit(x_train, y_train, batch_size=16, \n",
        "                    epochs=epochs, callbacks=[early_stop])"
      ],
      "execution_count": 9,
      "outputs": [
        {
          "output_type": "stream",
          "text": [
            "Epoch 1/5\n",
            "135/135 [==============================] - 96s 694ms/step - loss: 0.0997\n",
            "Epoch 2/5\n",
            "135/135 [==============================] - 95s 701ms/step - loss: 0.0915\n",
            "Epoch 3/5\n",
            "135/135 [==============================] - 92s 685ms/step - loss: 0.0981\n",
            "Epoch 4/5\n",
            "135/135 [==============================] - 91s 672ms/step - loss: 0.0910\n",
            "Epoch 00004: early stopping\n"
          ],
          "name": "stdout"
        }
      ]
    },
    {
      "cell_type": "code",
      "metadata": {
        "colab": {
          "base_uri": "https://localhost:8080/",
          "height": 350
        },
        "id": "HoCGX4eMj1Dx",
        "outputId": "04e92fd7-f2c2-4809-fa9e-d2e22603decf"
      },
      "source": [
        "# Plot training & validation loss values\n",
        "fig, ax = plt.subplots(figsize=(5, 5), sharex=True)\n",
        "plt.plot(history.history[\"loss\"])\n",
        "plt.title(\"Model loss\")\n",
        "plt.ylabel(\"Loss\")\n",
        "plt.xlabel(\"Epoch\")\n",
        "ax.xaxis.set_major_locator(plt.MaxNLocator(epochs))\n",
        "plt.legend([\"Train\", \"Test\"], loc=\"upper left\")\n",
        "plt.grid()\n",
        "plt.show()"
      ],
      "execution_count": 10,
      "outputs": [
        {
          "output_type": "display_data",
          "data": {
            "image/png": "[encoded data removed]",
            "text/plain": [
              "<Figure size 360x360 with 1 Axes>"
            ]
          },
          "metadata": {
            "tags": [],
            "needs_background": "light"
          }
        }
      ]
    },
    {
      "cell_type": "markdown",
      "metadata": {
        "id": "LKXBTQXLl7Ww"
      },
      "source": [
        "# **Evaluate model performance**"
      ]
    },
    {
      "cell_type": "code",
      "metadata": {
        "colab": {
          "base_uri": "https://localhost:8080/"
        },
        "id": "cYC7U7ARmAKW",
        "outputId": "e9dc8ec3-b493-49a9-9ef9-c5aa609c2f67"
      },
      "source": [
        "\n",
        "# Get the predicted values\n",
        "predictions = model.predict(x_test)\n",
        "\n",
        "# Mean Absolute Percentage Error (MAPE)\n",
        "MAPE = np.mean((np.abs(np.subtract(y_test, predictions)/ y_test))) * 100\n",
        "print('Mean Absolute Percentage Error (MAPE): ' + str(np.round(MAPE, 2)) + ' %')\n",
        "\n",
        "# Median Absolute Percentage Error (MDAPE)\n",
        "MDAPE = np.median((np.abs(np.subtract(y_test, predictions)/ y_test)) ) * 100\n",
        "print('Median Absolute Percentage Error (MDAPE): ' + str(np.round(MDAPE, 2)) + ' %')"
      ],
      "execution_count": 11,
      "outputs": [
        {
          "output_type": "stream",
          "text": [
            "Mean Absolute Percentage Error (MAPE): 45.16 %\n",
            "Median Absolute Percentage Error (MDAPE): 36.26 %\n"
          ],
          "name": "stdout"
        }
      ]
    },
    {
      "cell_type": "code",
      "metadata": {
        "colab": {
          "base_uri": "https://localhost:8080/",
          "height": 612
        },
        "id": "KcPJnObvmG6G",
        "outputId": "9938f41f-36cc-4561-e2e6-4bdd87e9d265"
      },
      "source": [
        "# Get the predicted values\n",
        "pred_unscaled = scaler_pred.inverse_transform(predictions)\n",
        "\n",
        "# The date from which on the date is displayed\n",
        "display_start_date = pd.Timestamp('today') - timedelta(days=500)\n",
        "\n",
        "# Add the date column\n",
        "data_filtered_sub = data_filtered.copy()\n",
        "data_filtered_sub['Date'] = date_index\n",
        "\n",
        "# Add the difference between the valid and predicted prices\n",
        "train = data_filtered_sub[:train_data_len + 1]\n",
        "valid = data_filtered_sub[train_data_len:]\n",
        "valid.insert(1, \"Prediction\", pred_unscaled.ravel(), True)\n",
        "valid.insert(1, \"Difference\", valid[\"Prediction\"] - valid[\"Close\"], True)\n",
        "\n",
        "# Zoom in to a closer timeframe\n",
        "\n",
        "valid = valid[valid['Date'] > display_start_date]\n",
        "train = train[train['Date'] > display_start_date]\n",
        "\n",
        "# Visualize the data\n",
        "fig, ax1 = plt.subplots(figsize=(22, 10), sharex=True)\n",
        "xt = train['Date']; yt = train[[\"Close\"]]\n",
        "xv = valid['Date']; yv = valid[[\"Close\", \"Prediction\"]]\n",
        "plt.title(\"Predictions vs Actual Values\", fontsize=20)\n",
        "plt.ylabel(stockname, fontsize=18)\n",
        "plt.plot(xt, yt, color=\"#039dfc\", linewidth=2.0)\n",
        "plt.plot(xv, yv[\"Prediction\"], color=\"#E91D9E\", linewidth=2.0)\n",
        "plt.plot(xv, yv[\"Close\"], color=\"black\", linewidth=2.0)\n",
        "plt.legend([\"Train\", \"Test Predictions\", \"Actual Values\"], loc=\"upper left\")\n",
        "\n",
        "# # Create the bar plot with the differences\n",
        "x = valid['Date']\n",
        "y = valid[\"Difference\"]\n",
        "\n",
        "# Create custom color range for positive and negative differences\n",
        "valid.loc[y >= 0, 'diff_color'] = \"#2BC97A\"\n",
        "valid.loc[y < 0, 'diff_color'] = \"#C92B2B\"\n",
        "\n",
        "plt.bar(x, y, width=0.8, color=valid['diff_color'])\n",
        "plt.grid()\n",
        "plt.show()"
      ],
      "execution_count": 12,
      "outputs": [
        {
          "output_type": "display_data",
          "data": {
            "image/png": "[encoded data removed]",
            "text/plain": [
              "<Figure size 1584x720 with 1 Axes>"
            ]
          },
          "metadata": {
            "tags": [],
            "needs_background": "light"
          }
        }
      ]
    },
    {
      "cell_type": "markdown",
      "metadata": {
        "id": "UBzhaPvZmOat"
      },
      "source": [
        "\n",
        "**Predict next day's price**"
      ]
    },
    {
      "cell_type": "code",
      "metadata": {
        "colab": {
          "base_uri": "https://localhost:8080/"
        },
        "id": "9fayJU2LmQAy",
        "outputId": "26f40331-f361-4650-cfe7-44f7b6bdd247"
      },
      "source": [
        "\n",
        "# Get fresh data until today and create a new dataframe with only the price data\n",
        "date_start = pd.Timestamp('today') - timedelta(days=200)\n",
        "new_df = webreader.DataReader(symbol, data_source='yahoo', start=date_start, end=date_today)\n",
        "d = pd.to_datetime(new_df.index)\n",
        "new_df['Month'] = d.strftime(\"%m\") \n",
        "new_df['Year'] = d.strftime(\"%Y\") \n",
        "new_df = new_df.filter(FEATURES)\n",
        "\n",
        "# Get the last 100 day closing price values and scale the data to be values between 0 and 1\n",
        "last_100_days = new_df[-100:].values\n",
        "last_100_days_scaled = scaler.transform(last_100_days)\n",
        "\n",
        "# Create an empty list and Append past 100 days\n",
        "X_test_new = []\n",
        "X_test_new.append(last_100_days_scaled)\n",
        "\n",
        "# Convert the X_test data set to a numpy array and reshape the data\n",
        "pred_price_scaled = model.predict(np.array(X_test_new))\n",
        "pred_price_unscaled = scaler_pred.inverse_transform(pred_price_scaled)\n",
        "\n",
        "# Print last price and predicted price for the next day\n",
        "price_today = round(new_df['Close'][-1], 2)\n",
        "predicted_price = round(pred_price_unscaled.ravel()[0], 2)\n",
        "percent = round(100 - (predicted_price * 100)/price_today, 2)\n",
        "\n",
        "a = '+'\n",
        "if percent > 0:\n",
        "    a = '-'\n",
        "\n",
        "print('The close price for ' + stockname + ' at ' + str(today) + ' was: ' + str(price_today))\n",
        "print('The predicted close price is: ' + str(predicted_price) + ' (' + a + str(percent) + '%)')"
      ],
      "execution_count": 13,
      "outputs": [
        {
          "output_type": "stream",
          "text": [
            "The close price for NASDAQ at 2021-03-05 was: 12723.47\n",
            "The predicted close price is: 11438.71 (-10.1%)\n"
          ],
          "name": "stdout"
        }
      ]
    }
  ]
}