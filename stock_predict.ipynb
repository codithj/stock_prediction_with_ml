{
  "nbformat": 4,
  "nbformat_minor": 0,
  "metadata": {
    "colab": {
      "name": "stock_predict.ipynb",
      "private_outputs": true,
      "provenance": [],
      "collapsed_sections": [],
      "authorship_tag": "ABX9TyMCS30gdgqR+YfhjfVMwnh2",
      "include_colab_link": true
    },
    "kernelspec": {
      "name": "python3",
      "display_name": "Python 3"
    },
    "accelerator": "GPU"
  },
  "cells": [
    {
      "cell_type": "markdown",
      "metadata": {
        "id": "view-in-github",
        "colab_type": "text"
      },
      "source": [
        "<a href=\"https://colab.research.google.com/github/codithj/stock_prediction_with_ml/blob/main/stock_predict.ipynb\" target=\"_parent\"><img src=\"https://colab.research.google.com/assets/colab-badge.svg\" alt=\"Open In Colab\"/></a>"
      ]
    },
    {
      "cell_type": "markdown",
      "metadata": {
        "id": "VxZbISUw_eiQ"
      },
      "source": [
        "**구글 드라이브 연동**"
      ]
    },
    {
      "cell_type": "code",
      "metadata": {
        "id": "OZaM_RVcn3ys"
      },
      "source": [
        "import os\n",
        "print(os.getcwd())\n",
        "!ls\n"
      ],
      "execution_count": null,
      "outputs": []
    },
    {
      "cell_type": "code",
      "metadata": {
        "id": "VahsZNvjqf1k"
      },
      "source": [
        "from google.colab import drive\n",
        "drive.mount('/content/gdrive/')\n",
        "\n",
        "\n",
        "\n"
      ],
      "execution_count": null,
      "outputs": []
    },
    {
      "cell_type": "markdown",
      "metadata": {
        "id": "6KOxf3FVzzzm"
      },
      "source": [
        "**라이브러리 임포팅**"
      ]
    },
    {
      "cell_type": "code",
      "metadata": {
        "id": "E0ZgtKDtzx5n"
      },
      "source": [
        "import os\n",
        "import sys\n",
        "import warnings\n",
        "if not sys.warnoptions:\n",
        "  warnings.simplefilter('ignore')\n",
        "import time\n",
        "import tensorflow as tf\n",
        "from sklearn.metrics import r2_score, mean_squared_error\n",
        "import pandas as pd\n",
        "import numpy as np\n",
        "import matplotlib.pyplot as plt\n",
        "import seaborn as sns\n",
        "sns.set_style('darkgrid')\n",
        "import pandas as pd"
      ],
      "execution_count": null,
      "outputs": []
    },
    {
      "cell_type": "markdown",
      "metadata": {
        "id": "EorsZfM-AJBT"
      },
      "source": [
        "S&P500 index 데이터 불러오기\n"
      ]
    },
    {
      "cell_type": "code",
      "metadata": {
        "id": "5bb3q84Lxp2E"
      },
      "source": [
        "\n",
        "df = pd.read_csv(\"/content/gdrive/My Drive/study/data/sp500_index.csv\",\n",
        "                 usecols=[0,1,2,3,4],\n",
        "                 index_col=[0],\n",
        "                 parse_dates=True)\n",
        "\n",
        "print((df.isna().sum()))\n",
        "df.tail()"
      ],
      "execution_count": null,
      "outputs": []
    },
    {
      "cell_type": "code",
      "metadata": {
        "id": "ZSlzQ-wm5z4R"
      },
      "source": [
        "df.plot(figsize=(20, 5))\n",
        "plt.title('Prices for S&P500')\n",
        "plt.ylabel('Close price ($)')\n",
        "plt.legend(loc='best')\n",
        "plt.show()"
      ],
      "execution_count": null,
      "outputs": []
    },
    {
      "cell_type": "markdown",
      "metadata": {
        "id": "kze_xgqK_MW9"
      },
      "source": [
        "**훈련, 테스트 데이터 준비**\n"
      ]
    },
    {
      "cell_type": "code",
      "metadata": {
        "id": "3oQXQskP8qVN"
      },
      "source": [
        "# 손실함수 MAPE\n",
        "def mean_absolute_percentage_error(y_true, y_pred):\n",
        "  y_true, y_pred = np.array(y_true), np.array(y_pred)\n",
        "  return np.mean(np.abs((y_true - y_pred) / y_true)) * 100\n",
        "\n",
        "\n",
        "# 훈련, 테스트, 검증 데이터로 분리\n",
        "def split_sequence(sequence, n_steps, train_size):\n",
        "  X = list() \n",
        "  y = list()\n",
        "\n",
        "  for i in range(len(sequence)):\n",
        "    # 배열의 끝인지 확인\n",
        "    offset = i + n_steps\n",
        "    if offset > len(sequence) - 1:\n",
        "      break\n",
        "\n",
        "    # 입력과 출력 분리\n",
        "    seq_x = sequence[i:offset]\n",
        "    seq_y = sequence[offset]\n",
        "\n",
        "    X.append(seq_x)\n",
        "    y.append(seq_y)\n",
        "\n",
        "  split_X = int(len(X) * train_size)\n",
        "  split_y = int(len(y) * train_size)\n",
        "\n",
        "  # 훈련 데이터\n",
        "  X_train = np.array(X[:split_X])\n",
        "  y_train = np.array(y[:split_y])\n",
        "\n",
        "  split_x_val = int(len(X[int(split_X):]) * 0.5)\n",
        "  split_y_val = int(len(y[int(split_y):]) * 0.5)\n",
        "  print(f'훈련데이터 사이즈: {(split_x_val, split_y_val)}')\n",
        "\n",
        "  # 테스트 데이터\n",
        "  X_test = np.array(X[split_X:(split_X + split_x_val)])\n",
        "  y_test = np.array(y[split_y:(split_y + split_y_val)])\n",
        "\n",
        "  # 검증 데이터\n",
        "  X_val = np.array(X[(split_X + split_x_val):])\n",
        "  y_val = np.array(y[(split_y + split_y_val):])\n",
        "\n",
        "  return X_train, X_test, y_train, y_test, X_val, y_val"
      ],
      "execution_count": null,
      "outputs": []
    },
    {
      "cell_type": "code",
      "metadata": {
        "id": "ju4qFuaLTu8I"
      },
      "source": [
        "# 입력 시퀀스\n",
        "raw_seq = list(df['Close'].values)\n",
        "raw_seq_len = len(raw_seq)\n",
        "raw_seq_desc = str(raw_seq_len) + ' days, ' + str(raw_seq_len / 5) + ' weeks';\n",
        "print(f'입력 데이터의 기간:  {raw_seq_desc}')\n",
        "\n",
        "# time steps 설정\n",
        "n_steps = 7\n",
        "\n",
        "# 데이터 분리\n",
        "X_train, X_test, y_train, y_test, X_val, y_val = split_sequence(raw_seq,\n",
        "                                                                n_steps,\n",
        "                                                                train_size=0.9)\n",
        "# 데이터 현황\n",
        "print('데이터 현황: ',\n",
        "      (len(X_train),\n",
        "       len(X_test),\n",
        "       len(X_val),\n",
        "       len(y_train),\n",
        "       len(y_test),\n",
        "       len(y_val)))\n",
        "\n",
        "model_name = {}"
      ],
      "execution_count": null,
      "outputs": []
    },
    {
      "cell_type": "markdown",
      "metadata": {
        "id": "_wOsHMhgU9vN"
      },
      "source": [
        "**Prediction with LSTM**"
      ]
    },
    {
      "cell_type": "code",
      "metadata": {
        "id": "WA04YaB6U_aw"
      },
      "source": [
        "# reshape from [samples, timesteps] into [samples, timesteps, features]\n",
        "n_features = 1\n",
        "X_train = X_train.reshape((X_train.shape[0], X_train.shape[1], n_features))\n",
        "X_test = X_test.reshape((X_test.shape[0], X_test.shape[1], n_features))\n",
        "X_val = X_val.reshape((X_val.shape[0], X_val.shape[1], n_features))\n",
        "\n",
        "# LSTM 모델\n",
        "model_lstm = tf.keras.Sequential([\n",
        "    tf.keras.layers.LSTM(200,\n",
        "                         activation='relu',\n",
        "                         input_shape=(n_steps, n_features)),\n",
        "    tf.keras.layers.Dense(1)\n",
        "])\n",
        "\n",
        "model_lstm.compile(optimizer='adam', loss='mape')\n",
        "print((model_lstm.summary()))"
      ],
      "execution_count": null,
      "outputs": []
    },
    {
      "cell_type": "code",
      "metadata": {
        "id": "jAuY7JeRWXvE"
      },
      "source": [
        "# fit model\n",
        "fit_model = model_lstm.fit(\n",
        "  X_train,\n",
        "  y_train,\n",
        "  epochs=50,\n",
        "  verbose=2,\n",
        "  callbacks=[tf.keras.callbacks.EarlyStopping()],\n",
        "  validation_data=(X_val, y_val))"
      ],
      "execution_count": null,
      "outputs": []
    },
    {
      "cell_type": "code",
      "metadata": {
        "id": "HiMmEPbLWgkZ"
      },
      "source": [
        "# prediction 결과\n",
        "yhat = model_lstm.predict(X_test, verbose=0)\n",
        "r2 = round(r2_score(y_test, yhat), 3)\n",
        "mape = round(mean_absolute_percentage_error(y_test, yhat), 3)\n",
        "\n",
        "file_model = './models/lstm.h5'\n",
        "model_name[r2] = file_model\n",
        "print(f'모델 위치: {model_name}')\n",
        "model_lstm.save(file_model)\n",
        "\n",
        "print(f'결과 -> r2: {r2} MAPE: {mape}')"
      ],
      "execution_count": null,
      "outputs": []
    },
    {
      "cell_type": "code",
      "metadata": {
        "id": "fAKt3BtyWk3P"
      },
      "source": [
        "plt.figure(figsize=(20, 4))\n",
        "plt.plot(fit_model.history['loss'], label='train_loss')\n",
        "plt.plot(fit_model.history['val_loss'], label='val_loss')\n",
        "plt.legend(loc='best')\n",
        "plt.show()\n",
        "\n",
        "plt.figure(figsize=(20, 4))\n",
        "plt.plot(y_test, color='b', label='Actual')\n",
        "plt.plot(yhat, color='r', label='Pred')\n",
        "plt.legend(loc='best')\n",
        "plt.show()"
      ],
      "execution_count": null,
      "outputs": []
    }
  ]
}