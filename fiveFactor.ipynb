{
  "nbformat": 4,
  "nbformat_minor": 0,
  "metadata": {
    "colab": {
      "name": "fiveFactor.ipynb",
      "private_outputs": true,
      "provenance": [],
      "collapsed_sections": [],
      "authorship_tag": "ABX9TyPFmaJg1q4Mc++aOZhqiZ6G",
      "include_colab_link": true
    },
    "kernelspec": {
      "name": "python3",
      "display_name": "Python 3"
    }
  },
  "cells": [
    {
      "cell_type": "markdown",
      "metadata": {
        "id": "view-in-github",
        "colab_type": "text"
      },
      "source": [
        "<a href=\"https://colab.research.google.com/github/codithj/stock_prediction_with_ml/blob/main/fiveFactor.ipynb\" target=\"_parent\"><img src=\"https://colab.research.google.com/assets/colab-badge.svg\" alt=\"Open In Colab\"/></a>"
      ]
    },
    {
      "cell_type": "markdown",
      "metadata": {
        "id": "NAbE5Isj0SLt"
      },
      "source": [
        "**Google Drive Connection**"
      ]
    },
    {
      "cell_type": "code",
      "metadata": {
        "id": "5lkeHgv00RNu"
      },
      "source": [
        "import os\n",
        "print(os.getcwd())\n",
        "!ls"
      ],
      "execution_count": null,
      "outputs": []
    },
    {
      "cell_type": "code",
      "metadata": {
        "id": "RsrryFQd0gZf"
      },
      "source": [
        "from google.colab import drive\n",
        "drive.mount('/content/gdrive/')"
      ],
      "execution_count": null,
      "outputs": []
    },
    {
      "cell_type": "markdown",
      "metadata": {
        "id": "_zPdMc4o1J49"
      },
      "source": [
        "**Importing Libs**"
      ]
    },
    {
      "cell_type": "code",
      "metadata": {
        "id": "fRrk5EGY1MaZ"
      },
      "source": [
        "import os\n",
        "import sys\n",
        "import warnings\n",
        "if not sys.warnoptions:\n",
        "  warnings.simplefilter('ignore')\n",
        "import time\n",
        "import tensorflow as tf\n",
        "from sklearn.metrics import r2_score, mean_squared_error\n",
        "import pandas as pd\n",
        "import numpy as np\n",
        "import matplotlib.pyplot as plt\n",
        "import seaborn as sns\n",
        "sns.set_style('darkgrid')\n",
        "import pandas as pd"
      ],
      "execution_count": null,
      "outputs": []
    },
    {
      "cell_type": "markdown",
      "metadata": {
        "id": "BE4qwAPCdPwh"
      },
      "source": [
        "**Data Load**"
      ]
    },
    {
      "cell_type": "code",
      "metadata": {
        "id": "MacMTx58dR5o"
      },
      "source": [
        "gold_df = pd.read_csv(\"/content/gdrive/My Drive/study/data/gold(GC=F).csv\",\n",
        "                 usecols=[0,1,2,3,4],\n",
        "                 index_col=[0],\n",
        "                 parse_dates=True)\n",
        "\n",
        "print('DEBUG: Gold ====== \\n',(gold_df.isna().sum()))\n",
        "\n",
        "silver_df = pd.read_csv(\"/content/gdrive/My Drive/study/data/silver(SI=F).csv\",\n",
        "                 usecols=[0,1,2,3,4],\n",
        "                 index_col=[0],\n",
        "                 parse_dates=True)\n",
        "\n",
        "print('DEBUG: Silver ====== \\n',(silver_df.isna().sum()))\n",
        "\n",
        "eurodallar_df = pd.read_csv(\"/content/gdrive/My Drive/study/data/silver(SI=F).csv\",\n",
        "                 usecols=[0,1,2,3,4],\n",
        "                 index_col=[0],\n",
        "                 parse_dates=True)\n",
        "\n",
        "print('DEBUG: Euro/Dollar ====== \\n',(eurodallar_df.isna().sum()))\n",
        "\n",
        "tenyearbond_df = pd.read_csv(\"/content/gdrive/My Drive/study/data/10yearbond(^TNX).csv\",\n",
        "                 usecols=[0,1,2,3,4],\n",
        "                 index_col=[0],\n",
        "                 parse_dates=True)\n",
        "\n",
        "print('DEBUG: 10year Bond ====== \\n',(tenyearbond_df.isna().sum()))\n",
        "\n",
        "gbpus_df = pd.read_csv(\"/content/gdrive/My Drive/study/data/gbpusd(GBPUSD=X).csv\",\n",
        "                 usecols=[0,1,2,3,4],\n",
        "                 index_col=[0],\n",
        "                 parse_dates=True)\n",
        "\n",
        "print('DEBUG: Gbp/Us Dollar ====== \\n',(gbpus_df.isna().sum()))"
      ],
      "execution_count": null,
      "outputs": []
    }
  ]
}