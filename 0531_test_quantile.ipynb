{
  "nbformat": 4,
  "nbformat_minor": 0,
  "metadata": {
    "accelerator": "GPU",
    "colab": {
      "name": "0531_test_quantile.ipynb",
      "provenance": [],
      "collapsed_sections": [],
      "machine_shape": "hm",
      "include_colab_link": true
    },
    "kernelspec": {
      "display_name": "Python 3",
      "language": "python",
      "name": "python3"
    },
    "language_info": {
      "codemirror_mode": {
        "name": "ipython",
        "version": 3
      },
      "file_extension": ".py",
      "mimetype": "text/x-python",
      "name": "python",
      "nbconvert_exporter": "python",
      "pygments_lexer": "ipython3",
      "version": "3.7.9"
    }
  },
  "cells": [
    {
      "cell_type": "markdown",
      "metadata": {
        "id": "view-in-github",
        "colab_type": "text"
      },
      "source": [
        "<a href=\"https://colab.research.google.com/github/codithj/stock_prediction_with_ml/blob/main/0531_test_quantile.ipynb\" target=\"_parent\"><img src=\"https://colab.research.google.com/assets/colab-badge.svg\" alt=\"Open In Colab\"/></a>"
      ]
    },
    {
      "cell_type": "code",
      "metadata": {
        "colab": {
          "base_uri": "https://localhost:8080/"
        },
        "id": "HK0hM4Y-0lWZ",
        "outputId": "1803600c-4e40-41eb-907d-7474ad6e6e94"
      },
      "source": [
        "from google.colab import drive\n",
        "drive.mount('/content/gdrive')"
      ],
      "execution_count": null,
      "outputs": [
        {
          "output_type": "stream",
          "text": [
            "Mounted at /content/gdrive\n"
          ],
          "name": "stdout"
        }
      ]
    },
    {
      "cell_type": "markdown",
      "metadata": {
        "id": "R6mAWLYq1IXs"
      },
      "source": [
        "# Import"
      ]
    },
    {
      "cell_type": "code",
      "metadata": {
        "id": "fbLEGT101KK3",
        "colab": {
          "base_uri": "https://localhost:8080/"
        },
        "outputId": "0aab513b-dcf8-4fb7-b822-815a7eede5b6"
      },
      "source": [
        "import os\n",
        "import numpy as np\n",
        "import pandas as pd\n",
        "import pandas_datareader.data as web\n",
        "import datetime\n",
        "import matplotlib.pyplot as plt\n",
        "import seaborn as sns\n",
        "from scipy import stats\n",
        "from statsmodels.tsa.stattools import coint,adfuller,kpss\n",
        "from scipy.stats import f\n",
        "from scipy.stats import f_oneway\n",
        "import torch.nn.functional as F\n",
        "from statsmodels.stats.anova import anova_lm\n",
        "from sklearn.preprocessing import MinMaxScaler\n",
        "import plotly.express as px\n",
        "import torch\n",
        "import torch.nn as nn\n",
        "from torch.autograd import Variable\n",
        "from sklearn.preprocessing import MinMaxScaler\n",
        "import pandas_datareader.data as pdr\n",
        "import datetime\n",
        "import math\n",
        "import matplotlib.pyplot as plt\n",
        "\n",
        "from torch.utils.data import Dataset,DataLoader"
      ],
      "execution_count": null,
      "outputs": [
        {
          "output_type": "stream",
          "text": [
            "/usr/local/lib/python3.7/dist-packages/statsmodels/tools/_testing.py:19: FutureWarning: pandas.util.testing is deprecated. Use the functions in the public API at pandas.testing instead.\n",
            "  import pandas.util.testing as tm\n"
          ],
          "name": "stderr"
        }
      ]
    },
    {
      "cell_type": "code",
      "metadata": {
        "id": "MydF8bllzyDO"
      },
      "source": [
        "import os\n",
        "import numpy as np\n",
        "import pandas as pd\n",
        "import pandas_datareader.data as web\n",
        "import datetime\n",
        "import matplotlib.pyplot as plt"
      ],
      "execution_count": null,
      "outputs": []
    },
    {
      "cell_type": "code",
      "metadata": {
        "id": "g-AUYGH2k4rG"
      },
      "source": [
        "import random\n",
        "random_seed= 827\n",
        "torch.manual_seed(random_seed)\n",
        "torch.cuda.manual_seed(random_seed)\n",
        "torch.cuda.manual_seed_all(random_seed) # if use multi-GPU\n",
        "torch.backends.cudnn.deterministic = True\n",
        "torch.backends.cudnn.benchmark = False\n",
        "np.random.seed(random_seed)\n",
        "random.seed(random_seed)"
      ],
      "execution_count": null,
      "outputs": []
    },
    {
      "cell_type": "markdown",
      "metadata": {
        "id": "m1wZlBsQ3laX"
      },
      "source": [
        "# Data Load"
      ]
    },
    {
      "cell_type": "code",
      "metadata": {
        "id": "z-Ys5O6W1Lad"
      },
      "source": [
        "btc = pd.read_csv('/content/gdrive/Shareddrives/nlp paper writing/data/final/btc_usd.csv')\n",
        "dow_rus_nas = pd.read_csv('/content/gdrive/Shareddrives/nlp paper writing/data/final/dow_russell_nasdaq_oil_interest.csv')\n",
        "dow_rus_nas = dow_rus_nas.drop('Unnamed: 0',axis=1)\n",
        "ftse = pd.read_csv('/content/gdrive/Shareddrives/nlp paper writing/data/final/ftse.csv')\n",
        "index_bond = pd.read_csv('/content/gdrive/Shareddrives/nlp paper writing/data/final/index_bond.csv').close\n",
        "index_eurodollar = pd.read_csv('/content/gdrive/Shareddrives/nlp paper writing/data/final/index_eurodollar.csv').close\n",
        "index_gbpdollar = pd.read_csv('/content/gdrive/Shareddrives/nlp paper writing/data/final/index_gbpdollar.csv').close\n",
        "index_gold=pd.read_csv('/content/gdrive/Shareddrives/nlp paper writing/data/final/index_gold.csv').close\n",
        "index_silver =  pd.read_csv('/content/gdrive/Shareddrives/nlp paper writing/data/final/index_silver.csv').close\n",
        "index_snp = pd.read_csv('/content/gdrive/Shareddrives/nlp paper writing/data/final/index_snp500.csv').close.str.replace(',', '')\n",
        "index_snp = index_snp.str.replace('.','').astype(int)\n",
        "n225 = pd.read_csv('/content/gdrive/Shareddrives/nlp paper writing/data/final/n225.csv')\n",
        "jpy = pd.read_csv('/content/gdrive/Shareddrives/nlp paper writing/data/final/usd_jpy.csv')\n",
        "train_mj = pd.read_csv('/content/gdrive/Shareddrives/nlp paper writing/data/final/train_set_mj.csv')"
      ],
      "execution_count": null,
      "outputs": []
    },
    {
      "cell_type": "code",
      "metadata": {
        "colab": {
          "base_uri": "https://localhost:8080/",
          "height": 419
        },
        "id": "eSDvxrZRwjZ7",
        "outputId": "26406c82-4d56-4d8d-dd8e-02df174b0fd9"
      },
      "source": [
        "train_mj2 = train_mj[['usd_jpy','btc_usd','ftse','n225']]\n",
        "train_mj2"
      ],
      "execution_count": null,
      "outputs": [
        {
          "output_type": "execute_result",
          "data": {
            "text/html": [
              "<div>\n",
              "<style scoped>\n",
              "    .dataframe tbody tr th:only-of-type {\n",
              "        vertical-align: middle;\n",
              "    }\n",
              "\n",
              "    .dataframe tbody tr th {\n",
              "        vertical-align: top;\n",
              "    }\n",
              "\n",
              "    .dataframe thead th {\n",
              "        text-align: right;\n",
              "    }\n",
              "</style>\n",
              "<table border=\"1\" class=\"dataframe\">\n",
              "  <thead>\n",
              "    <tr style=\"text-align: right;\">\n",
              "      <th></th>\n",
              "      <th>usd_jpy</th>\n",
              "      <th>btc_usd</th>\n",
              "      <th>ftse</th>\n",
              "      <th>n225</th>\n",
              "    </tr>\n",
              "  </thead>\n",
              "  <tbody>\n",
              "    <tr>\n",
              "      <th>0</th>\n",
              "      <td>105.556000</td>\n",
              "      <td>11573.299805</td>\n",
              "      <td>7116.000000</td>\n",
              "      <td>21042.089844</td>\n",
              "    </tr>\n",
              "    <tr>\n",
              "      <th>1</th>\n",
              "      <td>106.250000</td>\n",
              "      <td>10779.900391</td>\n",
              "      <td>7146.799805</td>\n",
              "      <td>21417.759766</td>\n",
              "    </tr>\n",
              "    <tr>\n",
              "      <th>2</th>\n",
              "      <td>105.537003</td>\n",
              "      <td>9965.570313</td>\n",
              "      <td>7157.799805</td>\n",
              "      <td>21252.720703</td>\n",
              "    </tr>\n",
              "    <tr>\n",
              "      <th>3</th>\n",
              "      <td>106.185997</td>\n",
              "      <td>9395.009766</td>\n",
              "      <td>7203.200195</td>\n",
              "      <td>21368.070313</td>\n",
              "    </tr>\n",
              "    <tr>\n",
              "      <th>4</th>\n",
              "      <td>106.405998</td>\n",
              "      <td>9337.549805</td>\n",
              "      <td>7224.500000</td>\n",
              "      <td>21469.199219</td>\n",
              "    </tr>\n",
              "    <tr>\n",
              "      <th>...</th>\n",
              "      <td>...</td>\n",
              "      <td>...</td>\n",
              "      <td>...</td>\n",
              "      <td>...</td>\n",
              "    </tr>\n",
              "    <tr>\n",
              "      <th>752</th>\n",
              "      <td>106.502998</td>\n",
              "      <td>49631.242188</td>\n",
              "      <td>6588.500000</td>\n",
              "      <td>29663.500000</td>\n",
              "    </tr>\n",
              "    <tr>\n",
              "      <th>753</th>\n",
              "      <td>106.850998</td>\n",
              "      <td>48378.988281</td>\n",
              "      <td>6613.799805</td>\n",
              "      <td>29408.169922</td>\n",
              "    </tr>\n",
              "    <tr>\n",
              "      <th>754</th>\n",
              "      <td>106.758003</td>\n",
              "      <td>50538.242188</td>\n",
              "      <td>6675.500000</td>\n",
              "      <td>29559.099609</td>\n",
              "    </tr>\n",
              "    <tr>\n",
              "      <th>755</th>\n",
              "      <td>107.057999</td>\n",
              "      <td>48561.167969</td>\n",
              "      <td>6650.899902</td>\n",
              "      <td>28930.109375</td>\n",
              "    </tr>\n",
              "    <tr>\n",
              "      <th>756</th>\n",
              "      <td>107.955002</td>\n",
              "      <td>48927.304688</td>\n",
              "      <td>6630.500000</td>\n",
              "      <td>28864.320313</td>\n",
              "    </tr>\n",
              "  </tbody>\n",
              "</table>\n",
              "<p>757 rows × 4 columns</p>\n",
              "</div>"
            ],
            "text/plain": [
              "        usd_jpy       btc_usd         ftse          n225\n",
              "0    105.556000  11573.299805  7116.000000  21042.089844\n",
              "1    106.250000  10779.900391  7146.799805  21417.759766\n",
              "2    105.537003   9965.570313  7157.799805  21252.720703\n",
              "3    106.185997   9395.009766  7203.200195  21368.070313\n",
              "4    106.405998   9337.549805  7224.500000  21469.199219\n",
              "..          ...           ...          ...           ...\n",
              "752  106.502998  49631.242188  6588.500000  29663.500000\n",
              "753  106.850998  48378.988281  6613.799805  29408.169922\n",
              "754  106.758003  50538.242188  6675.500000  29559.099609\n",
              "755  107.057999  48561.167969  6650.899902  28930.109375\n",
              "756  107.955002  48927.304688  6630.500000  28864.320313\n",
              "\n",
              "[757 rows x 4 columns]"
            ]
          },
          "metadata": {
            "tags": []
          },
          "execution_count": 6
        }
      ]
    },
    {
      "cell_type": "markdown",
      "metadata": {
        "id": "HSx5NIlEnTNB"
      },
      "source": [
        "## Interpolate"
      ]
    },
    {
      "cell_type": "code",
      "metadata": {
        "colab": {
          "base_uri": "https://localhost:8080/"
        },
        "id": "zPWB-rV4mk_6",
        "outputId": "1e93b19c-7c5d-4d5d-a42f-173fce35ff4b"
      },
      "source": [
        "def interpolate(df):\n",
        "    print('before:', df.isnull().sum())\n",
        "    df = df.interpolate(method='linear')\n",
        "    print('after:',df.isnull().sum())\n",
        "    return df\n",
        "\n",
        "# hj.lee: 여기에서 하는 것이 맞는지 확인 필요\n",
        "print('DEBUG: index_snp = ', len(index_snp))\n",
        "logReturns = index_snp[4:756].apply(np.log).diff().dropna()\n",
        "print('DEBUG: index_snp =', index_snp)\n",
        "print('DEBUG: logReturns = ', logReturns)\n",
        "\n",
        "\n",
        "df_list = [index_snp, dow_rus_nas,index_bond,index_eurodollar,index_gbpdollar,index_gold,index_silver,train_mj2]\n",
        "\n",
        "for i in range(len(df_list)):\n",
        "    df_list[i] = interpolate(df_list[i]) "
      ],
      "execution_count": null,
      "outputs": [
        {
          "output_type": "stream",
          "text": [
            "DEBUG: index_snp =  757\n",
            "DEBUG: index_snp = 0      272094\n",
            "1      272812\n",
            "2      272680\n",
            "3      273897\n",
            "4      278657\n",
            "        ...  \n",
            "752    390182\n",
            "753    387029\n",
            "754    381972\n",
            "755    376847\n",
            "756    384194\n",
            "Name: close, Length: 757, dtype: int64\n",
            "DEBUG: logReturns =  5     -0.001275\n",
            "6     -0.006384\n",
            "7     -0.005741\n",
            "8     -0.000782\n",
            "9      0.001702\n",
            "         ...   \n",
            "751   -0.004761\n",
            "752    0.023512\n",
            "753   -0.008114\n",
            "754   -0.013152\n",
            "755   -0.013508\n",
            "Name: close, Length: 751, dtype: float64\n",
            "before: 0\n",
            "after: 0\n",
            "before: russell2000          0\n",
            "dow                  0\n",
            "nasdaq               0\n",
            "crude_oil            0\n",
            "fed_fund_interest    0\n",
            "dtype: int64\n",
            "after: russell2000          0\n",
            "dow                  0\n",
            "nasdaq               0\n",
            "crude_oil            0\n",
            "fed_fund_interest    0\n",
            "dtype: int64\n",
            "before: 8\n",
            "after: 0\n",
            "before: 21\n",
            "after: 0\n",
            "before: 21\n",
            "after: 0\n",
            "before: 8\n",
            "after: 0\n",
            "before: 8\n",
            "after: 0\n",
            "before: usd_jpy    0\n",
            "btc_usd    0\n",
            "ftse       0\n",
            "n225       0\n",
            "dtype: int64\n",
            "after: usd_jpy    0\n",
            "btc_usd    0\n",
            "ftse       0\n",
            "n225       0\n",
            "dtype: int64\n"
          ],
          "name": "stdout"
        }
      ]
    },
    {
      "cell_type": "markdown",
      "metadata": {
        "id": "IzAjewNJ3kbP"
      },
      "source": [
        "## Concat index"
      ]
    },
    {
      "cell_type": "code",
      "metadata": {
        "colab": {
          "base_uri": "https://localhost:8080/"
        },
        "id": "TlczXYCT2EcO",
        "outputId": "01a4cd25-cff7-42cf-d67b-e3aec0a229a0"
      },
      "source": [
        "res = pd.concat(df_list,axis=1)\n",
        "res.columns = ['snp500','russell','dow','nasdaq','crude_oil','interest','bond','eurodollar','gpbdollar','gold','silver','jpy','btc','ftse','n225']\n",
        "print(res.head(3))"
      ],
      "execution_count": null,
      "outputs": [
        {
          "output_type": "stream",
          "text": [
            "   snp500      russell           dow  ...           btc         ftse          n225\n",
            "0  272094  1546.050049  24874.759766  ...  11573.299805  7116.000000  21042.089844\n",
            "1  272812  1562.199951  24884.119141  ...  10779.900391  7146.799805  21417.759766\n",
            "2  272680  1574.530029  24801.359375  ...   9965.570313  7157.799805  21252.720703\n",
            "\n",
            "[3 rows x 15 columns]\n"
          ],
          "name": "stdout"
        }
      ]
    },
    {
      "cell_type": "markdown",
      "metadata": {
        "id": "3hZD9Pp69hq7"
      },
      "source": [
        "# Analysis for Stock Selection"
      ]
    },
    {
      "cell_type": "markdown",
      "metadata": {
        "id": "gZAdJTCV6LBn"
      },
      "source": [
        "## Correlation Matrix \n",
        "- Pearson 상관도 구하기"
      ]
    },
    {
      "cell_type": "code",
      "metadata": {
        "colab": {
          "base_uri": "https://localhost:8080/",
          "height": 327
        },
        "id": "JKZCZJM29D6t",
        "outputId": "be63e56e-28de-43cb-9d8f-f66e0266901e"
      },
      "source": [
        "sns.heatmap(res.corr())"
      ],
      "execution_count": null,
      "outputs": [
        {
          "output_type": "execute_result",
          "data": {
            "text/plain": [
              "<matplotlib.axes._subplots.AxesSubplot at 0x7f90aa532c10>"
            ]
          },
          "metadata": {
            "tags": []
          },
          "execution_count": 9
        },
        {
          "output_type": "display_data",
          "data": {
            "image/png": "[encoded data removed]",
            "text/plain": [
              "<Figure size 432x288 with 2 Axes>"
            ]
          },
          "metadata": {
            "tags": [],
            "needs_background": "light"
          }
        }
      ]
    },
    {
      "cell_type": "code",
      "metadata": {
        "colab": {
          "base_uri": "https://localhost:8080/",
          "height": 514
        },
        "id": "VCZXW3GS6B-I",
        "outputId": "b4042d01-0925-4eaf-aae2-1a13daa41ef3"
      },
      "source": [
        "res.corr()"
      ],
      "execution_count": null,
      "outputs": [
        {
          "output_type": "execute_result",
          "data": {
            "text/html": [
              "<div>\n",
              "<style scoped>\n",
              "    .dataframe tbody tr th:only-of-type {\n",
              "        vertical-align: middle;\n",
              "    }\n",
              "\n",
              "    .dataframe tbody tr th {\n",
              "        vertical-align: top;\n",
              "    }\n",
              "\n",
              "    .dataframe thead th {\n",
              "        text-align: right;\n",
              "    }\n",
              "</style>\n",
              "<table border=\"1\" class=\"dataframe\">\n",
              "  <thead>\n",
              "    <tr style=\"text-align: right;\">\n",
              "      <th></th>\n",
              "      <th>snp500</th>\n",
              "      <th>russell</th>\n",
              "      <th>dow</th>\n",
              "      <th>nasdaq</th>\n",
              "      <th>crude_oil</th>\n",
              "      <th>interest</th>\n",
              "      <th>bond</th>\n",
              "      <th>eurodollar</th>\n",
              "      <th>gpbdollar</th>\n",
              "      <th>gold</th>\n",
              "      <th>silver</th>\n",
              "      <th>jpy</th>\n",
              "      <th>btc</th>\n",
              "      <th>ftse</th>\n",
              "      <th>n225</th>\n",
              "    </tr>\n",
              "  </thead>\n",
              "  <tbody>\n",
              "    <tr>\n",
              "      <th>snp500</th>\n",
              "      <td>1.000000</td>\n",
              "      <td>0.716448</td>\n",
              "      <td>0.933772</td>\n",
              "      <td>0.962178</td>\n",
              "      <td>-0.182109</td>\n",
              "      <td>-0.640029</td>\n",
              "      <td>0.718655</td>\n",
              "      <td>0.367844</td>\n",
              "      <td>0.433821</td>\n",
              "      <td>-0.639182</td>\n",
              "      <td>-0.402025</td>\n",
              "      <td>-0.622402</td>\n",
              "      <td>0.778101</td>\n",
              "      <td>-0.285663</td>\n",
              "      <td>0.854798</td>\n",
              "    </tr>\n",
              "    <tr>\n",
              "      <th>russell</th>\n",
              "      <td>0.716448</td>\n",
              "      <td>1.000000</td>\n",
              "      <td>0.807427</td>\n",
              "      <td>0.627664</td>\n",
              "      <td>0.446655</td>\n",
              "      <td>-0.144200</td>\n",
              "      <td>0.101815</td>\n",
              "      <td>0.567200</td>\n",
              "      <td>0.562972</td>\n",
              "      <td>0.017627</td>\n",
              "      <td>0.147873</td>\n",
              "      <td>-0.241747</td>\n",
              "      <td>0.768477</td>\n",
              "      <td>0.278334</td>\n",
              "      <td>0.925319</td>\n",
              "    </tr>\n",
              "    <tr>\n",
              "      <th>dow</th>\n",
              "      <td>0.933772</td>\n",
              "      <td>0.807427</td>\n",
              "      <td>1.000000</td>\n",
              "      <td>0.810067</td>\n",
              "      <td>0.087316</td>\n",
              "      <td>-0.342957</td>\n",
              "      <td>0.503604</td>\n",
              "      <td>0.258973</td>\n",
              "      <td>0.340253</td>\n",
              "      <td>-0.472369</td>\n",
              "      <td>-0.318519</td>\n",
              "      <td>-0.439697</td>\n",
              "      <td>0.697152</td>\n",
              "      <td>0.029996</td>\n",
              "      <td>0.873567</td>\n",
              "    </tr>\n",
              "    <tr>\n",
              "      <th>nasdaq</th>\n",
              "      <td>0.962178</td>\n",
              "      <td>0.627664</td>\n",
              "      <td>0.810067</td>\n",
              "      <td>1.000000</td>\n",
              "      <td>-0.330850</td>\n",
              "      <td>-0.787438</td>\n",
              "      <td>0.772002</td>\n",
              "      <td>0.440471</td>\n",
              "      <td>0.484101</td>\n",
              "      <td>-0.662763</td>\n",
              "      <td>-0.406611</td>\n",
              "      <td>-0.692219</td>\n",
              "      <td>0.798058</td>\n",
              "      <td>-0.488185</td>\n",
              "      <td>0.798993</td>\n",
              "    </tr>\n",
              "    <tr>\n",
              "      <th>crude_oil</th>\n",
              "      <td>-0.182109</td>\n",
              "      <td>0.446655</td>\n",
              "      <td>0.087316</td>\n",
              "      <td>-0.330850</td>\n",
              "      <td>1.000000</td>\n",
              "      <td>0.671674</td>\n",
              "      <td>-0.677437</td>\n",
              "      <td>0.197910</td>\n",
              "      <td>0.125077</td>\n",
              "      <td>0.722869</td>\n",
              "      <td>0.647441</td>\n",
              "      <td>0.470445</td>\n",
              "      <td>-0.043727</td>\n",
              "      <td>0.858488</td>\n",
              "      <td>0.213187</td>\n",
              "    </tr>\n",
              "    <tr>\n",
              "      <th>interest</th>\n",
              "      <td>-0.640029</td>\n",
              "      <td>-0.144200</td>\n",
              "      <td>-0.342957</td>\n",
              "      <td>-0.787438</td>\n",
              "      <td>0.671674</td>\n",
              "      <td>1.000000</td>\n",
              "      <td>-0.826844</td>\n",
              "      <td>-0.462619</td>\n",
              "      <td>-0.412633</td>\n",
              "      <td>0.684259</td>\n",
              "      <td>0.361334</td>\n",
              "      <td>0.691206</td>\n",
              "      <td>-0.525103</td>\n",
              "      <td>0.803477</td>\n",
              "      <td>-0.405749</td>\n",
              "    </tr>\n",
              "    <tr>\n",
              "      <th>bond</th>\n",
              "      <td>0.718655</td>\n",
              "      <td>0.101815</td>\n",
              "      <td>0.503604</td>\n",
              "      <td>0.772002</td>\n",
              "      <td>-0.677437</td>\n",
              "      <td>-0.826844</td>\n",
              "      <td>1.000000</td>\n",
              "      <td>0.105136</td>\n",
              "      <td>0.279379</td>\n",
              "      <td>-0.940436</td>\n",
              "      <td>-0.653886</td>\n",
              "      <td>-0.717584</td>\n",
              "      <td>0.477492</td>\n",
              "      <td>-0.665340</td>\n",
              "      <td>0.347883</td>\n",
              "    </tr>\n",
              "    <tr>\n",
              "      <th>eurodollar</th>\n",
              "      <td>0.367844</td>\n",
              "      <td>0.567200</td>\n",
              "      <td>0.258973</td>\n",
              "      <td>0.440471</td>\n",
              "      <td>0.197910</td>\n",
              "      <td>-0.462619</td>\n",
              "      <td>0.105136</td>\n",
              "      <td>1.000000</td>\n",
              "      <td>0.815092</td>\n",
              "      <td>0.170071</td>\n",
              "      <td>0.525103</td>\n",
              "      <td>-0.317108</td>\n",
              "      <td>0.558567</td>\n",
              "      <td>-0.075020</td>\n",
              "      <td>0.581132</td>\n",
              "    </tr>\n",
              "    <tr>\n",
              "      <th>gpbdollar</th>\n",
              "      <td>0.433821</td>\n",
              "      <td>0.562972</td>\n",
              "      <td>0.340253</td>\n",
              "      <td>0.484101</td>\n",
              "      <td>0.125077</td>\n",
              "      <td>-0.412633</td>\n",
              "      <td>0.279379</td>\n",
              "      <td>0.815092</td>\n",
              "      <td>1.000000</td>\n",
              "      <td>-0.022396</td>\n",
              "      <td>0.337431</td>\n",
              "      <td>-0.369700</td>\n",
              "      <td>0.581611</td>\n",
              "      <td>-0.083264</td>\n",
              "      <td>0.564733</td>\n",
              "    </tr>\n",
              "    <tr>\n",
              "      <th>gold</th>\n",
              "      <td>-0.639182</td>\n",
              "      <td>0.017627</td>\n",
              "      <td>-0.472369</td>\n",
              "      <td>-0.662763</td>\n",
              "      <td>0.722869</td>\n",
              "      <td>0.684259</td>\n",
              "      <td>-0.940436</td>\n",
              "      <td>0.170071</td>\n",
              "      <td>-0.022396</td>\n",
              "      <td>1.000000</td>\n",
              "      <td>0.851956</td>\n",
              "      <td>0.632105</td>\n",
              "      <td>-0.350681</td>\n",
              "      <td>0.636074</td>\n",
              "      <td>-0.220518</td>\n",
              "    </tr>\n",
              "    <tr>\n",
              "      <th>silver</th>\n",
              "      <td>-0.402025</td>\n",
              "      <td>0.147873</td>\n",
              "      <td>-0.318519</td>\n",
              "      <td>-0.406611</td>\n",
              "      <td>0.647441</td>\n",
              "      <td>0.361334</td>\n",
              "      <td>-0.653886</td>\n",
              "      <td>0.525103</td>\n",
              "      <td>0.337431</td>\n",
              "      <td>0.851956</td>\n",
              "      <td>1.000000</td>\n",
              "      <td>0.326506</td>\n",
              "      <td>-0.153160</td>\n",
              "      <td>0.504718</td>\n",
              "      <td>-0.041730</td>\n",
              "    </tr>\n",
              "    <tr>\n",
              "      <th>jpy</th>\n",
              "      <td>-0.622402</td>\n",
              "      <td>-0.241747</td>\n",
              "      <td>-0.439697</td>\n",
              "      <td>-0.692219</td>\n",
              "      <td>0.470445</td>\n",
              "      <td>0.691206</td>\n",
              "      <td>-0.717584</td>\n",
              "      <td>-0.317108</td>\n",
              "      <td>-0.369700</td>\n",
              "      <td>0.632105</td>\n",
              "      <td>0.326506</td>\n",
              "      <td>1.000000</td>\n",
              "      <td>-0.567736</td>\n",
              "      <td>0.540331</td>\n",
              "      <td>-0.358308</td>\n",
              "    </tr>\n",
              "    <tr>\n",
              "      <th>btc</th>\n",
              "      <td>0.778101</td>\n",
              "      <td>0.768477</td>\n",
              "      <td>0.697152</td>\n",
              "      <td>0.798058</td>\n",
              "      <td>-0.043727</td>\n",
              "      <td>-0.525103</td>\n",
              "      <td>0.477492</td>\n",
              "      <td>0.558567</td>\n",
              "      <td>0.581611</td>\n",
              "      <td>-0.350681</td>\n",
              "      <td>-0.153160</td>\n",
              "      <td>-0.567736</td>\n",
              "      <td>1.000000</td>\n",
              "      <td>-0.219892</td>\n",
              "      <td>0.816972</td>\n",
              "    </tr>\n",
              "    <tr>\n",
              "      <th>ftse</th>\n",
              "      <td>-0.285663</td>\n",
              "      <td>0.278334</td>\n",
              "      <td>0.029996</td>\n",
              "      <td>-0.488185</td>\n",
              "      <td>0.858488</td>\n",
              "      <td>0.803477</td>\n",
              "      <td>-0.665340</td>\n",
              "      <td>-0.075020</td>\n",
              "      <td>-0.083264</td>\n",
              "      <td>0.636074</td>\n",
              "      <td>0.504718</td>\n",
              "      <td>0.540331</td>\n",
              "      <td>-0.219892</td>\n",
              "      <td>1.000000</td>\n",
              "      <td>0.027450</td>\n",
              "    </tr>\n",
              "    <tr>\n",
              "      <th>n225</th>\n",
              "      <td>0.854798</td>\n",
              "      <td>0.925319</td>\n",
              "      <td>0.873567</td>\n",
              "      <td>0.798993</td>\n",
              "      <td>0.213187</td>\n",
              "      <td>-0.405749</td>\n",
              "      <td>0.347883</td>\n",
              "      <td>0.581132</td>\n",
              "      <td>0.564733</td>\n",
              "      <td>-0.220518</td>\n",
              "      <td>-0.041730</td>\n",
              "      <td>-0.358308</td>\n",
              "      <td>0.816972</td>\n",
              "      <td>0.027450</td>\n",
              "      <td>1.000000</td>\n",
              "    </tr>\n",
              "  </tbody>\n",
              "</table>\n",
              "</div>"
            ],
            "text/plain": [
              "              snp500   russell       dow  ...       btc      ftse      n225\n",
              "snp500      1.000000  0.716448  0.933772  ...  0.778101 -0.285663  0.854798\n",
              "russell     0.716448  1.000000  0.807427  ...  0.768477  0.278334  0.925319\n",
              "dow         0.933772  0.807427  1.000000  ...  0.697152  0.029996  0.873567\n",
              "nasdaq      0.962178  0.627664  0.810067  ...  0.798058 -0.488185  0.798993\n",
              "crude_oil  -0.182109  0.446655  0.087316  ... -0.043727  0.858488  0.213187\n",
              "interest   -0.640029 -0.144200 -0.342957  ... -0.525103  0.803477 -0.405749\n",
              "bond        0.718655  0.101815  0.503604  ...  0.477492 -0.665340  0.347883\n",
              "eurodollar  0.367844  0.567200  0.258973  ...  0.558567 -0.075020  0.581132\n",
              "gpbdollar   0.433821  0.562972  0.340253  ...  0.581611 -0.083264  0.564733\n",
              "gold       -0.639182  0.017627 -0.472369  ... -0.350681  0.636074 -0.220518\n",
              "silver     -0.402025  0.147873 -0.318519  ... -0.153160  0.504718 -0.041730\n",
              "jpy        -0.622402 -0.241747 -0.439697  ... -0.567736  0.540331 -0.358308\n",
              "btc         0.778101  0.768477  0.697152  ...  1.000000 -0.219892  0.816972\n",
              "ftse       -0.285663  0.278334  0.029996  ... -0.219892  1.000000  0.027450\n",
              "n225        0.854798  0.925319  0.873567  ...  0.816972  0.027450  1.000000\n",
              "\n",
              "[15 rows x 15 columns]"
            ]
          },
          "metadata": {
            "tags": []
          },
          "execution_count": 10
        }
      ]
    },
    {
      "cell_type": "markdown",
      "metadata": {
        "id": "ZEtxbPgvNv-X"
      },
      "source": [
        "## ADF-test"
      ]
    },
    {
      "cell_type": "markdown",
      "metadata": {
        "id": "lwI6xY4MN4Pi"
      },
      "source": [
        "- 단위근 검정 중 가장 대표적인 방법으로 ADF 테스트를 사용  \n",
        "- 시계열 데이터가 안정적stationary인지 여부 확인  \n",
        "  \n",
        "- 귀무가설: 데이터에 단위근 존재\n",
        "- 대립가설: 데이터가 안정적  \n",
        "  \n",
        "- 기준: p-value < 0.05인 경우, 귀무가설 기각 -> 대립가설 채택"
      ]
    },
    {
      "cell_type": "markdown",
      "metadata": {
        "id": "Mlmk6j2mOrnD"
      },
      "source": [
        "- NaN: bond ,eurodollar ,gpbdollar ,gold ,silver"
      ]
    },
    {
      "cell_type": "code",
      "metadata": {
        "id": "tOCCFc1NzI6u"
      },
      "source": [
        "import numpy as np\n",
        "from statsmodels.regression.linear_model import OLS\n",
        "from statsmodels.tsa.tsatools import lagmat, add_trend\n",
        "from statsmodels.tsa.adfvalues import mackinnonp\n",
        "\n",
        "def adf(ts):\n",
        "    \"\"\"\n",
        "    Augmented Dickey-Fuller unit root test\n",
        "    \"\"\"\n",
        "    # make sure we are working with an array, convert if necessary\n",
        "    ts = np.asarray(ts)\n",
        "    \n",
        "    # Get the dimension of the array\n",
        "    nobs = ts.shape[0]\n",
        "    \n",
        "    # We use 1 as maximum lag in our calculations\n",
        "    maxlag = 1\n",
        "    \n",
        "    # Calculate the discrete difference\n",
        "    tsdiff = np.diff(ts)\n",
        "    \n",
        "    # Create a 2d array of lags, trim invalid observations on both sides\n",
        "    tsdall = lagmat(tsdiff[:, None], maxlag, trim='both', original='in')\n",
        "    # Get dimension of the array\n",
        "    nobs = tsdall.shape[0] \n",
        "    \n",
        "    # replace 0 xdiff with level of x\n",
        "    tsdall[:, 0] = ts[-nobs - 1:-1]  \n",
        "    tsdshort = tsdiff[-nobs:]\n",
        "    \n",
        "    # Calculate the linear regression using an ordinary least squares model    \n",
        "    results = OLS(tsdshort, add_trend(tsdall[:, :maxlag + 1], 'c')).fit()\n",
        "    adfstat = results.tvalues[0]\n",
        "    \n",
        "    # Get approx p-value from a precomputed table (from stattools)\n",
        "    pvalue = mackinnonp(adfstat, 'c', N=1)\n",
        "    return pvalue"
      ],
      "execution_count": null,
      "outputs": []
    },
    {
      "cell_type": "markdown",
      "metadata": {
        "id": "8vNqqwfI1LAA"
      },
      "source": [
        "- 위에서 정의한 adf 함수를 이용하여 각 설명 변수인 주가에 대한 안정성 여부를 테스트해보자."
      ]
    },
    {
      "cell_type": "code",
      "metadata": {
        "colab": {
          "base_uri": "https://localhost:8080/"
        },
        "id": "xwLnLt6ioWft",
        "outputId": "2198e3da-36ba-420a-cc58-88970c13d108"
      },
      "source": [
        "rlist = list(res.columns)\n",
        "for s in rlist:\n",
        "    if adf(res[s]) < 0.05:\n",
        "        print(f'{s} p-value: {adf(res[s])} =====> stationary')\n",
        "    else:\n",
        "        print(f'{s} p-value: {adf(res[s])} =====> non-stationary')"
      ],
      "execution_count": null,
      "outputs": [
        {
          "output_type": "stream",
          "text": [
            "snp500 p-value: 0.9142313343011532 =====> non-stationary\n",
            "russell p-value: 0.9541777344527317 =====> non-stationary\n",
            "dow p-value: 0.6359101439916552 =====> non-stationary\n",
            "nasdaq p-value: 0.9793205885859251 =====> non-stationary\n",
            "crude_oil p-value: 0.24001705546273594 =====> non-stationary\n",
            "interest p-value: 0.964518363866872 =====> non-stationary\n",
            "bond p-value: 0.9172227851186396 =====> non-stationary\n",
            "eurodollar p-value: 0.6270836116389749 =====> non-stationary\n",
            "gpbdollar p-value: 0.1560630070917176 =====> non-stationary\n",
            "gold p-value: 0.7882997553131568 =====> non-stationary\n",
            "silver p-value: 0.3369253307347426 =====> non-stationary\n",
            "jpy p-value: 0.10724557406996937 =====> non-stationary\n",
            "btc p-value: 1.0 =====> non-stationary\n",
            "ftse p-value: 0.42502457193778376 =====> non-stationary\n",
            "n225 p-value: 0.910886870510428 =====> non-stationary\n"
          ],
          "name": "stdout"
        }
      ]
    },
    {
      "cell_type": "code",
      "metadata": {
        "colab": {
          "base_uri": "https://localhost:8080/"
        },
        "id": "AgtR9zEAZDBk",
        "outputId": "dcc7767a-7a31-4874-b9a9-165e8fcb5114"
      },
      "source": [
        "import statsmodels.tsa.stattools as ts \n",
        "\n",
        "for i in range(15):\n",
        "    try:\n",
        "        _,p,_ = ts.coint(res.snp500,res[res.columns[i]])\n",
        "        #print(tmp)\n",
        "        print(res.columns[i],':',round(p,3))\n",
        "    except:\n",
        "        print(res.columns[i],':','NAN')"
      ],
      "execution_count": null,
      "outputs": [
        {
          "output_type": "stream",
          "text": [
            "/usr/local/lib/python3.7/dist-packages/statsmodels/tsa/stattools.py:1432: CollinearityWarning:\n",
            "\n",
            "y0 and y1 are (almost) perfectly colinear.Cointegration test is not reliable in this case.\n",
            "\n"
          ],
          "name": "stderr"
        },
        {
          "output_type": "stream",
          "text": [
            "snp500 : 0.0\n",
            "russell : 0.864\n",
            "dow : 0.594\n",
            "nasdaq : 0.103\n",
            "crude_oil : 0.867\n",
            "interest : 0.219\n",
            "bond : 0.468\n",
            "eurodollar : 0.722\n",
            "gpbdollar : 0.546\n",
            "gold : 0.681\n",
            "silver : 0.793\n",
            "jpy : 0.25\n",
            "btc : 0.219\n",
            "ftse : 0.585\n",
            "n225 : 0.727\n"
          ],
          "name": "stdout"
        }
      ]
    },
    {
      "cell_type": "markdown",
      "metadata": {
        "id": "hhl1U_OD4yY5"
      },
      "source": [
        "# Preprocessing"
      ]
    },
    {
      "cell_type": "code",
      "metadata": {
        "colab": {
          "base_uri": "https://localhost:8080/",
          "height": 419
        },
        "id": "UpU51r_94z5g",
        "outputId": "988fdae1-a30a-4719-8950-e37946f5bde3"
      },
      "source": [
        "res.snp500 /= 100000\n",
        "res.russell /= 1000\n",
        "res.dow /= 10000\n",
        "res.nasdaq /= 1000\n",
        "res.crude_oil /= 10\n",
        "res.gold /= 1000\n",
        "res.silver /= 10\n",
        "res.jpy /= 100\n",
        "res.btc /= 10000\n",
        "res.ftse /= 1000\n",
        "res.n225 /= 10000\n",
        "res"
      ],
      "execution_count": null,
      "outputs": [
        {
          "output_type": "execute_result",
          "data": {
            "text/html": [
              "<div>\n",
              "<style scoped>\n",
              "    .dataframe tbody tr th:only-of-type {\n",
              "        vertical-align: middle;\n",
              "    }\n",
              "\n",
              "    .dataframe tbody tr th {\n",
              "        vertical-align: top;\n",
              "    }\n",
              "\n",
              "    .dataframe thead th {\n",
              "        text-align: right;\n",
              "    }\n",
              "</style>\n",
              "<table border=\"1\" class=\"dataframe\">\n",
              "  <thead>\n",
              "    <tr style=\"text-align: right;\">\n",
              "      <th></th>\n",
              "      <th>snp500</th>\n",
              "      <th>russell</th>\n",
              "      <th>dow</th>\n",
              "      <th>nasdaq</th>\n",
              "      <th>crude_oil</th>\n",
              "      <th>interest</th>\n",
              "      <th>bond</th>\n",
              "      <th>eurodollar</th>\n",
              "      <th>gpbdollar</th>\n",
              "      <th>gold</th>\n",
              "      <th>silver</th>\n",
              "      <th>jpy</th>\n",
              "      <th>btc</th>\n",
              "      <th>ftse</th>\n",
              "      <th>n225</th>\n",
              "    </tr>\n",
              "  </thead>\n",
              "  <tbody>\n",
              "    <tr>\n",
              "      <th>0</th>\n",
              "      <td>2.72094</td>\n",
              "      <td>1.54605</td>\n",
              "      <td>2.487476</td>\n",
              "      <td>7.33071</td>\n",
              "      <td>6.257</td>\n",
              "      <td>1.42</td>\n",
              "      <td>1.554</td>\n",
              "      <td>1.196774</td>\n",
              "      <td>1.389410</td>\n",
              "      <td>1.6980</td>\n",
              "      <td>2.5257</td>\n",
              "      <td>1.05556</td>\n",
              "      <td>1.157330</td>\n",
              "      <td>7.1160</td>\n",
              "      <td>2.104209</td>\n",
              "    </tr>\n",
              "    <tr>\n",
              "      <th>1</th>\n",
              "      <td>2.72812</td>\n",
              "      <td>1.56220</td>\n",
              "      <td>2.488412</td>\n",
              "      <td>7.37201</td>\n",
              "      <td>6.260</td>\n",
              "      <td>1.42</td>\n",
              "      <td>1.550</td>\n",
              "      <td>1.205066</td>\n",
              "      <td>1.392699</td>\n",
              "      <td>1.7002</td>\n",
              "      <td>2.5434</td>\n",
              "      <td>1.06250</td>\n",
              "      <td>1.077990</td>\n",
              "      <td>7.1468</td>\n",
              "      <td>2.141776</td>\n",
              "    </tr>\n",
              "    <tr>\n",
              "      <th>2</th>\n",
              "      <td>2.72680</td>\n",
              "      <td>1.57453</td>\n",
              "      <td>2.480136</td>\n",
              "      <td>7.39665</td>\n",
              "      <td>6.115</td>\n",
              "      <td>1.42</td>\n",
              "      <td>1.470</td>\n",
              "      <td>1.208547</td>\n",
              "      <td>1.395498</td>\n",
              "      <td>1.7153</td>\n",
              "      <td>2.6357</td>\n",
              "      <td>1.05537</td>\n",
              "      <td>0.996557</td>\n",
              "      <td>7.1578</td>\n",
              "      <td>2.125272</td>\n",
              "    </tr>\n",
              "    <tr>\n",
              "      <th>3</th>\n",
              "      <td>2.73897</td>\n",
              "      <td>1.57197</td>\n",
              "      <td>2.489521</td>\n",
              "      <td>7.42795</td>\n",
              "      <td>6.012</td>\n",
              "      <td>1.42</td>\n",
              "      <td>1.415</td>\n",
              "      <td>1.205110</td>\n",
              "      <td>1.392952</td>\n",
              "      <td>1.7331</td>\n",
              "      <td>2.6850</td>\n",
              "      <td>1.06186</td>\n",
              "      <td>0.939501</td>\n",
              "      <td>7.2032</td>\n",
              "      <td>2.136807</td>\n",
              "    </tr>\n",
              "    <tr>\n",
              "      <th>4</th>\n",
              "      <td>2.78657</td>\n",
              "      <td>1.59714</td>\n",
              "      <td>2.533574</td>\n",
              "      <td>7.56081</td>\n",
              "      <td>6.204</td>\n",
              "      <td>1.42</td>\n",
              "      <td>1.446</td>\n",
              "      <td>1.208956</td>\n",
              "      <td>1.397253</td>\n",
              "      <td>1.7225</td>\n",
              "      <td>2.6647</td>\n",
              "      <td>1.06406</td>\n",
              "      <td>0.933755</td>\n",
              "      <td>7.2245</td>\n",
              "      <td>2.146920</td>\n",
              "    </tr>\n",
              "    <tr>\n",
              "      <th>...</th>\n",
              "      <td>...</td>\n",
              "      <td>...</td>\n",
              "      <td>...</td>\n",
              "      <td>...</td>\n",
              "      <td>...</td>\n",
              "      <td>...</td>\n",
              "      <td>...</td>\n",
              "      <td>...</td>\n",
              "      <td>...</td>\n",
              "      <td>...</td>\n",
              "      <td>...</td>\n",
              "      <td>...</td>\n",
              "      <td>...</td>\n",
              "      <td>...</td>\n",
              "      <td>...</td>\n",
              "    </tr>\n",
              "    <tr>\n",
              "      <th>752</th>\n",
              "      <td>3.90182</td>\n",
              "      <td>2.27532</td>\n",
              "      <td>3.153551</td>\n",
              "      <td>13.58883</td>\n",
              "      <td>6.064</td>\n",
              "      <td>0.07</td>\n",
              "      <td>2.894</td>\n",
              "      <td>1.230663</td>\n",
              "      <td>1.380567</td>\n",
              "      <td>1.3224</td>\n",
              "      <td>1.6546</td>\n",
              "      <td>1.06503</td>\n",
              "      <td>4.963124</td>\n",
              "      <td>6.5885</td>\n",
              "      <td>2.966350</td>\n",
              "    </tr>\n",
              "    <tr>\n",
              "      <th>753</th>\n",
              "      <td>3.87029</td>\n",
              "      <td>2.23151</td>\n",
              "      <td>3.139152</td>\n",
              "      <td>13.35879</td>\n",
              "      <td>5.975</td>\n",
              "      <td>0.07</td>\n",
              "      <td>2.866</td>\n",
              "      <td>1.241465</td>\n",
              "      <td>1.390627</td>\n",
              "      <td>1.3199</td>\n",
              "      <td>1.6436</td>\n",
              "      <td>1.06851</td>\n",
              "      <td>4.837899</td>\n",
              "      <td>6.6138</td>\n",
              "      <td>2.940817</td>\n",
              "    </tr>\n",
              "    <tr>\n",
              "      <th>754</th>\n",
              "      <td>3.81972</td>\n",
              "      <td>2.20779</td>\n",
              "      <td>3.127009</td>\n",
              "      <td>12.99775</td>\n",
              "      <td>6.128</td>\n",
              "      <td>0.07</td>\n",
              "      <td>2.883</td>\n",
              "      <td>1.241665</td>\n",
              "      <td>1.390009</td>\n",
              "      <td>1.3260</td>\n",
              "      <td>1.6428</td>\n",
              "      <td>1.06758</td>\n",
              "      <td>5.053824</td>\n",
              "      <td>6.6755</td>\n",
              "      <td>2.955910</td>\n",
              "    </tr>\n",
              "    <tr>\n",
              "      <th>755</th>\n",
              "      <td>3.76847</td>\n",
              "      <td>2.14692</td>\n",
              "      <td>3.092414</td>\n",
              "      <td>12.72347</td>\n",
              "      <td>6.383</td>\n",
              "      <td>0.07</td>\n",
              "      <td>2.877</td>\n",
              "      <td>1.233654</td>\n",
              "      <td>1.385233</td>\n",
              "      <td>1.3336</td>\n",
              "      <td>1.6715</td>\n",
              "      <td>1.07058</td>\n",
              "      <td>4.856117</td>\n",
              "      <td>6.6509</td>\n",
              "      <td>2.893011</td>\n",
              "    </tr>\n",
              "    <tr>\n",
              "      <th>756</th>\n",
              "      <td>3.84194</td>\n",
              "      <td>2.19221</td>\n",
              "      <td>3.149630</td>\n",
              "      <td>12.92015</td>\n",
              "      <td>6.609</td>\n",
              "      <td>0.07</td>\n",
              "      <td>2.881</td>\n",
              "      <td>1.231542</td>\n",
              "      <td>1.379501</td>\n",
              "      <td>1.3181</td>\n",
              "      <td>1.6338</td>\n",
              "      <td>1.07955</td>\n",
              "      <td>4.892730</td>\n",
              "      <td>6.6305</td>\n",
              "      <td>2.886432</td>\n",
              "    </tr>\n",
              "  </tbody>\n",
              "</table>\n",
              "<p>757 rows × 15 columns</p>\n",
              "</div>"
            ],
            "text/plain": [
              "      snp500  russell       dow    nasdaq  ...      jpy       btc    ftse      n225\n",
              "0    2.72094  1.54605  2.487476   7.33071  ...  1.05556  1.157330  7.1160  2.104209\n",
              "1    2.72812  1.56220  2.488412   7.37201  ...  1.06250  1.077990  7.1468  2.141776\n",
              "2    2.72680  1.57453  2.480136   7.39665  ...  1.05537  0.996557  7.1578  2.125272\n",
              "3    2.73897  1.57197  2.489521   7.42795  ...  1.06186  0.939501  7.2032  2.136807\n",
              "4    2.78657  1.59714  2.533574   7.56081  ...  1.06406  0.933755  7.2245  2.146920\n",
              "..       ...      ...       ...       ...  ...      ...       ...     ...       ...\n",
              "752  3.90182  2.27532  3.153551  13.58883  ...  1.06503  4.963124  6.5885  2.966350\n",
              "753  3.87029  2.23151  3.139152  13.35879  ...  1.06851  4.837899  6.6138  2.940817\n",
              "754  3.81972  2.20779  3.127009  12.99775  ...  1.06758  5.053824  6.6755  2.955910\n",
              "755  3.76847  2.14692  3.092414  12.72347  ...  1.07058  4.856117  6.6509  2.893011\n",
              "756  3.84194  2.19221  3.149630  12.92015  ...  1.07955  4.892730  6.6305  2.886432\n",
              "\n",
              "[757 rows x 15 columns]"
            ]
          },
          "metadata": {
            "tags": []
          },
          "execution_count": 14
        }
      ]
    },
    {
      "cell_type": "markdown",
      "metadata": {
        "id": "Afy12Rh1qT2L"
      },
      "source": [
        "# Dataset"
      ]
    },
    {
      "cell_type": "code",
      "metadata": {
        "id": "zLVFSjP8qUdN"
      },
      "source": [
        "def sliding_window(data,seq_len):\n",
        "    x = []\n",
        "    y = []\n",
        "\n",
        "    for i in range(len(data) - seq_len - 1):\n",
        "        _x = data[i:(i+seq_len)] # 5일 동안의 데이터로\n",
        "        _y = data[i+seq_len] # 다음 날을 예측\n",
        "        x.append(_x)\n",
        "        y.append(_y)\n",
        "\n",
        "    return np.array(x), np.array(y)"
      ],
      "execution_count": null,
      "outputs": []
    },
    {
      "cell_type": "code",
      "metadata": {
        "id": "o_Sf7l5yDxtI"
      },
      "source": [
        "def coint_cal(df1,df2):\n",
        "\n",
        "    df1 = np.array(df1)\n",
        "    df2 = np.array(df2)\n",
        "    df_1 = np.log(df1)\n",
        "    df_2 = np.log(df2)\n",
        "\n",
        "    t,p,crit = coint(df1,df2)\n",
        "\n",
        "    if p <0.05:\n",
        "        return p,'Cointgrated'\n",
        "    else:\n",
        "        return p,'Not Cointegrated'"
      ],
      "execution_count": null,
      "outputs": []
    },
    {
      "cell_type": "code",
      "metadata": {
        "colab": {
          "base_uri": "https://localhost:8080/"
        },
        "id": "8p_u36Tgqhfr",
        "outputId": "594061ae-37fd-4e4f-be29-b8afb687a864"
      },
      "source": [
        "reslist = list(res.columns)\n",
        "valuelst=[]\n",
        "for z in reslist:\n",
        "    vres = coint_cal(res.snp500.cumsum(),res[z].cumsum())\n",
        "    print(f'{z}: {vres[0]} ====> {vres[1]}')\n",
        "    valuelst.append(vres[0])"
      ],
      "execution_count": null,
      "outputs": [
        {
          "output_type": "stream",
          "text": [
            "/usr/local/lib/python3.7/dist-packages/statsmodels/tsa/stattools.py:1432: CollinearityWarning:\n",
            "\n",
            "y0 and y1 are (almost) perfectly colinear.Cointegration test is not reliable in this case.\n",
            "\n"
          ],
          "name": "stderr"
        },
        {
          "output_type": "stream",
          "text": [
            "snp500: 0.0 ====> Cointgrated\n",
            "russell: 0.0502915182738702 ====> Not Cointegrated\n",
            "dow: 0.5963804925069988 ====> Not Cointegrated\n",
            "nasdaq: 0.30407794411208516 ====> Not Cointegrated\n",
            "crude_oil: 0.5087224819932542 ====> Not Cointegrated\n",
            "interest: 0.21957263967257518 ====> Not Cointegrated\n",
            "bond: 0.07978749798258261 ====> Not Cointegrated\n",
            "eurodollar: 0.965290400888615 ====> Not Cointegrated\n",
            "gpbdollar: 0.9831429859786913 ====> Not Cointegrated\n",
            "gold: 0.876986296457154 ====> Not Cointegrated\n",
            "silver: 0.9688949712190824 ====> Not Cointegrated\n",
            "jpy: 0.9374166177230707 ====> Not Cointegrated\n",
            "btc: 0.9108658733325552 ====> Not Cointegrated\n",
            "ftse: 0.6329456256461752 ====> Not Cointegrated\n",
            "n225: 0.2303411037876521 ====> Not Cointegrated\n"
          ],
          "name": "stdout"
        }
      ]
    },
    {
      "cell_type": "code",
      "metadata": {
        "colab": {
          "base_uri": "https://localhost:8080/"
        },
        "id": "0JTMnFLtFeuY",
        "outputId": "84d3f420-fdae-4c38-93e9-932924540964"
      },
      "source": [
        "sorted(valuelst,reverse=True) #crudeoil, russell2000, silver, n225,eurodollar, dow, ftse, gpbdollar, bond, jpy, btc,interest, nasdaq"
      ],
      "execution_count": null,
      "outputs": [
        {
          "output_type": "execute_result",
          "data": {
            "text/plain": [
              "[0.9831429859786913,\n",
              " 0.9688949712190824,\n",
              " 0.965290400888615,\n",
              " 0.9374166177230707,\n",
              " 0.9108658733325552,\n",
              " 0.876986296457154,\n",
              " 0.6329456256461752,\n",
              " 0.5963804925069988,\n",
              " 0.5087224819932542,\n",
              " 0.30407794411208516,\n",
              " 0.2303411037876521,\n",
              " 0.21957263967257518,\n",
              " 0.07978749798258261,\n",
              " 0.0502915182738702,\n",
              " 0.0]"
            ]
          },
          "metadata": {
            "tags": []
          },
          "execution_count": 18
        }
      ]
    },
    {
      "cell_type": "code",
      "metadata": {
        "colab": {
          "base_uri": "https://localhost:8080/"
        },
        "id": "77FyyJM-qZ00",
        "outputId": "449b2b34-4e1f-4c2d-e94c-f6b96672604a"
      },
      "source": [
        "scaler = MinMaxScaler()\n",
        "\n",
        "\n",
        "# t1 = scaler.fit_transform(res.snp500.values.reshape(-1,1))\n",
        "# t2 = scaler.fit_transform(res.russell.values.reshape(-1,1))\n",
        "# t3 = scaler.fit_transform(res.dow.values.reshape(-1,1))\n",
        "# t4 = scaler.fit_transform(res.nasdaq.values.reshape(-1,1))\n",
        "# t5 = scaler.fit_transform(res.crude_oil.values.reshape(-1,1))\n",
        "# t6 = scaler.fit_transform(res.interest.values.reshape(-1,1))\n",
        "# t7 = scaler.fit_transform(res.bond.values.reshape(-1,1))\n",
        "# t8 = scaler.fit_transform(res.eurodollar.values.reshape(-1,1))\n",
        "# t9 = scaler.fit_transform(res.gpbdollar.values.reshape(-1,1))\n",
        "# t10 = scaler.fit_transform(res.gold.values.reshape(-1,1))\n",
        "# t11 = scaler.fit_transform(res.silver.values.reshape(-1,1))\n",
        "# t12 = scaler.fit_transform(res.jpy.values.reshape(-1,1))\n",
        "# t13 = scaler.fit_transform(res.btc.values.reshape(-1,1))\n",
        "# t14 = scaler.fit_transform(res.ftse.values.reshape(-1,1))\n",
        "# t15 = scaler.fit_transform(res.n225.values.reshape(-1,1))\n",
        "\n",
        "# data_list = [t1,t2,t3,t4,t5,t6,t7,t8,t9,t10,t11,t12,t13,t14,t15]\n",
        "# train_data = np.concatenate(data_list,axis=1) ## 결측치가 없고 len이 모두 동일한 것만 일단 pick\n",
        "\n",
        "\"\"\"\n",
        "공적분 검정으로 추출\n",
        "\"\"\"\n",
        "t1 = scaler.fit_transform(res.snp500.values.reshape(-1,1))\n",
        "t2 = scaler.fit_transform(res.interest.values.reshape(-1,1))\n",
        "t3 = scaler.fit_transform(res.btc.values.reshape(-1,1))\n",
        "t4 = scaler.fit_transform(res.nasdaq.values.reshape(-1,1))\n",
        "t5 = scaler.fit_transform(res.bond.values.reshape(-1,1))\n",
        "\n",
        "data_list= [t1,t2,t3,t4]\n",
        "train_data = np.concatenate(data_list,axis=1)\n",
        "\n",
        "\"\"\"\n",
        "correlation matrix로 추출 dow,nasd,n225,btc\n",
        "\"\"\"\n",
        "\n",
        "# t1 = scaler.fit_transform(res.snp500.values.reshape(-1,1))\n",
        "# t2 = scaler.fit_transform(res.dow.values.reshape(-1,1))\n",
        "# t3 = scaler.fit_transform(res.nasdaq.values.reshape(-1,1))\n",
        "# t4 = scaler.fit_transform(res.n225.values.reshape(-1,1))\n",
        "# t5 = scaler.fit_transform(res.btc.values.reshape(-1,1))\n",
        "\n",
        "\n",
        "# data_list= [t1,t2,t3,t4,t5]\n",
        "# train_data = np.concatenate(data_list,axis=1)\n",
        "\n",
        "\n",
        "\n",
        "\n",
        "seq_len = 5\n",
        "\n",
        "x,y = sliding_window(train_data, seq_len)\n",
        "\n",
        "train_size = int(len(y)*0.8+1) # int화 과정에서 총 데이터 개수 5496 에서 1 가 빠지길래, 그 빠진 1를 train_set에 넣어주었다.\n",
        "test_size = len(y)-train_size\n",
        "\n",
        "val_size = test_size // 2\n",
        "test_size = test_size - val_size\n",
        "\n",
        "\n",
        "\"\"\"\n",
        "autograd.Variable은 autograd 패키지의 핵심 클래스입니다. \n",
        "Variable 클래스는 Tensor를 감싸고 있으며, Tensor에 정의된 거의 모든 연산을 지원합니다. \n",
        "모든 계산을 마친 후에 .backward()를 호출하면, 자동으로 모든 기울기가 계산됩니다.\n",
        "\n",
        "cf: http://taewan.kim/trans/pytorch/tutorial/blits/02_autograd/\n",
        "\"\"\"\n",
        "dataX = Variable(torch.Tensor(np.array(x)))\n",
        "dataY = Variable(torch.Tensor(np.array(y)))\n",
        "\n",
        "trainX = Variable(torch.Tensor(np.array(x[0:train_size])))\n",
        "valX = Variable(torch.Tensor(np.array(x[train_size:train_size+val_size])))\n",
        "testX = Variable(torch.Tensor(np.array(x[train_size+val_size:len(x)])))\n",
        "\n",
        "trainY = Variable(torch.Tensor(np.array(y[0:train_size])))\n",
        "valY = Variable(torch.Tensor(np.array(y[train_size:train_size+val_size])))\n",
        "testY = Variable(torch.Tensor(np.array(y[train_size+val_size:len(y)])))\n",
        "\n",
        "\n",
        "print(trainX.shape)\n",
        "print(valX.shape)\n",
        "print(testX.shape)\n",
        "\n",
        "print(trainY.shape)\n",
        "print(valY.shape)\n",
        "print(testY.shape)"
      ],
      "execution_count": null,
      "outputs": [
        {
          "output_type": "stream",
          "text": [
            "torch.Size([601, 5, 4])\n",
            "torch.Size([75, 5, 4])\n",
            "torch.Size([75, 5, 4])\n",
            "torch.Size([601, 4])\n",
            "torch.Size([75, 4])\n",
            "torch.Size([75, 4])\n"
          ],
          "name": "stdout"
        }
      ]
    },
    {
      "cell_type": "code",
      "metadata": {
        "id": "Z-R4BGuB9rQg"
      },
      "source": [
        "class customDataset(Dataset): \n",
        "    def __init__(self,dataX,dataY):\n",
        "        self.x_data = dataX\n",
        "        self.y_data = dataY\n",
        "\n",
        "    def __len__(self): \n",
        "        return self.x_data.size()[0]\n",
        "\n",
        "    def __getitem__(self, idx): \n",
        "        x = torch.FloatTensor(self.x_data[idx])\n",
        "        y = torch.FloatTensor(self.y_data[idx])\n",
        "        return x, y\n",
        "\n",
        "\n",
        "\n",
        "train_set = customDataset(trainX,trainY)\n",
        "val_set = customDataset(valX,valY)\n",
        "test_set = customDataset(testX,testY)\n",
        "\n",
        "train_dataloader = DataLoader(train_set,batch_size=len(trainX))\n",
        "val_dataloader = DataLoader(val_set,batch_size=len(valX))\n",
        "test_dataloader = DataLoader(test_set,batch_size=len(testX))"
      ],
      "execution_count": null,
      "outputs": []
    },
    {
      "cell_type": "markdown",
      "metadata": {
        "id": "0pLDSsSnryM-"
      },
      "source": [
        "# LSTM"
      ]
    },
    {
      "cell_type": "markdown",
      "metadata": {
        "id": "rncAKCB1r1tV"
      },
      "source": [
        "## Use Cuda"
      ]
    },
    {
      "cell_type": "code",
      "metadata": {
        "colab": {
          "base_uri": "https://localhost:8080/"
        },
        "id": "gk2UT00xrzlR",
        "outputId": "56aea123-3fd3-43d3-d447-c833d23ab0b7"
      },
      "source": [
        "if torch.cuda.is_available():\n",
        "    DEVICE = torch.device('cuda')\n",
        "else:\n",
        "    DEVICE = torch.device('cpu')\n",
        "\n",
        "print(f'device:{DEVICE}')"
      ],
      "execution_count": null,
      "outputs": [
        {
          "output_type": "stream",
          "text": [
            "device:cuda\n"
          ],
          "name": "stdout"
        }
      ]
    },
    {
      "cell_type": "markdown",
      "metadata": {
        "id": "-NnaScjAr76b"
      },
      "source": [
        "## Args"
      ]
    },
    {
      "cell_type": "code",
      "metadata": {
        "id": "JS7TvyA6r4Oz"
      },
      "source": [
        "import argparse\n",
        "\n",
        "parser = argparse.ArgumentParser(description= 'hyper-parameters')\n",
        "args = parser.parse_args(\"\")\n",
        "\n",
        "\n",
        "args.EPOCHS = 1000\n",
        "args.LR = 3e-3\n",
        "\n",
        "args.INPUT_SIZE = len(data_list)\n",
        "args.HIDDEN_SIZE = 64\n",
        "\n",
        "args.NUM_LAYERS = 1\n",
        "args.NUM_CLASSES = 1\n",
        "args.dropout_p = 0.3"
      ],
      "execution_count": null,
      "outputs": []
    },
    {
      "cell_type": "markdown",
      "metadata": {
        "id": "JHp26E9ZsASc"
      },
      "source": [
        "## Model"
      ]
    },
    {
      "cell_type": "markdown",
      "metadata": {
        "id": "Tr9bPO7LOVlI"
      },
      "source": [
        "### LSTM"
      ]
    },
    {
      "cell_type": "code",
      "metadata": {
        "id": "EATN4np8r_sm"
      },
      "source": [
        "class LSTM(nn.Module):\n",
        "    def __init__(self,num_classes,input_size,hid_size,num_layers):\n",
        "        super(LSTM,self).__init__()\n",
        "\n",
        "        self.input_size = input_size\n",
        "        self.hid_size = hid_size\n",
        "        self.num_classes = num_classes\n",
        "        self.num_layers = num_layers\n",
        "\n",
        "        self.lstm = nn.LSTM(input_size=input_size, hidden_size= hid_size, num_layers = num_layers, batch_first = True)\n",
        "        self.fc = nn.Linear(hid_size,num_classes)\n",
        "\n",
        "    def forward(self,x):\n",
        "\n",
        "        h_0 = Variable(torch.zeros(self.num_layers, x.size(0), self.hid_size)).to(DEVICE)\n",
        "        c_0 = Variable(torch.zeros(self.num_layers, x.size(0), self.hid_size)).to(DEVICE)\n",
        "\n",
        "        out, (hout, _) = self.lstm(x,(h_0,c_0))\n",
        "        hout = hout.view(-1,self.hid_size).to(DEVICE)\n",
        "        out = self.fc(hout).to(DEVICE)\n",
        "\n",
        "        return out\n",
        "\n",
        "    def init_hidden(self, batch):\n",
        "        return (autograd.Variable(torch.zeros(1, 1, self.hid_size).to(device)), autograd.Variable(torch.zeros(1, 1, self.hid_size).to(device)))"
      ],
      "execution_count": null,
      "outputs": []
    },
    {
      "cell_type": "markdown",
      "metadata": {
        "id": "rjPTb2PVNqXD"
      },
      "source": [
        "### GRU"
      ]
    },
    {
      "cell_type": "code",
      "metadata": {
        "id": "x0MVTqpxNqAM"
      },
      "source": [
        "class GRUCell(nn.Module):\n",
        "\n",
        "    def __init__(self, input_size, hidden_size, bias=True):\n",
        "        super(GRUCell, self).__init__()\n",
        "        self.input_size = input_size\n",
        "        self.hidden_size = hidden_size\n",
        "        self.bias = bias\n",
        "        self.x2h = nn.Linear(input_size, 3 * hidden_size, bias=bias)\n",
        "        self.h2h = nn.Linear(hidden_size, 3 * hidden_size, bias=bias)\n",
        "        self.reset_parameters()\n",
        "\n",
        "\n",
        "\n",
        "    def reset_parameters(self):\n",
        "        std = 1.0 / math.sqrt(self.hidden_size)\n",
        "        for w in self.parameters():\n",
        "            w.data.uniform_(-std, std)\n",
        "    \n",
        "    def forward(self, x, hidden):\n",
        "        \n",
        "        x = x.view(-1, x.size(1))\n",
        "        \n",
        "        gate_x = self.x2h(x) \n",
        "        gate_h = self.h2h(hidden)\n",
        "        \n",
        "        gate_x = gate_x.squeeze()\n",
        "        gate_h = gate_h.squeeze()\n",
        "        \n",
        "        i_r, i_i, i_n = gate_x.chunk(3, 1)\n",
        "        h_r, h_i, h_n = gate_h.chunk(3, 1)\n",
        "        \n",
        "        \n",
        "        resetgate = F.sigmoid(i_r + h_r)\n",
        "        inputgate = F.sigmoid(i_i + h_i)\n",
        "        newgate = F.tanh(i_n + (resetgate * h_n))\n",
        "        \n",
        "        hy = newgate + inputgate * (hidden - newgate)\n",
        "        \n",
        "        \n",
        "        return hy"
      ],
      "execution_count": null,
      "outputs": []
    },
    {
      "cell_type": "code",
      "metadata": {
        "id": "4k8UcntmQbE-"
      },
      "source": [
        "class GRUModel(nn.Module):\n",
        "    def __init__(self, input_dim, hidden_dim, layer_dim, output_dim, bias=True):\n",
        "        super(GRUModel, self).__init__()\n",
        "        # Hidden dimensions\n",
        "        self.hidden_dim = hidden_dim\n",
        "         \n",
        "        # Number of hidden layers\n",
        "        self.layer_dim = layer_dim\n",
        "         \n",
        "       \n",
        "        self.gru_cell = GRUCell(input_dim, hidden_dim, layer_dim)\n",
        "        \n",
        "        \n",
        "        self.fc = nn.Linear(hidden_dim, output_dim)\n",
        "     \n",
        "    \n",
        "    \n",
        "    def forward(self, x):\n",
        "        \n",
        "        if torch.cuda.is_available():\n",
        "            h0 = Variable(torch.zeros(self.layer_dim, x.size(0), self.hidden_dim).cuda())\n",
        "        else:\n",
        "            h0 = Variable(torch.zeros(self.layer_dim, x.size(0), self.hidden_dim))\n",
        "         \n",
        "        outs = []\n",
        "        \n",
        "        hn = h0[0,:,:]\n",
        "        \n",
        "        for seq in range(x.size(1)):\n",
        "            hn = self.gru_cell(x[:,seq,:], hn) \n",
        "            outs.append(hn)\n",
        "            \n",
        "\n",
        "        out = outs[-1].squeeze()\n",
        "        \n",
        "        out = self.fc(out) \n",
        "        # out.size() --> 100, 10\n",
        "        return out"
      ],
      "execution_count": null,
      "outputs": []
    },
    {
      "cell_type": "markdown",
      "metadata": {
        "id": "iGLlAWvzPkKr"
      },
      "source": [
        "## Quantile Loss"
      ]
    },
    {
      "cell_type": "code",
      "metadata": {
        "id": "MVZvF46wPlbt"
      },
      "source": [
        "def quantile_loss(preds, target, quantiles, test=None):\n",
        "    if not test:\n",
        "        assert not target.requires_grad\n",
        "        assert preds.size(0) == target.size(0)\n",
        "    losses = []\n",
        "    for i, q in enumerate(quantiles):\n",
        "        errors = target - preds\n",
        "        losses.append(torch.max((q - 1) * errors, q * errors).unsqueeze(1))\n",
        "    loss = torch.mean(torch.sum(torch.cat(losses, dim=1), dim=1))\n",
        "    return loss"
      ],
      "execution_count": null,
      "outputs": []
    },
    {
      "cell_type": "markdown",
      "metadata": {
        "id": "x86jM3D3M4_6"
      },
      "source": [
        "### Early Stopping"
      ]
    },
    {
      "cell_type": "code",
      "metadata": {
        "id": "KUqjSX1cM6OR"
      },
      "source": [
        "class EarlyStopping:\n",
        "    \"\"\"주어진 patience 이후로 validation loss가 개선되지 않으면 학습을 조기 중지\"\"\"\n",
        "    def __init__(self, patience=7, verbose=False, delta=0, path='/content/gdrive/Shareddrives/nlp paper writing/EXPERIMENTS/models/checkpoint.pt'):\n",
        "\n",
        "        self.patience = patience\n",
        "        self.verbose = verbose\n",
        "        self.counter = 0\n",
        "        self.best_score = None\n",
        "        self.early_stop = False\n",
        "        self.val_loss_min = np.Inf\n",
        "        self.delta = delta\n",
        "        self.path = path\n",
        "\n",
        "    def __call__(self, val_loss, model):\n",
        "\n",
        "        score = -val_loss\n",
        "\n",
        "        if self.best_score is None:\n",
        "            self.best_score = score\n",
        "            self.save_checkpoint(val_loss, model)\n",
        "        elif score < self.best_score + self.delta:\n",
        "            self.counter += 1\n",
        "            print(f'EarlyStopping counter: {self.counter} out of {self.patience}')\n",
        "            if self.counter >= self.patience:\n",
        "                self.early_stop = True\n",
        "        else:\n",
        "            self.best_score = score\n",
        "            self.save_checkpoint(val_loss, model)\n",
        "            self.counter = 0\n",
        "\n",
        "    def save_checkpoint(self, val_loss, model):\n",
        "        '''validation loss가 감소하면 모델을 저장한다.'''\n",
        "        if self.verbose:\n",
        "            print(f'Validation loss decreased ({self.val_loss_min:.6f} --> {val_loss:.6f}).  Saving model ...')\n",
        "        torch.save(model.state_dict(), self.path)\n",
        "        self.val_loss_min = val_loss"
      ],
      "execution_count": null,
      "outputs": []
    },
    {
      "cell_type": "markdown",
      "metadata": {
        "id": "4RHO_SC8sGTb"
      },
      "source": [
        "## Training"
      ]
    },
    {
      "cell_type": "code",
      "metadata": {
        "id": "PBsS1QEy2sJi"
      },
      "source": [
        "#model = LSTM(args.NUM_CLASSES, args.INPUT_SIZE, args.HIDDEN_SIZE, args.NUM_LAYERS)\n",
        "model = GRUModel(input_dim = args.INPUT_SIZE, hidden_dim = args.HIDDEN_SIZE, layer_dim = 2,output_dim = args.NUM_LAYERS)\n",
        "criterion = quantile_loss\n",
        "#criterion = torch.nn.MSELoss()\n",
        "optimizer = torch.optim.Adam(model.parameters(), lr = args.LR)\n",
        "\n",
        "## 줍줍 모드 ##\n",
        "\n",
        "train_losses = []\n",
        "test_losses = []\n",
        "correct = 0\n",
        "test_loss=0\n",
        "val_loss = 0\n",
        "patience = 10\n",
        "val_losses=[]\n",
        "hist = np.zeros(args.EPOCHS)\n",
        "q = [0.1,0.5,0.9]\n",
        "early_stopping = EarlyStopping(patience = patience, verbose = True)"
      ],
      "execution_count": null,
      "outputs": []
    },
    {
      "cell_type": "code",
      "metadata": {
        "colab": {
          "base_uri": "https://localhost:8080/",
          "height": 1000
        },
        "id": "oyy0AL6usG8c",
        "outputId": "7e30a089-3253-462b-ead1-74f2ebad4c6d"
      },
      "source": [
        "## ================= Train ================= ##\n",
        "model.to(DEVICE)\n",
        "for epoch in range(args.EPOCHS):\n",
        "    for i,data in enumerate(train_dataloader):\n",
        "        model.train()\n",
        "        model.zero_grad()\n",
        "        optimizer.zero_grad()\n",
        "\n",
        "        input,label = data\n",
        "        input = input.to(DEVICE)\n",
        "        label = label.to(DEVICE)\n",
        "        \n",
        "        output = model(input)\n",
        "        loss = criterion(output,label,q)\n",
        "        hist[epoch] = loss.item()\n",
        "        loss.backward()\n",
        "\n",
        "        optimizer.step()\n",
        "        train_losses.append(loss.item())\n",
        "\n",
        "    if epoch % 20 == 0:\n",
        "        print(\"Epoch: %d, train_loss: %1.5f\" % (epoch, loss.item()))\n",
        "\n",
        "## ============== val ==================== ##\n",
        "    with torch.no_grad():\n",
        "        val_loss=0\n",
        "        for i,data in enumerate(val_dataloader):\n",
        "            vinput,vlabel = data\n",
        "\n",
        "            model.eval()\n",
        "            vinput = vinput.float().to(DEVICE)\n",
        "            vlabel = vlabel.to(DEVICE)\n",
        "            y_pred = model(vinput)\n",
        "            \n",
        "            val_loss += criterion(y_pred, vlabel,q).item()\n",
        "\n",
        "        val_losses.append(val_loss)\n",
        "\n",
        "    if epoch % 100 == 0:\n",
        "        print(\"\\n ====== Epoch: %d, val_loss: %1.5f ======= \\n\" % (epoch, val_loss))\n",
        "\n",
        "\n",
        "\n",
        "model.load_state_dict(torch.load(\"/content/gdrive/Shareddrives/nlp paper writing/EXPERIMENTS/models/checkpoint.pt\"))"
      ],
      "execution_count": null,
      "outputs": [
        {
          "output_type": "stream",
          "text": [
            "/usr/local/lib/python3.7/dist-packages/torch/nn/functional.py:1805: UserWarning:\n",
            "\n",
            "nn.functional.sigmoid is deprecated. Use torch.sigmoid instead.\n",
            "\n",
            "/usr/local/lib/python3.7/dist-packages/torch/nn/functional.py:1794: UserWarning:\n",
            "\n",
            "nn.functional.tanh is deprecated. Use torch.tanh instead.\n",
            "\n"
          ],
          "name": "stderr"
        },
        {
          "output_type": "stream",
          "text": [
            "Epoch: 0, train_loss: 0.55710\n",
            "\n",
            " ====== Epoch: 0, val_loss: 0.46790 ======= \n",
            "\n",
            "Epoch: 20, train_loss: 0.33967\n",
            "Epoch: 40, train_loss: 0.32959\n",
            "Epoch: 60, train_loss: 0.32542\n",
            "Epoch: 80, train_loss: 0.32436\n",
            "Epoch: 100, train_loss: 0.32435\n",
            "\n",
            " ====== Epoch: 100, val_loss: 0.42865 ======= \n",
            "\n",
            "Epoch: 120, train_loss: 0.32432\n",
            "Epoch: 140, train_loss: 0.32431\n",
            "Epoch: 160, train_loss: 0.32431\n",
            "Epoch: 180, train_loss: 0.32430\n",
            "Epoch: 200, train_loss: 0.32430\n",
            "\n",
            " ====== Epoch: 200, val_loss: 0.42853 ======= \n",
            "\n",
            "Epoch: 220, train_loss: 0.32429\n",
            "Epoch: 240, train_loss: 0.32429\n",
            "Epoch: 260, train_loss: 0.32428\n",
            "Epoch: 280, train_loss: 0.32428\n",
            "Epoch: 300, train_loss: 0.32427\n",
            "\n",
            " ====== Epoch: 300, val_loss: 0.42854 ======= \n",
            "\n",
            "Epoch: 320, train_loss: 0.32426\n",
            "Epoch: 340, train_loss: 0.32426\n",
            "Epoch: 360, train_loss: 0.32425\n",
            "Epoch: 380, train_loss: 0.32425\n",
            "Epoch: 400, train_loss: 0.32424\n",
            "\n",
            " ====== Epoch: 400, val_loss: 0.42857 ======= \n",
            "\n",
            "Epoch: 420, train_loss: 0.32424\n",
            "Epoch: 440, train_loss: 0.32423\n",
            "Epoch: 460, train_loss: 0.32422\n",
            "Epoch: 480, train_loss: 0.32422\n",
            "Epoch: 500, train_loss: 0.32421\n",
            "\n",
            " ====== Epoch: 500, val_loss: 0.42862 ======= \n",
            "\n",
            "Epoch: 520, train_loss: 0.32420\n",
            "Epoch: 540, train_loss: 0.32419\n",
            "Epoch: 560, train_loss: 0.32418\n",
            "Epoch: 580, train_loss: 0.32416\n",
            "Epoch: 600, train_loss: 0.32414\n",
            "\n",
            " ====== Epoch: 600, val_loss: 0.42853 ======= \n",
            "\n",
            "Epoch: 620, train_loss: 0.32414\n",
            "Epoch: 640, train_loss: 0.32413\n",
            "Epoch: 660, train_loss: 0.32413\n",
            "Epoch: 680, train_loss: 0.32412\n",
            "Epoch: 700, train_loss: 0.32412\n",
            "\n",
            " ====== Epoch: 700, val_loss: 0.42853 ======= \n",
            "\n",
            "Epoch: 720, train_loss: 0.32411\n",
            "Epoch: 740, train_loss: 0.32411\n",
            "Epoch: 760, train_loss: 0.32410\n",
            "Epoch: 780, train_loss: 0.32410\n",
            "Epoch: 800, train_loss: 0.32409\n",
            "\n",
            " ====== Epoch: 800, val_loss: 0.42853 ======= \n",
            "\n",
            "Epoch: 820, train_loss: 0.32409\n",
            "Epoch: 840, train_loss: 0.32408\n",
            "Epoch: 860, train_loss: 0.32408\n",
            "Epoch: 880, train_loss: 0.32407\n",
            "Epoch: 900, train_loss: 0.32407\n",
            "\n",
            " ====== Epoch: 900, val_loss: 0.42853 ======= \n",
            "\n",
            "Epoch: 920, train_loss: 0.32406\n",
            "Epoch: 940, train_loss: 0.32405\n",
            "Epoch: 960, train_loss: 0.32406\n",
            "Epoch: 980, train_loss: 0.32404\n"
          ],
          "name": "stdout"
        },
        {
          "output_type": "error",
          "ename": "RuntimeError",
          "evalue": "ignored",
          "traceback": [
            "\u001b[0;31m---------------------------------------------------------------------------\u001b[0m",
            "\u001b[0;31mRuntimeError\u001b[0m                              Traceback (most recent call last)",
            "\u001b[0;32m<ipython-input-29-b3ed9ab299bc>\u001b[0m in \u001b[0;36m<module>\u001b[0;34m()\u001b[0m\n\u001b[1;32m     42\u001b[0m \u001b[0;34m\u001b[0m\u001b[0m\n\u001b[1;32m     43\u001b[0m \u001b[0;34m\u001b[0m\u001b[0m\n\u001b[0;32m---> 44\u001b[0;31m \u001b[0mmodel\u001b[0m\u001b[0;34m.\u001b[0m\u001b[0mload_state_dict\u001b[0m\u001b[0;34m(\u001b[0m\u001b[0mtorch\u001b[0m\u001b[0;34m.\u001b[0m\u001b[0mload\u001b[0m\u001b[0;34m(\u001b[0m\u001b[0;34m\"/content/gdrive/Shareddrives/nlp paper writing/EXPERIMENTS/models/checkpoint.pt\"\u001b[0m\u001b[0;34m)\u001b[0m\u001b[0;34m)\u001b[0m\u001b[0;34m\u001b[0m\u001b[0;34m\u001b[0m\u001b[0m\n\u001b[0m",
            "\u001b[0;32m/usr/local/lib/python3.7/dist-packages/torch/nn/modules/module.py\u001b[0m in \u001b[0;36mload_state_dict\u001b[0;34m(self, state_dict, strict)\u001b[0m\n\u001b[1;32m   1405\u001b[0m         \u001b[0;32mif\u001b[0m \u001b[0mlen\u001b[0m\u001b[0;34m(\u001b[0m\u001b[0merror_msgs\u001b[0m\u001b[0;34m)\u001b[0m \u001b[0;34m>\u001b[0m \u001b[0;36m0\u001b[0m\u001b[0;34m:\u001b[0m\u001b[0;34m\u001b[0m\u001b[0;34m\u001b[0m\u001b[0m\n\u001b[1;32m   1406\u001b[0m             raise RuntimeError('Error(s) in loading state_dict for {}:\\n\\t{}'.format(\n\u001b[0;32m-> 1407\u001b[0;31m                                self.__class__.__name__, \"\\n\\t\".join(error_msgs)))\n\u001b[0m\u001b[1;32m   1408\u001b[0m         \u001b[0;32mreturn\u001b[0m \u001b[0m_IncompatibleKeys\u001b[0m\u001b[0;34m(\u001b[0m\u001b[0mmissing_keys\u001b[0m\u001b[0;34m,\u001b[0m \u001b[0munexpected_keys\u001b[0m\u001b[0;34m)\u001b[0m\u001b[0;34m\u001b[0m\u001b[0;34m\u001b[0m\u001b[0m\n\u001b[1;32m   1409\u001b[0m \u001b[0;34m\u001b[0m\u001b[0m\n",
            "\u001b[0;31mRuntimeError\u001b[0m: Error(s) in loading state_dict for GRUModel:\n\tsize mismatch for gru_cell.x2h.weight: copying a param with shape torch.Size([192, 5]) from checkpoint, the shape in current model is torch.Size([192, 4])."
          ]
        }
      ]
    },
    {
      "cell_type": "code",
      "metadata": {
        "id": "EHJ7DdNUug7U"
      },
      "source": [
        "predict = pd.DataFrame(scaler.inverse_transform(output.cpu().detach().numpy())) * 1000\n",
        "original = pd.DataFrame(scaler.inverse_transform(trainY.cpu().detach().numpy()))* 1000"
      ],
      "execution_count": null,
      "outputs": []
    },
    {
      "cell_type": "code",
      "metadata": {
        "colab": {
          "base_uri": "https://localhost:8080/",
          "height": 409
        },
        "id": "xctYEHM0uVqc",
        "outputId": "49cf4eda-90e7-4704-aee4-949a53ea58ee"
      },
      "source": [
        "import seaborn as sns\n",
        "sns.set_style(\"darkgrid\")    \n",
        "\n",
        "fig = plt.figure()\n",
        "fig.subplots_adjust(hspace=0.2, wspace=0.2)\n",
        "\n",
        "plt.subplot(1, 2, 1)\n",
        "ax = sns.lineplot(x = original.index, y = original[0], label=\"Data\", color='royalblue')\n",
        "ax = sns.lineplot(x = predict.index, y = predict[0], label=\"Training Prediction (LSTM)\", color='tomato')\n",
        "ax.set_title('Stock price', size = 14, fontweight='bold')\n",
        "ax.set_xlabel(\"Days\", size = 14)\n",
        "ax.set_ylabel(\"snp500\", size = 14)\n",
        "ax.set_xticklabels('', size=10)\n",
        "\n",
        "\n",
        "plt.subplot(1, 2, 2)\n",
        "ax = sns.lineplot(data=hist, color='royalblue')\n",
        "ax.set_xlabel(\"Epoch\", size = 14)\n",
        "ax.set_ylabel(\"Loss\", size = 14)\n",
        "ax.set_title(\"Training Loss\", size = 14, fontweight='bold')\n",
        "fig.set_figheight(6)\n",
        "fig.set_figwidth(16)"
      ],
      "execution_count": null,
      "outputs": [
        {
          "output_type": "display_data",
          "data": {
            "image/png": "[encoded data removed]",
            "text/plain": [
              "<Figure size 1152x432 with 2 Axes>"
            ]
          },
          "metadata": {
            "tags": []
          }
        }
      ]
    },
    {
      "cell_type": "code",
      "metadata": {
        "id": "A__qBWzQ4-zj"
      },
      "source": [
        "def test_model(model, DEVICE):\n",
        "    global testX\n",
        "    with torch.no_grad():\n",
        "        model.eval()\n",
        "        for epoch in range(len(testX)):\n",
        "            testX = testX.cuda()\n",
        "            test_output = model(testX)\n",
        "\n",
        "\n",
        "\n",
        "\n",
        "    return test_output"
      ],
      "execution_count": null,
      "outputs": []
    },
    {
      "cell_type": "markdown",
      "metadata": {
        "id": "HJnnq_9D4-zk"
      },
      "source": [
        "## Quantile loss - Test"
      ]
    },
    {
      "cell_type": "code",
      "metadata": {
        "colab": {
          "base_uri": "https://localhost:8080/"
        },
        "id": "eAka1_41wd9I",
        "outputId": "57127b42-8a73-4b7b-af74-567aa685ccc2"
      },
      "source": [
        "import math, time\n",
        "from sklearn.metrics import mean_squared_error\n",
        "\n",
        "# make predictions\n",
        "testX = testX.to(DEVICE)\n",
        "testY = testY.to(DEVICE)\n",
        "output_test = model(testX)\n",
        "\n",
        "# calculate quantile loss \n",
        "trainScoreQuantile = quantile_loss(output, trainY.to(DEVICE), q, test=True)\n",
        "print('Train Score: %.2f Quantile loss' % (trainScoreQuantile))\n",
        "testScoreQuantile = quantile_loss(output_test, testY.to(DEVICE), q, test=True)\n",
        "print('Test Score: %.2f Quantile loss' % (testScoreQuantile))\n",
        "\n",
        "lstmQuantile = []\n",
        "lstmQuantile.append(trainScoreQuantile)\n",
        "lstmQuantile.append(testScoreQuantile)"
      ],
      "execution_count": null,
      "outputs": [
        {
          "output_type": "stream",
          "text": [
            "Train Score: 0.32 Quantile loss\n",
            "Test Score: 0.86 Quantile loss\n"
          ],
          "name": "stdout"
        },
        {
          "output_type": "stream",
          "text": [
            "/usr/local/lib/python3.7/dist-packages/torch/nn/functional.py:1805: UserWarning:\n",
            "\n",
            "nn.functional.sigmoid is deprecated. Use torch.sigmoid instead.\n",
            "\n",
            "/usr/local/lib/python3.7/dist-packages/torch/nn/functional.py:1794: UserWarning:\n",
            "\n",
            "nn.functional.tanh is deprecated. Use torch.tanh instead.\n",
            "\n"
          ],
          "name": "stderr"
        }
      ]
    },
    {
      "cell_type": "markdown",
      "metadata": {
        "id": "WNX2rO4R4-zl"
      },
      "source": [
        "## RMSE - Test"
      ]
    },
    {
      "cell_type": "code",
      "metadata": {
        "colab": {
          "base_uri": "https://localhost:8080/"
        },
        "id": "rnAJxYLS4-zl",
        "outputId": "ec7c3d09-452a-4da2-f4a2-cf90de110be4"
      },
      "source": [
        "import math, time\n",
        "from sklearn.metrics import mean_squared_error\n",
        "\n",
        "# make predictions\n",
        "testX = testX.to(DEVICE)\n",
        "testY = testY.to(DEVICE)\n",
        "output_test = model(testX)\n",
        "\n",
        "# invert predictions\n",
        "y_train_pred = scaler.inverse_transform(output.cpu().detach().numpy())\n",
        "y_train = scaler.inverse_transform(trainY.cpu().detach().numpy())\n",
        "y_test_pred = scaler.inverse_transform(output_test.cpu().detach().numpy())\n",
        "y_test = scaler.inverse_transform(testY.cpu().detach().numpy())\n",
        "\n",
        "# calculate root mean squared error\n",
        "trainScore = math.sqrt(mean_squared_error(y_train[:,0], y_train_pred[:,0]))\n",
        "print('Train Score: %.2f RMSE' % (trainScore))\n",
        "testScore = math.sqrt(mean_squared_error(y_test[:,0], y_test_pred[:,0]))\n",
        "print('Test Score: %.2f RMSE' % (testScore))\n",
        "\n",
        "lstm = []\n",
        "lstm.append(trainScore)\n",
        "lstm.append(testScore)"
      ],
      "execution_count": null,
      "outputs": [
        {
          "output_type": "stream",
          "text": [
            "Train Score: 0.33 RMSE\n",
            "Test Score: 2.44 RMSE\n"
          ],
          "name": "stdout"
        },
        {
          "output_type": "stream",
          "text": [
            "/usr/local/lib/python3.7/dist-packages/torch/nn/functional.py:1805: UserWarning:\n",
            "\n",
            "nn.functional.sigmoid is deprecated. Use torch.sigmoid instead.\n",
            "\n",
            "/usr/local/lib/python3.7/dist-packages/torch/nn/functional.py:1794: UserWarning:\n",
            "\n",
            "nn.functional.tanh is deprecated. Use torch.tanh instead.\n",
            "\n"
          ],
          "name": "stderr"
        }
      ]
    },
    {
      "cell_type": "code",
      "metadata": {
        "colab": {
          "base_uri": "https://localhost:8080/",
          "height": 430
        },
        "id": "CCC2ejLgtGnJ",
        "outputId": "8c569123-43d1-4051-92cc-07ab5d20e34b"
      },
      "source": [
        "model.eval()\n",
        "dataX=dataX.to(DEVICE)\n",
        "dataY=dataY.to(DEVICE)\n",
        "\n",
        "train_predict = model(dataX)\n",
        "\n",
        "data_predict = train_predict.data.cpu() \n",
        "dataY_plot = dataY.data.cpu() \n",
        "\n",
        "data_predict = scaler.inverse_transform(data_predict) * 1000\n",
        "dataY_plot = scaler.inverse_transform(dataY_plot) * 1000\n",
        "\n",
        "dataY_onlyprice=[]\n",
        "for i in range(len(dataY_plot)):\n",
        "     dataY_onlyprice.append(dataY_plot[i][0])\n",
        "\n",
        "plt.axvline(x=train_size, c='r', linestyle='--')\n",
        "plt.plot(dataY_onlyprice, 'r-')\n",
        "plt.plot(data_predict, 'b-')\n",
        "plt.suptitle('Time-Series Prediction')\n",
        "plt.show()"
      ],
      "execution_count": null,
      "outputs": [
        {
          "output_type": "stream",
          "text": [
            "/usr/local/lib/python3.7/dist-packages/torch/nn/functional.py:1805: UserWarning:\n",
            "\n",
            "nn.functional.sigmoid is deprecated. Use torch.sigmoid instead.\n",
            "\n",
            "/usr/local/lib/python3.7/dist-packages/torch/nn/functional.py:1794: UserWarning:\n",
            "\n",
            "nn.functional.tanh is deprecated. Use torch.tanh instead.\n",
            "\n"
          ],
          "name": "stderr"
        },
        {
          "output_type": "display_data",
          "data": {
            "image/png": "[encoded data removed]",
            "text/plain": [
              "<Figure size 432x288 with 1 Axes>"
            ]
          },
          "metadata": {
            "tags": []
          }
        }
      ]
    },
    {
      "cell_type": "markdown",
      "metadata": {
        "id": "kE6MhK4NGy2I"
      },
      "source": [
        "# BackTesting"
      ]
    },
    {
      "cell_type": "code",
      "metadata": {
        "colab": {
          "base_uri": "https://localhost:8080/"
        },
        "id": "izzFEvJyG0Va",
        "outputId": "1e81b853-25d0-4157-ad8d-c7c643f71a77"
      },
      "source": [
        "!pip install yfinance"
      ],
      "execution_count": null,
      "outputs": [
        {
          "output_type": "stream",
          "text": [
            "Collecting yfinance\n",
            "  Downloading https://files.pythonhosted.org/packages/58/2d/0c91d633409cd1ac6e1f97ce30d67948748eb60999bed51c8daee83e2866/yfinance-0.1.62.tar.gz\n",
            "Requirement already satisfied: pandas>=0.24 in /usr/local/lib/python3.7/dist-packages (from yfinance) (1.1.5)\n",
            "Requirement already satisfied: numpy>=1.15 in /usr/local/lib/python3.7/dist-packages (from yfinance) (1.19.5)\n",
            "Requirement already satisfied: requests>=2.20 in /usr/local/lib/python3.7/dist-packages (from yfinance) (2.23.0)\n",
            "Requirement already satisfied: multitasking>=0.0.7 in /usr/local/lib/python3.7/dist-packages (from yfinance) (0.0.9)\n",
            "Collecting lxml>=4.5.1\n",
            "\u001b[?25l  Downloading https://files.pythonhosted.org/packages/30/c0/d0526314971fc661b083ab135747dc68446a3022686da8c16d25fcf6ef07/lxml-4.6.3-cp37-cp37m-manylinux2014_x86_64.whl (6.3MB)\n",
            "\u001b[K     |████████████████████████████████| 6.3MB 6.4MB/s \n",
            "\u001b[?25hRequirement already satisfied: python-dateutil>=2.7.3 in /usr/local/lib/python3.7/dist-packages (from pandas>=0.24->yfinance) (2.8.1)\n",
            "Requirement already satisfied: pytz>=2017.2 in /usr/local/lib/python3.7/dist-packages (from pandas>=0.24->yfinance) (2018.9)\n",
            "Requirement already satisfied: urllib3!=1.25.0,!=1.25.1,<1.26,>=1.21.1 in /usr/local/lib/python3.7/dist-packages (from requests>=2.20->yfinance) (1.24.3)\n",
            "Requirement already satisfied: certifi>=2017.4.17 in /usr/local/lib/python3.7/dist-packages (from requests>=2.20->yfinance) (2021.5.30)\n",
            "Requirement already satisfied: chardet<4,>=3.0.2 in /usr/local/lib/python3.7/dist-packages (from requests>=2.20->yfinance) (3.0.4)\n",
            "Requirement already satisfied: idna<3,>=2.5 in /usr/local/lib/python3.7/dist-packages (from requests>=2.20->yfinance) (2.10)\n",
            "Requirement already satisfied: six>=1.5 in /usr/local/lib/python3.7/dist-packages (from python-dateutil>=2.7.3->pandas>=0.24->yfinance) (1.15.0)\n",
            "Building wheels for collected packages: yfinance\n",
            "  Building wheel for yfinance (setup.py) ... \u001b[?25l\u001b[?25hdone\n",
            "  Created wheel for yfinance: filename=yfinance-0.1.62-py2.py3-none-any.whl size=23867 sha256=6305021477cfb412369151df3a91fe30863e86c3327b57ff11c2b8ea9c0fa9b5\n",
            "  Stored in directory: /root/.cache/pip/wheels/38/5c/4a/7266ab5120deea4efa7a6dd8f6f41e913b77500ec3397c9f01\n",
            "Successfully built yfinance\n",
            "Installing collected packages: lxml, yfinance\n",
            "  Found existing installation: lxml 4.2.6\n",
            "    Uninstalling lxml-4.2.6:\n",
            "      Successfully uninstalled lxml-4.2.6\n",
            "Successfully installed lxml-4.6.3 yfinance-0.1.62\n"
          ],
          "name": "stdout"
        }
      ]
    },
    {
      "cell_type": "code",
      "metadata": {
        "id": "KRM4-nNNG7fX"
      },
      "source": [
        "def get_positions(difference, thres=3, short=True):    \n",
        "    if difference > thres/100:\n",
        "        return 1\n",
        "    elif short and difference < -thres/100:    \n",
        "        return -1\n",
        "    else:\n",
        "        return 0"
      ],
      "execution_count": null,
      "outputs": []
    },
    {
      "cell_type": "code",
      "metadata": {
        "id": "w_qIeXjmImN4"
      },
      "source": [
        "# trading model의 DF dictionary\n",
        "trade_df = {}\n",
        "\n",
        "# Getting the percentage difference between the predictions and the actual values\n",
        "trade_df['PercentDiff'] = (dataY_onlyprice / data_predict.flatten()) - 1\n",
        "\n",
        "# Getting positions\n",
        "getpos = lambda x: get_positions(x, \n",
        "                                 thres=1, \n",
        "                                 short=True)\n",
        "\n",
        "vecfunc = np.vectorize(getpos)\n",
        "trade_df['Positions'] = vecfunc(trade_df['PercentDiff'])\n",
        "\n",
        "# Getting Log Returns\n",
        "trade_df['LogReturns'] = logReturns.values"
      ],
      "execution_count": null,
      "outputs": []
    },
    {
      "cell_type": "code",
      "metadata": {
        "id": "HPSdAplOImrA"
      },
      "source": [
        "# Calculating Returns by multiplying the \n",
        "# positions by the log returns\n",
        "returns = trade_df['Positions'] * trade_df['LogReturns']\n",
        "\n",
        "returns_df = pd.DataFrame({'returns':returns}) \n",
        "\n",
        "performance = returns_df.cumsum().apply(np.exp)"
      ],
      "execution_count": null,
      "outputs": []
    },
    {
      "cell_type": "code",
      "metadata": {
        "colab": {
          "base_uri": "https://localhost:8080/",
          "height": 559
        },
        "id": "PkXsFJ0xIoaQ",
        "outputId": "858d3cf9-8912-4cfc-97ea-ad69a493e005"
      },
      "source": [
        "import yfinance as yf # 저작작권 \n",
        "import plotly.graph_objects as go\n",
        "\n",
        "# Returns for the portfolio\n",
        "returns_portf = (trade_df['Positions'] * trade_df['LogReturns'])\n",
        "\n",
        "# Returns for SPY\n",
        "spy = yf.download('SPY', start=\"2018-03-09\", end=\"2021-03-05\")\n",
        "\n",
        "spy = spy['Close'].apply(np.log).diff().dropna().cumsum().apply(np.exp)\n",
        "spy = pd.DataFrame({'returns':spy.values}) \n",
        "\n",
        "# Calculating the performance as we take the cumulative sum of the returns and transform the values back to normal\n",
        "returns_df = pd.DataFrame({'returns':returns_portf}, index=np.arange(0, 751)) \n",
        "performance = returns_df.cumsum().apply(np.exp)\n",
        "\n",
        "# Plotting the comparison between SPY returns and ARIMA returns\n",
        "fig = go.Figure()\n",
        "\n",
        "fig.add_trace(go.Scatter(x=spy.index,\n",
        "                         y=spy.returns,\n",
        "                         name='SPY Returns',\n",
        "                         mode='lines'))\n",
        "\n",
        "fig.add_trace(go.Scatter(x=performance.index,\n",
        "                         y=performance.returns,\n",
        "                         name='Quantile Regression on Portfolio',\n",
        "                         mode='lines'))\n",
        "\n",
        "fig.update_layout(title='SPY vs Quantile Regression Portfolio Returns',\n",
        "                  xaxis_title='Date',\n",
        "                  yaxis_title='Returns')\n",
        "\n",
        "fig.show()"
      ],
      "execution_count": null,
      "outputs": [
        {
          "output_type": "stream",
          "text": [
            "\r[*********************100%***********************]  1 of 1 completed\n"
          ],
          "name": "stdout"
        },
        {
          "output_type": "display_data",
          "data": {
            "text/html": [
              "<html>\n",
              "<head><meta charset=\"utf-8\" /></head>\n",
              "<body>\n",
              "    <div>\n",
              "            <script src=\"https://cdnjs.cloudflare.com/ajax/libs/mathjax/2.7.5/MathJax.js?config=TeX-AMS-MML_SVG\"></script><script type=\"text/javascript\">if (window.MathJax) {MathJax.Hub.Config({SVG: {font: \"STIX-Web\"}});}</script>\n",
              "                <script type=\"text/javascript\">window.PlotlyConfig = {MathJaxConfig: 'local'};</script>\n",
              "        <script src=\"https://cdn.plot.ly/plotly-latest.min.js\"></script>    \n",
              "            <div id=\"75b13db2-c76d-423d-ac26-207ad5561a19\" class=\"plotly-graph-div\" style=\"height:525px; width:100%;\"></div>\n",
              "            <script type=\"text/javascript\">\n",
              "                \n",
              "                    window.PLOTLYENV=window.PLOTLYENV || {};\n",
              "                    \n",
              "                if (document.getElementById(\"75b13db2-c76d-423d-ac26-207ad5561a19\")) {\n",
              "                    Plotly.newPlot(\n",
              "                        '75b13db2-c76d-423d-ac26-207ad5561a19',\n",
              "                        [{\"mode\": \"lines\", \"name\": \"SPY Returns\", \"type\": \"scatter\", \"x\": [0, 1, 2, 3, 4, 5, 6, 7, 8, 9, 10, 11, 12, 13, 14, 15, 16, 17, 18, 19, 20, 21, 22, 23, 24, 25, 26, 27, 28, 29, 30, 31, 32, 33, 34, 35, 36, 37, 38, 39, 40, 41, 42, 43, 44, 45, 46, 47, 48, 49, 50, 51, 52, 53, 54, 55, 56, 57, 58, 59, 60, 61, 62, 63, 64, 65, 66, 67, 68, 69, 70, 71, 72, 73, 74, 75, 76, 77, 78, 79, 80, 81, 82, 83, 84, 85, 86, 87, 88, 89, 90, 91, 92, 93, 94, 95, 96, 97, 98, 99, 100, 101, 102, 103, 104, 105, 106, 107, 108, 109, 110, 111, 112, 113, 114, 115, 116, 117, 118, 119, 120, 121, 122, 123, 124, 125, 126, 127, 128, 129, 130, 131, 132, 133, 134, 135, 136, 137, 138, 139, 140, 141, 142, 143, 144, 145, 146, 147, 148, 149, 150, 151, 152, 153, 154, 155, 156, 157, 158, 159, 160, 161, 162, 163, 164, 165, 166, 167, 168, 169, 170, 171, 172, 173, 174, 175, 176, 177, 178, 179, 180, 181, 182, 183, 184, 185, 186, 187, 188, 189, 190, 191, 192, 193, 194, 195, 196, 197, 198, 199, 200, 201, 202, 203, 204, 205, 206, 207, 208, 209, 210, 211, 212, 213, 214, 215, 216, 217, 218, 219, 220, 221, 222, 223, 224, 225, 226, 227, 228, 229, 230, 231, 232, 233, 234, 235, 236, 237, 238, 239, 240, 241, 242, 243, 244, 245, 246, 247, 248, 249, 250, 251, 252, 253, 254, 255, 256, 257, 258, 259, 260, 261, 262, 263, 264, 265, 266, 267, 268, 269, 270, 271, 272, 273, 274, 275, 276, 277, 278, 279, 280, 281, 282, 283, 284, 285, 286, 287, 288, 289, 290, 291, 292, 293, 294, 295, 296, 297, 298, 299, 300, 301, 302, 303, 304, 305, 306, 307, 308, 309, 310, 311, 312, 313, 314, 315, 316, 317, 318, 319, 320, 321, 322, 323, 324, 325, 326, 327, 328, 329, 330, 331, 332, 333, 334, 335, 336, 337, 338, 339, 340, 341, 342, 343, 344, 345, 346, 347, 348, 349, 350, 351, 352, 353, 354, 355, 356, 357, 358, 359, 360, 361, 362, 363, 364, 365, 366, 367, 368, 369, 370, 371, 372, 373, 374, 375, 376, 377, 378, 379, 380, 381, 382, 383, 384, 385, 386, 387, 388, 389, 390, 391, 392, 393, 394, 395, 396, 397, 398, 399, 400, 401, 402, 403, 404, 405, 406, 407, 408, 409, 410, 411, 412, 413, 414, 415, 416, 417, 418, 419, 420, 421, 422, 423, 424, 425, 426, 427, 428, 429, 430, 431, 432, 433, 434, 435, 436, 437, 438, 439, 440, 441, 442, 443, 444, 445, 446, 447, 448, 449, 450, 451, 452, 453, 454, 455, 456, 457, 458, 459, 460, 461, 462, 463, 464, 465, 466, 467, 468, 469, 470, 471, 472, 473, 474, 475, 476, 477, 478, 479, 480, 481, 482, 483, 484, 485, 486, 487, 488, 489, 490, 491, 492, 493, 494, 495, 496, 497, 498, 499, 500, 501, 502, 503, 504, 505, 506, 507, 508, 509, 510, 511, 512, 513, 514, 515, 516, 517, 518, 519, 520, 521, 522, 523, 524, 525, 526, 527, 528, 529, 530, 531, 532, 533, 534, 535, 536, 537, 538, 539, 540, 541, 542, 543, 544, 545, 546, 547, 548, 549, 550, 551, 552, 553, 554, 555, 556, 557, 558, 559, 560, 561, 562, 563, 564, 565, 566, 567, 568, 569, 570, 571, 572, 573, 574, 575, 576, 577, 578, 579, 580, 581, 582, 583, 584, 585, 586, 587, 588, 589, 590, 591, 592, 593, 594, 595, 596, 597, 598, 599, 600, 601, 602, 603, 604, 605, 606, 607, 608, 609, 610, 611, 612, 613, 614, 615, 616, 617, 618, 619, 620, 621, 622, 623, 624, 625, 626, 627, 628, 629, 630, 631, 632, 633, 634, 635, 636, 637, 638, 639, 640, 641, 642, 643, 644, 645, 646, 647, 648, 649, 650, 651, 652, 653, 654, 655, 656, 657, 658, 659, 660, 661, 662, 663, 664, 665, 666, 667, 668, 669, 670, 671, 672, 673, 674, 675, 676, 677, 678, 679, 680, 681, 682, 683, 684, 685, 686, 687, 688, 689, 690, 691, 692, 693, 694, 695, 696, 697, 698, 699, 700, 701, 702, 703, 704, 705, 706, 707, 708, 709, 710, 711, 712, 713, 714, 715, 716, 717, 718, 719, 720, 721, 722, 723, 724, 725, 726, 727, 728, 729, 730, 731, 732, 733, 734, 735, 736, 737, 738, 739, 740, 741, 742, 743, 744, 745, 746, 747, 748, 749, 750], \"y\": [0.9987449130073359, 0.9922903362350577, 0.9871983096542218, 0.9861225833365068, 0.9832539068672703, 0.9699501379512305, 0.9715997308823839, 0.9697349926876868, 0.9454943810535595, 0.9253415294267503, 0.9506579768115865, 0.9344856408593029, 0.9317244275888452, 0.9436296428588624, 0.9232617554015023, 0.9350951826283436, 0.9450998751150684, 0.9525586090278714, 0.9313300310833466, 0.935919979093921, 0.9508014434649459, 0.9458170989488734, 0.9535984413239991, 0.9508014434649459, 0.9586186798616586, 0.9688744116335143, 0.9695916354673201, 0.9642127850127575, 0.9560368272661492, 0.9558934700457823, 0.943020101089821, 0.9453509144001999, 0.9549611009484336, 0.9558575760241937, 0.9485065241761551, 0.9501919016959043, 0.9438090035338097, 0.9417291200755697, 0.9539211592193133, 0.9571485570384453, 0.9571485570384453, 0.9664001316697767, 0.9754365610375642, 0.9784129195715651, 0.9788791041202389, 0.9721375940412422, 0.9762254634815529, 0.9754007764489687, 0.9729622810738262, 0.9802775483332699, 0.9775522290844001, 0.9802416543116814, 0.9782335588966177, 0.9759027455862385, 0.9646788601284385, 0.9775522290844001, 0.9715638368607961, 0.9811023447988465, 0.9857639714196041, 0.9864811952534093, 0.9947287221772085, 0.9946211495454365, 0.997561614057849, 0.9988883796606958, 1.0001793606749474, 0.9969878568774034, 0.9994980308627299, 0.993760568491264, 0.9917165790546123, 0.9879155334880276, 0.9896009110077766, 0.9833972640876366, 0.9851902142391583, 0.9717789821243392, 0.9739305441927631, 0.9658622685109183, 0.9713845856188414, 0.9727830298318708, 0.9748628038571188, 0.9714203702074368, 0.979345179235921, 0.9876287096143012, 0.9965216723287291, 1.0001075726317714, 0.9927923053723282, 1.0017929501515201, 1.0025818525955097, 1.0016853775197485, 1.0057374623714654, 1.0078531304183003, 1.0040520848517154, 1.0029045704908237, 1.004769308685521, 1.009825331811777, 1.0184315800854709, 1.0160289787319159, 1.0091441114325523, 1.0038728336097609, 1.008821284104245, 1.0071359065844947, 1.012622439103822, 1.0169613478292647, 1.0206907147856663, 1.024061360392172, 1.023631069865086, 1.022232625652056, 1.0153835429412867, 1.0115824973747023, 1.0180370741469806, 1.0104349830138109, 1.018610831327426, 1.0221967316304679, 1.0243841877204796, 1.0267866796410414, 1.0261771378720004, 1.0248144782475657, 1.0309822311461176, 1.039122185438145, 1.039624264008407, 1.0452182597265136, 1.04098681419985, 1.0410227082214378, 1.039229758069917, 1.0364327602108636, 1.0333130444564957, 1.031304949041432, 1.033097899192953, 1.0365044388210471, 1.0367554781061787, 1.0428873369831422, 1.0430666976580898, 1.037544380550167, 1.0431742702898612, 1.0442858906291643, 1.0527485628165072, 1.0470469944666299, 1.0435686667953599, 1.0426005131094154, 1.039480797355048, 1.0423853678458723, 1.042492940477644, 1.046114734802274, 1.0455050836002404, 1.0460788407806854, 1.0379029924670704, 1.0320938514854208, 1.0320938514854208, 1.0305877252076263, 0.9979560105633477, 0.9759745336294149, 0.9895292323975932, 0.9839710212680828, 1.0054864230863334, 1.0056657837612815, 0.9911428218741668, 0.9906049587153084, 0.9861584773580948, 0.9811381293874419, 0.95141109466698, 0.9684799056950236, 0.951446879255575, 0.946175601432784, 0.9601964847496363, 0.9704522165214926, 0.9807796269035317, 0.9749704859218827, 0.9803493363764455, 0.9865528738635927, 1.0076738791763453, 1.005845035003237, 0.9960197031914596, 0.9774088718640332, 0.9755800276909237, 0.968910305655103, 0.9790224613406059, 0.9815685293475209, 0.9649657934351578, 0.9471079705301324, 0.9503352589162719, 0.9439882547757645, 0.9592283310636923, 0.962455619449832, 0.9846164570587119, 0.9824650044232814, 0.9884533966468848, 1.001541910866389, 0.9690895568970573, 0.9676193246408517, 0.9451357691366563, 0.9469287192881778, 0.9471438645517205, 0.9519130638042498, 0.9515903459089351, 0.934019456310628, 0.9156955035734247, 0.9146914558658925, 0.9009932904443544, 0.8863269713368727, 0.8631261919988723, 0.8403198638828661, 0.8827769103389222, 0.8895543144395078, 0.8884068000786164, 0.8961881971702376, 0.89712051155109, 0.8757127370811065, 0.9050453752960708, 0.9121813365970622, 0.9207515814161762, 0.9250547055530239, 0.9283178879607504, 0.9286764998776534, 0.9230107161163714, 0.9335891657835419, 0.9358483004837368, 0.9429483130466448, 0.9554989641072911, 0.9425897011297422, 0.9445620119562109, 0.9450639810934804, 0.9530605781651407, 0.9458170989488734, 0.9445620119562109, 0.9595151549374189, 0.967942042536166, 0.9684082270848405, 0.9752214157740215, 0.9793093946473255, 0.9780184136330741, 0.9686951603915597, 0.969878459341047, 0.9704163224999043, 0.9828952949503674, 0.9860866893149185, 0.9838993426578994, 0.9946211495454365, 0.9963424210867742, 0.998350516501838, 0.9948005102203846, 1.0009682631189363, 1.0023308133103788, 1.0016136989095654, 1.001183408382479, 0.9993186701877821, 1.00555821112951, 1.0019005227832918, 1.0005378631588573, 0.9944776828920768, 0.9861584773580948, 0.9841861665316259, 0.9984580891336097, 1.0022232406786065, 1.0088571781258326, 1.0082117423352033, 1.0087496054940615, 1.0124071844072868, 1.012658223692418, 1.0096101865482332, 1.0210134326809805, 1.0013626596244343, 1.0006096512020335, 1.008068275681844, 1.0027969978590525, 1.0065980434256374, 1.012945156999137, 1.0249578354679325, 1.0254599140381955, 1.0270736129477611, 1.0297988227636377, 1.0347832767127023, 1.0355721791566919, 1.030265007312312, 1.0337792290051708, 1.0334922956984516, 1.0404848450625803, 1.0398035152503622, 1.0404848450625803, 1.0379388864886585, 1.0399827664923171, 1.040879241568078, 1.0502384982641733, 1.0479076849537952, 1.0472621397301731, 1.0521390210474657, 1.0537885045456268, 1.0543263677044854, 1.0464015586760007, 1.0441424239758055, 1.0543622617260728, 1.0500233530006304, 1.0324882479909188, 1.031053909756301, 1.0279341940019335, 1.033097899192953, 1.0071359065844947, 1.0162441239954592, 1.0221967316304679, 1.0316635609583344, 1.024993729489521, 1.0182164348219278, 1.0273963308430756, 1.0242407210671198, 1.0117259640280614, 1.0140208833168523, 1.0045899480105738, 0.9978484379315761, 1.0005737571804456, 0.9870907370224501, 0.984580672470117, 1.005952607635008, 1.0146663191074812, 1.021264362533119, 1.031484200283387, 1.036217614947321, 1.0359665756621894, 1.0341378409220732, 1.0384049616043396, 1.0372575566764404, 1.037651953181939, 1.0485172267228358, 1.0508839340548028, 1.060924411130123, 1.0542546890943012, 1.052963817513043, 1.0426364071310033, 1.041596465401883, 1.0452899383366965, 1.05066878879126, 1.06020729672931, 1.0629684005667748, 1.0714669667757055, 1.0702477738046305, 1.0643669542127976, 1.065693719815644, 1.070785636963488, 1.0732958109488142, 1.0781009042229315, 1.0784595161398343, 1.0749811884685632, 1.06766592120912, 1.071574539407477, 1.065622041205461, 1.0682396783895658, 1.0758776635443243, 1.0809337961035717, 1.0757700909125523, 1.0829777855402247, 1.0810054747137552, 1.078351943508062, 1.066554300869817, 1.0572668322168979, 1.0493061291668253, 1.0177502502732534, 1.0320220634422448, 1.0326317146442792, 1.0528920294698667, 1.0457202288637835, 1.0329903265611813, 1.049055089881694, 1.0180370741469806, 1.020726499374262, 1.035787324420234, 1.048266187437705, 1.040233805777449, 1.0486965873977838, 1.0483737600694767, 1.0214437232080669, 1.0327392872760506, 1.028687202424334, 1.0359307910735942, 1.049162662513465, 1.0486965873977838, 1.0425646190878275, 1.0543981557476607, 1.0679528545158397, 1.0687775415484242, 1.069315514140274, 1.069064474855143, 1.0766665659883128, 1.080395932944714, 1.0796787091109086, 1.076343848092998, 1.0790691673418678, 1.0797146031324976, 1.079642815089321, 1.069602338014001, 1.0693512987288694, 1.0609603051517105, 1.0672356306820345, 1.0650123900034272, 1.0592749276319615, 1.0641875935378502, 1.0515293698454315, 1.032954432539593, 1.0414172141599285, 1.0555097760869643, 1.0509556126649862, 1.034639810059343, 1.0444651418711202, 1.0515293698454315, 1.0624305374079173, 1.0612472384584297, 1.0717539000824248, 1.070032628541087, 1.073188238317043, 1.0684907176746972, 1.0757341968909648, 1.0722200846310983, 1.0753398003854664, 1.0770968565153989, 1.081507553284018, 1.0876035181393935, 1.0872808002440792, 1.0906157706949826, 1.0877110907711653, 1.0977875713010663, 1.1021981586366925, 1.1009789656656168, 1.1012300049507484, 1.1051027291275166, 1.107828048376386, 1.1057123803295508, 1.1080431936399295, 1.1084018055568314, 1.110015395033405, 1.1180478861266534, 1.1188725731592377, 1.1185498552639237, 1.114390197780436, 1.1125972476289148, 1.1150715275926533, 1.1237135604549433, 1.1262595190288647, 1.1312798669995177, 1.1270843154944419, 1.1175100229677963, 1.110015395033405, 1.1168644777441736, 1.1188725731592377, 1.1290924109095055, 1.1255424046280518, 1.1242873176353891, 1.127478821432933, 1.1371965806129376, 1.1378779104251557, 1.1456951468218681, 1.1459461861069997, 1.1460178647171835, 1.150715385359528, 1.1501058435904876, 1.1518628997204199, 1.1518987937420082, 1.1580306526189716, 1.1577437193122522, 1.1513608211501583, 1.1541578190092106, 1.1649514139399246, 1.156130129835679, 1.160540826604298, 1.157277644196571, 1.1634453970951222, 1.1713343121020192, 1.1679635570625206, 1.175996048155769, 1.174203098004248, 1.1768566292099418, 1.1866461764331226, 1.1903396493679368, 1.1880087266245647, 1.1881521932779249, 1.189514852902359, 1.1789364032351892, 1.1600387480340362, 1.1721950025891843, 1.1712267394702476, 1.1750277850368327, 1.1536917438935292, 1.1622619887126433, 1.1799763449643095, 1.1936027223426706, 1.197619022605792, 1.1912361244436964, 1.200129087158125, 1.202208970616365, 1.2099545284028945, 1.2086635473886433, 1.2105999641935246, 1.207480248439157, 1.2132534953992178, 1.2082691508831453, 1.195826072454271, 1.1561660238572669, 1.121131707859433, 1.1170079443975336, 1.0668412341765356, 1.0623588587977335, 1.1083659115352438, 1.0766306719667247, 1.1218847162818344, 1.0845913750167975, 1.0666618735015885, 0.9833614794990421, 1.0342454135538444, 0.9838275546147233, 0.8896977263763712, 0.9657546958791474, 0.8600782095711844, 0.9065156075522766, 0.8606160727300419, 0.8624448621866545, 0.8204540002792724, 0.7994764616198791, 0.8719116367980251, 0.8849643117124378, 0.936637202927726, 0.908738848230884, 0.9382507924042992, 0.9242658031090347, 0.8826693377071511, 0.9030372798810065, 0.8899846049665942, 0.9497615017358254, 0.9507297648547625, 0.9826442556652358, 0.9975975080794376, 0.9884892906684736, 1.0176426776414824, 0.9960197031914596, 1.000824796465577, 1.0278625153917502, 1.0097536532015927, 0.9790942493837823, 1.000824796465577, 1.0007530084224006, 1.0147022131290702, 1.0293326382149632, 1.0245993329840228, 1.0514217972136601, 1.0416323594234713, 1.0140567773384406, 1.0168537751974933, 1.0262488164821844, 1.0192921611396435, 1.0315917729151591, 1.048660693376196, 1.048875838639739, 1.0279700880235214, 1.0097895472231808, 1.0218740137351536, 1.0265715343774988, 1.0578405893973437, 1.0469753158564463, 1.0647613507182954, 1.057410298870257, 1.0594183942853208, 1.0724710144832375, 1.08842831460497, 1.0864202191899066, 1.0912612064856113, 1.0956717938212381, 1.1047441172106138, 1.1194463303396842, 1.1165058658272715, 1.145121389641423, 1.1589630217163198, 1.1503209888540307, 1.1439021966703473, 1.0779574375695717, 1.0908667005471202, 1.1010506442758008, 1.1222433281987365, 1.1175817015779792, 1.1180119921050662, 1.1067523220586706, 1.1138523346215778, 1.1189801457910096, 1.0904364100200348, 1.1021264800265083, 1.0759493421545072, 1.0917631756228812, 1.1057481649181458, 1.1134937227046753, 1.119625691014632, 1.1369096473062192, 1.1251837927111499, 1.1337899315518518, 1.1273353547795726, 1.1388460641110991, 1.1289848382777343, 1.1436153727966207, 1.1541220344206151, 1.1503209888540307, 1.1536558498719407, 1.162979212546448, 1.1654534925101865, 1.17208732052442, 1.1581023312291547, 1.1506437067493454, 1.1590347003265042, 1.1516836484784647, 1.1658478890156851, 1.161688231532197, 1.1708681275533452, 1.1790081912783648, 1.1835622452673509, 1.1909132971153902, 1.1988740001654623, 1.1997346906526272, 1.203320590955669, 1.1933875770791282, 1.210026207013078, 1.2078387509230668, 1.2078746449446547, 1.2117115845328283, 1.2143293311499257, 1.2092731985906773, 1.213038350135674, 1.217341474272522, 1.229676980069625, 1.23397999477348, 1.2463513945921716, 1.249076604408048, 1.2571448800898917, 1.2525908261009067, 1.2643884687391513, 1.2826765821712642, 1.2385341581954579, 1.2284218930769617, 1.1948578093353337, 1.2184530946118257, 1.1972963047104774, 1.197905846479518, 1.2136837859263037, 1.2198157542362604, 1.2149747669405553, 1.2042887446416124, 1.1856779133141864, 1.172481826462911, 1.184422826321523, 1.1569549263012564, 1.1600387480340362, 1.1787930460148217, 1.198372031028192, 1.1918456662127386, 1.2008822050135184, 1.2085918687784607, 1.1971169440355294, 1.2183455219800536, 1.2010255622338861, 1.2219314222830953, 1.2327608018024052, 1.2437695419966615, 1.2637788175371185, 1.2555312906133187, 1.2476422661734299, 1.2461003553070398, 1.245347346884639, 1.226413797661898, 1.2313264635677867, 1.2289956502574075, 1.2357370509034127, 1.2399326024084885, 1.2170187563772077, 1.212823204872131, 1.1713702061236075, 1.1832754213936243, 1.1709399155965212, 1.1840643238376136, 1.2049700744538299, 1.231900220748232, 1.2559256871188165, 1.2556388632450903, 1.2714168026918757, 1.269552173930172, 1.27898310923645, 1.2665758153961713, 1.284110920405882, 1.3001398991377986, 1.2931473497736699, 1.277584555590428, 1.2829634060449904, 1.2741779065293406, 1.2818158916840983, 1.3024707124481778, 1.300462617033113, 1.3040844113577434, 1.2983110549646895, 1.312511189523498, 1.3152724027939555, 1.3149137908770525, 1.3262452489666239, 1.3235199297177545, 1.3273927633275149, 1.3154875480574983, 1.3150572575304122, 1.3135152372310301, 1.3076344176391976, 1.3253128798692746, 1.3273927633275149, 1.3348154937857382, 1.3238426476130694, 1.319109232949135, 1.3168859922705283, 1.3180694006530085, 1.3231972118224395, 1.3345645639335988, 1.3320184959266852, 1.3339190187099768, 1.3406964228105631, 1.3224442034000385, 1.3315523113780106, 1.3395130144280825, 1.3594148267697606, 1.3671603845562903, 1.3579445945135549, 1.3582314183872806, 1.3618891067334993, 1.357119798047977, 1.347222787626017, 1.3578011278601954, 1.3765913198625686, 1.3778462974222396, 1.3729695255379395, 1.3783842700140894, 1.3762327079456658, 1.3425969455938556, 1.35414354894697, 1.3270341514106125, 1.3491233104093097, 1.3682002168524177, 1.369276052603126, 1.3848388467863681, 1.3902893758511148, 1.4003299623594272, 1.3993975932620788, 1.398787942060045, 1.40104707676024, 1.4079679475141857, 1.4067486451101174, 1.4070714724384252, 1.4010829707818282, 1.39860869081809, 1.387850989908964, 1.389536367428714, 1.404848122326825, 1.370997214711471, 1.363932986737159, 1.3969949919085236, 1.3860939337790321, 1.367734141736736, 1.3508086879290588]}, {\"mode\": \"lines\", \"name\": \"Quantile Regression on Portfolio\", \"type\": \"scatter\", \"x\": [0, 1, 2, 3, 4, 5, 6, 7, 8, 9, 10, 11, 12, 13, 14, 15, 16, 17, 18, 19, 20, 21, 22, 23, 24, 25, 26, 27, 28, 29, 30, 31, 32, 33, 34, 35, 36, 37, 38, 39, 40, 41, 42, 43, 44, 45, 46, 47, 48, 49, 50, 51, 52, 53, 54, 55, 56, 57, 58, 59, 60, 61, 62, 63, 64, 65, 66, 67, 68, 69, 70, 71, 72, 73, 74, 75, 76, 77, 78, 79, 80, 81, 82, 83, 84, 85, 86, 87, 88, 89, 90, 91, 92, 93, 94, 95, 96, 97, 98, 99, 100, 101, 102, 103, 104, 105, 106, 107, 108, 109, 110, 111, 112, 113, 114, 115, 116, 117, 118, 119, 120, 121, 122, 123, 124, 125, 126, 127, 128, 129, 130, 131, 132, 133, 134, 135, 136, 137, 138, 139, 140, 141, 142, 143, 144, 145, 146, 147, 148, 149, 150, 151, 152, 153, 154, 155, 156, 157, 158, 159, 160, 161, 162, 163, 164, 165, 166, 167, 168, 169, 170, 171, 172, 173, 174, 175, 176, 177, 178, 179, 180, 181, 182, 183, 184, 185, 186, 187, 188, 189, 190, 191, 192, 193, 194, 195, 196, 197, 198, 199, 200, 201, 202, 203, 204, 205, 206, 207, 208, 209, 210, 211, 212, 213, 214, 215, 216, 217, 218, 219, 220, 221, 222, 223, 224, 225, 226, 227, 228, 229, 230, 231, 232, 233, 234, 235, 236, 237, 238, 239, 240, 241, 242, 243, 244, 245, 246, 247, 248, 249, 250, 251, 252, 253, 254, 255, 256, 257, 258, 259, 260, 261, 262, 263, 264, 265, 266, 267, 268, 269, 270, 271, 272, 273, 274, 275, 276, 277, 278, 279, 280, 281, 282, 283, 284, 285, 286, 287, 288, 289, 290, 291, 292, 293, 294, 295, 296, 297, 298, 299, 300, 301, 302, 303, 304, 305, 306, 307, 308, 309, 310, 311, 312, 313, 314, 315, 316, 317, 318, 319, 320, 321, 322, 323, 324, 325, 326, 327, 328, 329, 330, 331, 332, 333, 334, 335, 336, 337, 338, 339, 340, 341, 342, 343, 344, 345, 346, 347, 348, 349, 350, 351, 352, 353, 354, 355, 356, 357, 358, 359, 360, 361, 362, 363, 364, 365, 366, 367, 368, 369, 370, 371, 372, 373, 374, 375, 376, 377, 378, 379, 380, 381, 382, 383, 384, 385, 386, 387, 388, 389, 390, 391, 392, 393, 394, 395, 396, 397, 398, 399, 400, 401, 402, 403, 404, 405, 406, 407, 408, 409, 410, 411, 412, 413, 414, 415, 416, 417, 418, 419, 420, 421, 422, 423, 424, 425, 426, 427, 428, 429, 430, 431, 432, 433, 434, 435, 436, 437, 438, 439, 440, 441, 442, 443, 444, 445, 446, 447, 448, 449, 450, 451, 452, 453, 454, 455, 456, 457, 458, 459, 460, 461, 462, 463, 464, 465, 466, 467, 468, 469, 470, 471, 472, 473, 474, 475, 476, 477, 478, 479, 480, 481, 482, 483, 484, 485, 486, 487, 488, 489, 490, 491, 492, 493, 494, 495, 496, 497, 498, 499, 500, 501, 502, 503, 504, 505, 506, 507, 508, 509, 510, 511, 512, 513, 514, 515, 516, 517, 518, 519, 520, 521, 522, 523, 524, 525, 526, 527, 528, 529, 530, 531, 532, 533, 534, 535, 536, 537, 538, 539, 540, 541, 542, 543, 544, 545, 546, 547, 548, 549, 550, 551, 552, 553, 554, 555, 556, 557, 558, 559, 560, 561, 562, 563, 564, 565, 566, 567, 568, 569, 570, 571, 572, 573, 574, 575, 576, 577, 578, 579, 580, 581, 582, 583, 584, 585, 586, 587, 588, 589, 590, 591, 592, 593, 594, 595, 596, 597, 598, 599, 600, 601, 602, 603, 604, 605, 606, 607, 608, 609, 610, 611, 612, 613, 614, 615, 616, 617, 618, 619, 620, 621, 622, 623, 624, 625, 626, 627, 628, 629, 630, 631, 632, 633, 634, 635, 636, 637, 638, 639, 640, 641, 642, 643, 644, 645, 646, 647, 648, 649, 650, 651, 652, 653, 654, 655, 656, 657, 658, 659, 660, 661, 662, 663, 664, 665, 666, 667, 668, 669, 670, 671, 672, 673, 674, 675, 676, 677, 678, 679, 680, 681, 682, 683, 684, 685, 686, 687, 688, 689, 690, 691, 692, 693, 694, 695, 696, 697, 698, 699, 700, 701, 702, 703, 704, 705, 706, 707, 708, 709, 710, 711, 712, 713, 714, 715, 716, 717, 718, 719, 720, 721, 722, 723, 724, 725, 726, 727, 728, 729, 730, 731, 732, 733, 734, 735, 736, 737, 738, 739, 740, 741, 742, 743, 744, 745, 746, 747, 748, 749, 750], \"y\": [0.9987260323623671, 0.9923705487391308, 0.9866897296676551, 0.9859181718026097, 0.9875976558995474, 0.9735696573206479, 0.9750122910962221, 0.9732143818386044, 0.9487254940661812, 0.9288336557129367, 0.9540582149380787, 0.9375755857559646, 0.9348410411365949, 0.94771349723854, 0.92654410260643, 0.9382323071015618, 0.9490843581894586, 0.9555977420269363, 0.9346508431512578, 0.9377693723825351, 0.9534553232109723, 0.9481871978812669, 0.9560104357687056, 0.9532507706607044, 0.9609807038760909, 0.9712262745956498, 0.9720337188730228, 0.9664677363209974, 0.9582174501268585, 0.9582712797453506, 0.9454490646206629, 0.947185966977323, 0.9570690849323725, 0.9581349113785043, 0.9502901416436693, 0.9527124744757898, 0.9458474037975007, 0.9437157509052341, 0.9558058832184372, 0.9591110217938186, 0.9588562282662914, 0.9681400431354672, 0.9772121281719095, 0.9788808463451476, 0.9797457088822463, 0.9730421270594317, 0.9769932210567104, 0.9761570676494756, 0.9735876005268128, 0.9807792375572835, 0.9777037720207992, 0.9808797195118019, 0.9788952009100793, 0.976587704597408, 0.9652942506378801, 0.9775494604477907, 0.970824346777579, 0.981357008795759, 0.985753094305903, 0.9864457020638278, 0.9948969521670017, 0.9941864012029128, 0.9972941645104919, 0.9983599909566246, 1.0001004819545176, 0.9960740264913499, 0.9985358343770298, 0.9975202489081556, 0.9953993619395881, 0.9913944383238181, 0.9930918656269169, 0.9867902116221738, 0.9886275959333509, 0.9750589434322483, 0.9772085395306773, 0.9688003531222975, 0.974786206698557, 0.975525466792509, 0.9785183935806376, 0.9736773165576319, 0.9820711484010808, 0.9904003847023393, 0.9991387261041357, 1.002608942176223, 0.9954962552528731, 1.0042058875248072, 1.0052896571771026, 1.0042561285020652, 1.0082466975529059, 1.0104250027811972, 1.0064308450891233, 1.0054762665212071, 1.0073244167560838, 1.0121403732904612, 1.021352415334982, 1.0182554179511014, 1.0115733679756838, 1.0057525918961305, 1.0106654417437924, 1.009613969862591, 1.0145878266112107, 1.0192997125498369, 1.0229062969887706, 1.0257951531811502, 1.0255260050886938, 1.0240474849007923, 1.0167625431982696, 1.012689435399075, 1.0191597555417584, 1.0114118791202078, 1.0194217263517522, 1.022809403675487, 1.0252927434085637, 1.02741363037713, 1.0270045252765938, 1.0252676229199331, 1.0316231065431694, 1.0395360604614265, 1.0398159744775837, 1.04574440979412, 1.0411114739626135, 1.0412514309706924, 1.0395288831789622, 1.0366149064979528, 1.03282888999738, 1.0305429255321052, 1.032498735003966, 1.0363601129704256, 1.036729743017401, 1.0422060095386088, 1.042493100837231, 1.0366866793226073, 1.0422526618746346, 1.043558927283363, 1.0517410292940776, 1.0513534560409394, 1.047657155571186, 1.0462898832615, 1.0428483763192749, 1.0457300552291888, 1.045722877946723, 1.0495304262946914, 1.0491141439116898, 1.0498605812881074, 1.0412837287417858, 1.0355275482044233, 1.035118443103887, 1.0336506888396837, 0.9996806109302829, 0.9791141080252781, 0.993023681443495, 0.9871598416691485, 1.0083794772785184, 1.008124683750991, 0.9936158072469012, 0.9932569431236257, 0.9889864600566283, 0.9835353140240505, 0.9531789978360489, 0.9709320060145632, 0.9541084559153374, 0.9478498656053859, 0.9626996630265879, 0.973146197655182, 0.9834204775046029, 0.9772085395306773, 0.9826812174106525, 0.9888321484836187, 1.009804167847927, 1.0072705871375927, 0.9980047154745791, 0.9783425501602326, 0.9768927391021942, 0.9695001381626882, 0.9797708293708756, 0.9819491345991664, 0.9656064624251326, 0.9480795386442825, 0.9509648061954293, 0.9447313363741093, 0.9594052903749051, 0.9625345855298808, 0.9846477928062095, 0.9824981967077803, 0.9905259871454865, 1.0013636836684527, 0.9689546646953056, 0.9674797331486381, 0.9449179457182121, 0.9465830752502185, 0.9462457429743373, 0.9513739112959653, 0.9511837133106296, 0.9330287773140458, 0.9136465260158542, 0.9137254761229754, 0.8996580024905165, 0.8854685150561439, 0.8672382175936729, 0.8437254402365637, 0.8855689970106615, 0.8931517959355049, 0.8920429057945783, 0.8996185274369561, 0.9007597153489779, 0.8784598987285444, 0.9086224282899767, 0.9149922664781436, 0.9238633876055509, 0.9276494041061233, 0.9318409370659989, 0.9317045686991533, 0.9268060734164225, 0.9367430209899619, 0.9388244329049699, 0.9459514743932509, 0.958422002677126, 0.9448533501760228, 0.9469347620910291, 0.9482374388585249, 0.9562867611436273, 0.9487829123259053, 0.9474012854512891, 0.9621326577118111, 0.9704044757533452, 0.9712765155729093, 0.9778580835938095, 0.9824623102954528, 0.9802768277846963, 0.9711042607937349, 0.9717609821393324, 0.9724500012560249, 0.9849851250820896, 0.9879636973052884, 0.9853439892053677, 0.9960632605676519, 0.9975561353204834, 0.9993289240894719, 0.995804878398891, 1.00218907115199, 1.003423563736062, 1.0026304740236212, 1.00208500055624, 0.9992535626235839, 1.0061437537905016, 1.0022393121292483, 1.0011053014996933, 0.9945739744560523, 0.9864923543998544, 0.9843894106374506, 0.9988265143168847, 1.0017763774102215, 1.0087383414017956, 1.0078627129409987, 1.0128868106668774, 1.0166405293963547, 1.016507749670742, 1.0135148228826112, 1.0245140082610518, 1.0050743387031362, 1.004231008013436, 1.011444176891304, 1.006746645517607, 1.0103604072390073, 1.0171644710163397, 1.0289316256185925, 1.0289495688247565, 1.031160171824143, 1.0333097679225716, 1.0381006039683185, 1.039187962261849, 1.0328827196158719, 1.0364749494898744, 1.0365144245434357, 1.0433651406567923, 1.0427084193111953, 1.043239538213647, 1.0408674463587846, 1.0425110440433945, 1.0435661045658273, 1.0527925011752806, 1.0504850048626084, 1.05009743160947, 1.055017458739598, 1.0561478807279199, 1.0571527002730965, 1.049221803148673, 1.0469932569431244, 1.0570845160896731, 1.0523582755861143, 1.0349820747370413, 1.0333205338462697, 1.0301984159737605, 1.0340310848103578, 1.0090792623189082, 1.0171680596575712, 1.0231072608978053, 1.0322080550641115, 1.0261827264342909, 1.0192566488550447, 1.0279160401497185, 1.025012829392408, 1.012800683277291, 1.0141715442282082, 1.0056772304302424, 0.9987260323623671, 1.0008217988423034, 0.9876155991057097, 0.984884643127572, 1.0059930308587257, 1.0142038419993038, 1.0204265458969275, 1.0311386399767455, 1.035943830587424, 1.0355813778229144, 1.0334712567780457, 1.0377058534327148, 1.0360335466182446, 1.036998891109859, 1.0470757956914774, 1.0502015022052194, 1.0601492157024577, 1.058814241163868, 1.0569804454939222, 1.0469430159658653, 1.045651105122067, 1.0496488514553723, 1.0556921232913588, 1.0637916865537205, 1.0669066271437653, 1.0750923177957121, 1.073150862888784, 1.0679616876661993, 1.069282307639858, 1.0741054414567013, 1.0765600720599158, 1.0815339288085357, 1.0817241267938726, 1.07804218088905, 1.0710012667903557, 1.0748375242681854, 1.0681985379875611, 1.0712201739055536, 1.0785553565853356, 1.083611752082309, 1.0779094011634376, 1.0858725960589544, 1.0841177504961301, 1.0813221989758015, 1.0695514557323162, 1.0599267199460263, 1.0522075526543377, 1.020875126051024, 1.03416386453597, 1.0349569542484136, 1.054375091958931, 1.047398773402426, 1.0344976081706183, 1.0501512612279618, 1.019389428580656, 1.021901477443596, 1.036643615627814, 1.049193094018811, 1.0408889782061812, 1.0494730080349683, 1.0489418891325168, 1.0217256340231902, 1.0329473151580608, 1.029638587941448, 1.0363780561765903, 1.049526837653459, 1.0502015022052194, 1.0429560355562564, 1.0542638440807148, 1.0679796308723621, 1.068952152646443, 1.0688516706919267, 1.0691961802502719, 1.0769261134656594, 1.0800266994907726, 1.079244375702028, 1.0758602870195253, 1.0786378953336904, 1.0790075253806657, 1.079029057228062, 1.0737465773334236, 1.073642506737674, 1.0646063081135588, 1.0711627556458303, 1.0685609907520708, 1.062880171680597, 1.0682451903235883, 1.0551502384652092, 1.036259631015909, 1.0445206831337452, 1.0593704805549475, 1.0546262968452251, 1.0382154404877677, 1.0476679214948843, 1.0543894465238626, 1.0659233394459848, 1.0644448192580849, 1.0750420768184539, 1.0728924807200249, 1.0758566983782938, 1.0716400449297887, 1.079003936739433, 1.0751533246966691, 1.0782144356682235, 1.0802850816595313, 1.0846847558109078, 1.0907387935705897, 1.0898308673387003, 1.0933764448766767, 1.0900713063012961, 1.1006039683194746, 1.1046806647599023, 1.1033708107099407, 1.1041459572162198, 1.1071604158517454, 1.1099954424256337, 1.107817137197343, 1.1095504509127705, 1.1103399519839807, 1.1112694100632678, 1.1198211421209592, 1.1203845587945032, 1.1197206601664416, 1.115514772641634, 1.1137491611551111, 1.1161714939872307, 1.1245509712657495, 1.127019956433895, 1.1317246650900565, 1.127185033930602, 1.117456227548563, 1.1100385061204283, 1.1170578883717257, 1.1187337838274296, 1.1289542340583587, 1.1253835360317517, 1.12414904344768, 1.127418295610733, 1.1370860950918158, 1.137168633840168, 1.145296906232393, 1.1456808908443001, 1.1451856583541768, 1.1502922948284098, 1.1559802911823494, 1.1569815220862931, 1.1567554376886282, 1.1626874616463974, 1.1627269366999582, 1.156005411670978, 1.1594110322008775, 1.1691254840179865, 1.1608716091826161, 1.1649734261116704, 1.1617077625898509, 1.1674029362262557, 1.175172344495204, 1.171816964942564, 1.179991889670813, 1.1782047463368952, 1.1804081720538158, 1.1902841127263988, 1.1948811621455766, 1.19171239193704, 1.192056901495386, 1.1934169965226071, 1.182625952335668, 1.1640224361849865, 1.175724995245051, 1.1747058211349435, 1.178387767039766, 1.157523406912441, 1.1659208273971218, 1.1833867442770145, 1.1967006032505905, 1.2006804063777323, 1.1941957316701175, 1.2029448389956117, 1.2049760099333582, 1.212763361408469, 1.2107860200892133, 1.2130181549359955, 1.2094761660392528, 1.215167751034425, 1.2105312265616863, 1.197798727467819, 1.1576561866380535, 1.1226023390763549, 1.118360565139222, 1.0689700958526067, 1.0601635702673902, 1.108972679674295, 1.0778017419264536, 1.123287769551815, 1.0851835769422622, 1.0666769541048673, 0.9856418464276875, 1.0343289420326776, 0.9837829302691117, 0.8902126987658654, 0.9728878154864223, 0.8562964504749573, 0.9076355519509653, 0.8605920540305818, 0.864643629982379, 0.8271530950236305, 0.8271530950236305, 0.9047629319943592, 0.9151993903265842, 0.972320792271744, 0.9395659141904464, 0.9710564391900507, 0.9555071144485223, 0.9133287392758916, 0.9341794743073266, 0.9200386832620701, 0.9847462036973905, 0.9831676108146921, 1.0166507858465543, 1.0313793901666322, 1.0209577195897508, 1.0521709741767027, 1.028991167678989, 1.0349765116534384, 1.0627072498574806, 1.0437049842437265, 1.0116894939295, 1.0348877851213902, 1.0343295473572507, 1.0487254271821451, 1.0641564498809417, 1.058577769178383, 1.0867188675931485, 1.0767075572269915, 1.046496173064424, 1.0509435904833626, 1.0604447232902392, 1.0530434517418463, 1.0651583203053243, 1.0831291399840133, 1.0832733205985925, 1.0610658090145808, 1.0425367515717516, 1.054551802786675, 1.0586923742822791, 1.0920424595160694, 1.0805930399429562, 1.098586041254658, 1.0900461125449727, 1.0926117880967143, 1.1060390699467442, 1.1224386906204045, 1.1200726497657738, 1.125462786587731, 1.1296846907377114, 1.1389603102756332, 1.1545059380783258, 1.1506167584235256, 1.1807763854423985, 1.1949948122031975, 1.1856748293992527, 1.179375245623797, 1.1098580077636728, 1.1243537049371215, 1.1336995663129146, 1.1551972656405376, 1.1510382094507563, 1.1517221431352989, 1.1452155307850624, 1.152653771721809, 1.157618760577698, 1.1276883437666176, 1.1400472102932289, 1.1124273802542475, 1.1287641529677068, 1.1461582501880796, 1.1519143839547366, 1.157145552406772, 1.17552303535735, 1.1628055657637109, 1.1719074291763674, 1.1652936055999081, 1.177489806817764, 1.1664655352107174, 1.1821035864842935, 1.1928394968621807, 1.1887765610821186, 1.1921629570553112, 1.2021853582379736, 1.2042038868420812, 1.2111245563418755, 1.1962037112023596, 1.188798742715132, 1.19759006326562, 1.1898375825278673, 1.2046253378693117, 1.2001076786125005, 1.2093130563125492, 1.2179971656368116, 1.222396522850891, 1.2302562148148684, 1.2381639669837055, 1.238947718016802, 1.2423452048064978, 1.232444802605402, 1.2496947192111945, 1.2471364375371263, 1.246922015084674, 1.250301017180195, 1.2531809325329397, 1.2476614028517474, 1.251602339650242, 1.255909273393437, 1.268523228699688, 1.2730852512225235, 1.2860652034734747, 1.2882168218756551, 1.2968898403834106, 1.2940431974801847, 1.3037809343725242, 1.3238146459213442, 1.2773145492501763, 1.2669261511228131, 1.2317608689208595, 1.2565747223838017, 1.2344781189648508, 1.2351361740775444, 1.2508740426996745, 1.2574028366829215, 1.2515949457725697, 1.241066063969463, 1.2271877555815194, 1.2129878135148966, 1.2257459494357272, 1.1966695254956152, 1.2002444653494098, 1.2194204870884253, 1.2390660200595331, 1.2331028577180967, 1.2432805303318453, 1.2498610814587867, 1.237890393509888, 1.2601385714210895, 1.2425300517482651, 1.2641460531186215, 1.2742719685886732, 1.2854773901986516, 1.3065795170708925, 1.2983390404068735, 1.2897399606758242, 1.287769492276576, 1.287943248401839, 1.2669113633674707, 1.2729004042807557, 1.2701055185212233, 1.2767341298530233, 1.2811334870671027, 1.2573178070897084, 1.253513657028122, 1.2092797838630316, 1.2237274208316207, 1.2088842114076466, 1.2237754810364796, 1.2455578446544269, 1.2730187063234861, 1.297791893459239, 1.2974185026368688, 1.312598133494859, 1.3107607548936853, 1.3207905499540196, 1.3076109630059585, 1.325408026559385, 1.3408464431358507, 1.3344211634399938, 1.3189901407411975, 1.324195430621386, 1.315200778434953, 1.3226131407998514, 1.3439888411459078, 1.3418594043767407, 1.3450757411635053, 1.3388944594307812, 1.3539853637567247, 1.3564105556327204, 1.3555639566394226, 1.3675420384659922, 1.364895030259874, 1.368699180321459, 1.3578190893289943, 1.3560741341987035, 1.354358754579095, 1.3484547432590237, 1.3658784159900788, 1.3682999109272407, 1.376178087585395, 1.3713461885275775, 1.3659893241551397, 1.3631574690072534, 1.3641741271869787, 1.3689986323671248, 1.3809397448053402, 1.3778638916943189, 1.3797123611119995, 1.388596105133372, 1.3681076701078017, 1.377797346795284, 1.3856644326369318, 1.4062378972557148, 1.4139608024827823, 1.4046925768225331, 1.4052766931585197, 1.4084745452511072, 1.403187922716542, 1.393098976634842, 1.404433791104058, 1.4240053852984582, 1.424456411836371, 1.4201679627873527, 1.4253030108296694, 1.4231809679381717, 1.3866367275506297, 1.4001712206268866, 1.373131809985058, 1.3951729593214799, 1.4145634035129475, 1.4159904219033952, 1.431358596641991, 1.4369372773445503, 1.4475696734350465, 1.4459578081028304, 1.4454587213600563, 1.4478617316030418, 1.454682583754282, 1.4538544694551603, 1.4533886551619057, 1.4469707693437182, 1.4442867917492483, 1.4331183395276228, 1.4349187487404425, 1.4512074612490433, 1.4156835759800617, 1.4089588442385406, 1.442478988658757, 1.430822540510863, 1.4121271208204444, 1.3931803092892192]}],\n",
              "                        {\"template\": {\"data\": {\"bar\": [{\"error_x\": {\"color\": \"#2a3f5f\"}, \"error_y\": {\"color\": \"#2a3f5f\"}, \"marker\": {\"line\": {\"color\": \"#E5ECF6\", \"width\": 0.5}}, \"type\": \"bar\"}], \"barpolar\": [{\"marker\": {\"line\": {\"color\": \"#E5ECF6\", \"width\": 0.5}}, \"type\": \"barpolar\"}], \"carpet\": [{\"aaxis\": {\"endlinecolor\": \"#2a3f5f\", \"gridcolor\": \"white\", \"linecolor\": \"white\", \"minorgridcolor\": \"white\", \"startlinecolor\": \"#2a3f5f\"}, \"baxis\": {\"endlinecolor\": \"#2a3f5f\", \"gridcolor\": \"white\", \"linecolor\": \"white\", \"minorgridcolor\": \"white\", \"startlinecolor\": \"#2a3f5f\"}, \"type\": \"carpet\"}], \"choropleth\": [{\"colorbar\": {\"outlinewidth\": 0, \"ticks\": \"\"}, \"type\": \"choropleth\"}], \"contour\": [{\"colorbar\": {\"outlinewidth\": 0, \"ticks\": \"\"}, \"colorscale\": [[0.0, \"#0d0887\"], [0.1111111111111111, \"#46039f\"], [0.2222222222222222, \"#7201a8\"], [0.3333333333333333, \"#9c179e\"], [0.4444444444444444, \"#bd3786\"], [0.5555555555555556, \"#d8576b\"], [0.6666666666666666, \"#ed7953\"], [0.7777777777777778, \"#fb9f3a\"], [0.8888888888888888, \"#fdca26\"], [1.0, \"#f0f921\"]], \"type\": \"contour\"}], \"contourcarpet\": [{\"colorbar\": {\"outlinewidth\": 0, \"ticks\": \"\"}, \"type\": \"contourcarpet\"}], \"heatmap\": [{\"colorbar\": {\"outlinewidth\": 0, \"ticks\": \"\"}, \"colorscale\": [[0.0, \"#0d0887\"], [0.1111111111111111, \"#46039f\"], [0.2222222222222222, \"#7201a8\"], [0.3333333333333333, \"#9c179e\"], [0.4444444444444444, \"#bd3786\"], [0.5555555555555556, \"#d8576b\"], [0.6666666666666666, \"#ed7953\"], [0.7777777777777778, \"#fb9f3a\"], [0.8888888888888888, \"#fdca26\"], [1.0, \"#f0f921\"]], \"type\": \"heatmap\"}], \"heatmapgl\": [{\"colorbar\": {\"outlinewidth\": 0, \"ticks\": \"\"}, \"colorscale\": [[0.0, \"#0d0887\"], [0.1111111111111111, \"#46039f\"], [0.2222222222222222, \"#7201a8\"], [0.3333333333333333, \"#9c179e\"], [0.4444444444444444, \"#bd3786\"], [0.5555555555555556, \"#d8576b\"], [0.6666666666666666, \"#ed7953\"], [0.7777777777777778, \"#fb9f3a\"], [0.8888888888888888, \"#fdca26\"], [1.0, \"#f0f921\"]], \"type\": \"heatmapgl\"}], \"histogram\": [{\"marker\": {\"colorbar\": {\"outlinewidth\": 0, \"ticks\": \"\"}}, \"type\": \"histogram\"}], \"histogram2d\": [{\"colorbar\": {\"outlinewidth\": 0, \"ticks\": \"\"}, \"colorscale\": [[0.0, \"#0d0887\"], [0.1111111111111111, \"#46039f\"], [0.2222222222222222, \"#7201a8\"], [0.3333333333333333, \"#9c179e\"], [0.4444444444444444, \"#bd3786\"], [0.5555555555555556, \"#d8576b\"], [0.6666666666666666, \"#ed7953\"], [0.7777777777777778, \"#fb9f3a\"], [0.8888888888888888, \"#fdca26\"], [1.0, \"#f0f921\"]], \"type\": \"histogram2d\"}], \"histogram2dcontour\": [{\"colorbar\": {\"outlinewidth\": 0, \"ticks\": \"\"}, \"colorscale\": [[0.0, \"#0d0887\"], [0.1111111111111111, \"#46039f\"], [0.2222222222222222, \"#7201a8\"], [0.3333333333333333, \"#9c179e\"], [0.4444444444444444, \"#bd3786\"], [0.5555555555555556, \"#d8576b\"], [0.6666666666666666, \"#ed7953\"], [0.7777777777777778, \"#fb9f3a\"], [0.8888888888888888, \"#fdca26\"], [1.0, \"#f0f921\"]], \"type\": \"histogram2dcontour\"}], \"mesh3d\": [{\"colorbar\": {\"outlinewidth\": 0, \"ticks\": \"\"}, \"type\": \"mesh3d\"}], \"parcoords\": [{\"line\": {\"colorbar\": {\"outlinewidth\": 0, \"ticks\": \"\"}}, \"type\": \"parcoords\"}], \"pie\": [{\"automargin\": true, \"type\": \"pie\"}], \"scatter\": [{\"marker\": {\"colorbar\": {\"outlinewidth\": 0, \"ticks\": \"\"}}, \"type\": \"scatter\"}], \"scatter3d\": [{\"line\": {\"colorbar\": {\"outlinewidth\": 0, \"ticks\": \"\"}}, \"marker\": {\"colorbar\": {\"outlinewidth\": 0, \"ticks\": \"\"}}, \"type\": \"scatter3d\"}], \"scattercarpet\": [{\"marker\": {\"colorbar\": {\"outlinewidth\": 0, \"ticks\": \"\"}}, \"type\": \"scattercarpet\"}], \"scattergeo\": [{\"marker\": {\"colorbar\": {\"outlinewidth\": 0, \"ticks\": \"\"}}, \"type\": \"scattergeo\"}], \"scattergl\": [{\"marker\": {\"colorbar\": {\"outlinewidth\": 0, \"ticks\": \"\"}}, \"type\": \"scattergl\"}], \"scattermapbox\": [{\"marker\": {\"colorbar\": {\"outlinewidth\": 0, \"ticks\": \"\"}}, \"type\": \"scattermapbox\"}], \"scatterpolar\": [{\"marker\": {\"colorbar\": {\"outlinewidth\": 0, \"ticks\": \"\"}}, \"type\": \"scatterpolar\"}], \"scatterpolargl\": [{\"marker\": {\"colorbar\": {\"outlinewidth\": 0, \"ticks\": \"\"}}, \"type\": \"scatterpolargl\"}], \"scatterternary\": [{\"marker\": {\"colorbar\": {\"outlinewidth\": 0, \"ticks\": \"\"}}, \"type\": \"scatterternary\"}], \"surface\": [{\"colorbar\": {\"outlinewidth\": 0, \"ticks\": \"\"}, \"colorscale\": [[0.0, \"#0d0887\"], [0.1111111111111111, \"#46039f\"], [0.2222222222222222, \"#7201a8\"], [0.3333333333333333, \"#9c179e\"], [0.4444444444444444, \"#bd3786\"], [0.5555555555555556, \"#d8576b\"], [0.6666666666666666, \"#ed7953\"], [0.7777777777777778, \"#fb9f3a\"], [0.8888888888888888, \"#fdca26\"], [1.0, \"#f0f921\"]], \"type\": \"surface\"}], \"table\": [{\"cells\": {\"fill\": {\"color\": \"#EBF0F8\"}, \"line\": {\"color\": \"white\"}}, \"header\": {\"fill\": {\"color\": \"#C8D4E3\"}, \"line\": {\"color\": \"white\"}}, \"type\": \"table\"}]}, \"layout\": {\"annotationdefaults\": {\"arrowcolor\": \"#2a3f5f\", \"arrowhead\": 0, \"arrowwidth\": 1}, \"coloraxis\": {\"colorbar\": {\"outlinewidth\": 0, \"ticks\": \"\"}}, \"colorscale\": {\"diverging\": [[0, \"#8e0152\"], [0.1, \"#c51b7d\"], [0.2, \"#de77ae\"], [0.3, \"#f1b6da\"], [0.4, \"#fde0ef\"], [0.5, \"#f7f7f7\"], [0.6, \"#e6f5d0\"], [0.7, \"#b8e186\"], [0.8, \"#7fbc41\"], [0.9, \"#4d9221\"], [1, \"#276419\"]], \"sequential\": [[0.0, \"#0d0887\"], [0.1111111111111111, \"#46039f\"], [0.2222222222222222, \"#7201a8\"], [0.3333333333333333, \"#9c179e\"], [0.4444444444444444, \"#bd3786\"], [0.5555555555555556, \"#d8576b\"], [0.6666666666666666, \"#ed7953\"], [0.7777777777777778, \"#fb9f3a\"], [0.8888888888888888, \"#fdca26\"], [1.0, \"#f0f921\"]], \"sequentialminus\": [[0.0, \"#0d0887\"], [0.1111111111111111, \"#46039f\"], [0.2222222222222222, \"#7201a8\"], [0.3333333333333333, \"#9c179e\"], [0.4444444444444444, \"#bd3786\"], [0.5555555555555556, \"#d8576b\"], [0.6666666666666666, \"#ed7953\"], [0.7777777777777778, \"#fb9f3a\"], [0.8888888888888888, \"#fdca26\"], [1.0, \"#f0f921\"]]}, \"colorway\": [\"#636efa\", \"#EF553B\", \"#00cc96\", \"#ab63fa\", \"#FFA15A\", \"#19d3f3\", \"#FF6692\", \"#B6E880\", \"#FF97FF\", \"#FECB52\"], \"font\": {\"color\": \"#2a3f5f\"}, \"geo\": {\"bgcolor\": \"white\", \"lakecolor\": \"white\", \"landcolor\": \"#E5ECF6\", \"showlakes\": true, \"showland\": true, \"subunitcolor\": \"white\"}, \"hoverlabel\": {\"align\": \"left\"}, \"hovermode\": \"closest\", \"mapbox\": {\"style\": \"light\"}, \"paper_bgcolor\": \"white\", \"plot_bgcolor\": \"#E5ECF6\", \"polar\": {\"angularaxis\": {\"gridcolor\": \"white\", \"linecolor\": \"white\", \"ticks\": \"\"}, \"bgcolor\": \"#E5ECF6\", \"radialaxis\": {\"gridcolor\": \"white\", \"linecolor\": \"white\", \"ticks\": \"\"}}, \"scene\": {\"xaxis\": {\"backgroundcolor\": \"#E5ECF6\", \"gridcolor\": \"white\", \"gridwidth\": 2, \"linecolor\": \"white\", \"showbackground\": true, \"ticks\": \"\", \"zerolinecolor\": \"white\"}, \"yaxis\": {\"backgroundcolor\": \"#E5ECF6\", \"gridcolor\": \"white\", \"gridwidth\": 2, \"linecolor\": \"white\", \"showbackground\": true, \"ticks\": \"\", \"zerolinecolor\": \"white\"}, \"zaxis\": {\"backgroundcolor\": \"#E5ECF6\", \"gridcolor\": \"white\", \"gridwidth\": 2, \"linecolor\": \"white\", \"showbackground\": true, \"ticks\": \"\", \"zerolinecolor\": \"white\"}}, \"shapedefaults\": {\"line\": {\"color\": \"#2a3f5f\"}}, \"ternary\": {\"aaxis\": {\"gridcolor\": \"white\", \"linecolor\": \"white\", \"ticks\": \"\"}, \"baxis\": {\"gridcolor\": \"white\", \"linecolor\": \"white\", \"ticks\": \"\"}, \"bgcolor\": \"#E5ECF6\", \"caxis\": {\"gridcolor\": \"white\", \"linecolor\": \"white\", \"ticks\": \"\"}}, \"title\": {\"x\": 0.05}, \"xaxis\": {\"automargin\": true, \"gridcolor\": \"white\", \"linecolor\": \"white\", \"ticks\": \"\", \"title\": {\"standoff\": 15}, \"zerolinecolor\": \"white\", \"zerolinewidth\": 2}, \"yaxis\": {\"automargin\": true, \"gridcolor\": \"white\", \"linecolor\": \"white\", \"ticks\": \"\", \"title\": {\"standoff\": 15}, \"zerolinecolor\": \"white\", \"zerolinewidth\": 2}}}, \"title\": {\"text\": \"SPY vs Quantile Regression Portfolio Returns\"}, \"xaxis\": {\"title\": {\"text\": \"Date\"}}, \"yaxis\": {\"title\": {\"text\": \"Returns\"}}},\n",
              "                        {\"responsive\": true}\n",
              "                    ).then(function(){\n",
              "                            \n",
              "var gd = document.getElementById('75b13db2-c76d-423d-ac26-207ad5561a19');\n",
              "var x = new MutationObserver(function (mutations, observer) {{\n",
              "        var display = window.getComputedStyle(gd).display;\n",
              "        if (!display || display === 'none') {{\n",
              "            console.log([gd, 'removed!']);\n",
              "            Plotly.purge(gd);\n",
              "            observer.disconnect();\n",
              "        }}\n",
              "}});\n",
              "\n",
              "// Listen for the removal of the full notebook cells\n",
              "var notebookContainer = gd.closest('#notebook-container');\n",
              "if (notebookContainer) {{\n",
              "    x.observe(notebookContainer, {childList: true});\n",
              "}}\n",
              "\n",
              "// Listen for the clearing of the current output cell\n",
              "var outputEl = gd.closest('.output');\n",
              "if (outputEl) {{\n",
              "    x.observe(outputEl, {childList: true});\n",
              "}}\n",
              "\n",
              "                        })\n",
              "                };\n",
              "                \n",
              "            </script>\n",
              "        </div>\n",
              "</body>\n",
              "</html>"
            ]
          },
          "metadata": {
            "tags": []
          }
        }
      ]
    },
    {
      "cell_type": "markdown",
      "metadata": {
        "id": "-sz5NPT6_mSa"
      },
      "source": [
        "누적수익률 비교"
      ]
    },
    {
      "cell_type": "code",
      "metadata": {
        "colab": {
          "base_uri": "https://localhost:8080/"
        },
        "id": "Sg5R1c4L_n6J",
        "outputId": "c486eaec-0892-476f-afe4-2621a95c74df"
      },
      "source": [
        "# compare cumulative returns between SPY VS Quntile\n",
        "spy_cr_returns = spy.returns.sum()\n",
        "performance_cr_returns = performance.returns.sum()\n",
        "\n",
        "print('spy_cr_returns = ', spy_cr_returns)\n",
        "print('performance_cr_returns = ', performance_cr_returns)"
      ],
      "execution_count": null,
      "outputs": [
        {
          "output_type": "stream",
          "text": [
            "spy.returns[0] =  0.9987449130073359\n",
            "performance.returns[0] =  0.9987260323623671\n",
            "spy_cr_returns =  812.7557424962888\n",
            "performance_cr_returns =  823.2347653979234\n"
          ],
          "name": "stdout"
        }
      ]
    },
    {
      "cell_type": "markdown",
      "metadata": {
        "id": "lCJfO6g3e1Bq"
      },
      "source": [
        "Sharpe Ratio"
      ]
    },
    {
      "cell_type": "code",
      "metadata": {
        "id": "smD9jTDqe590",
        "colab": {
          "base_uri": "https://localhost:8080/"
        },
        "outputId": "e2fe97de-bb66-4424-e379-6813a7f8406b"
      },
      "source": [
        "daily_spy_returns = spy.returns.pct_change(1)\n",
        "daily_perf_returns = performance.returns.pct_change(1)\n",
        "\n",
        "spy_sharpe_ratio = np.mean(daily_spy_returns) / np.std(daily_spy_returns)\n",
        "performance_sharpe_ratio = np.mean(daily_perf_returns) / np.std(daily_perf_returns)\n",
        "\n",
        "print('spy_sharpe_ratio = ', spy_sharpe_ratio)\n",
        "print('performance_sharpe_ratio = ', performance_sharpe_ratio)"
      ],
      "execution_count": null,
      "outputs": [
        {
          "output_type": "stream",
          "text": [
            "spy_sharpe_ratio =  0.03526230302643303\n",
            "performance_sharpe_ratio =  0.03774778740326644\n"
          ],
          "name": "stdout"
        }
      ]
    },
    {
      "cell_type": "markdown",
      "metadata": {
        "id": "7KXbL9XtNsZV"
      },
      "source": [
        "# References\n",
        "[1] https://m.blog.naver.com/sendmethere/221333164258  \n",
        "[2] https://hipster4020.tistory.com/80  \n",
        "[3] http://elearning.kocw.net/contents4/document/lec/2013/Konkuk/Leegiseong/9.pdf  \n",
        "[4] https://www.youtube.com/watch?v=JPoXTzGgsYU  \n",
        "[5] https://www.statology.org/f-test-python/. \n",
        "  \n",
        "# Codes\n",
        "[1] https://github.com/RodolfoLSS/stock-prediction-pytorch/blob/master/stock-prediction-pytorch.ipynb.   \n",
        "**Quantile Loss**. \n",
        "\n",
        "[2] https://github.com/maxmarketit/Auto-PyTorch/blob/develop/examples/quantiles/Quantiles.ipynb.   \n",
        "\n",
        "[3] https://github.com/ceshine/quantile-regression-tensorflow/blob/master/notebooks/03-sklearn-example-pytorch.ipynb.   \n",
        "\n",
        "[4] https://www.kaggle.com/carlossouza/quantile-regression-pytorch-tabular-data-only"
      ]
    }
  ]
}